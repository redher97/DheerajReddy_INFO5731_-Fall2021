{
  "cells": [
    {
      "cell_type": "markdown",
      "metadata": {
        "id": "view-in-github",
        "colab_type": "text"
      },
      "source": [
        "<a href=\"https://colab.research.google.com/github/redher97/DheerajReddy_INFO5731_-Fall2021/blob/main/In_class_exercis3_.ipynb\" target=\"_parent\"><img src=\"https://colab.research.google.com/assets/colab-badge.svg\" alt=\"Open In Colab\"/></a>"
      ]
    },
    {
      "cell_type": "markdown",
      "metadata": {
        "id": "Ev1DrVQaCX4M"
      },
      "source": [
        "## The third In-class-exercise (9/29/2021, 40 points in total)"
      ]
    },
    {
      "cell_type": "markdown",
      "metadata": {
        "id": "swHauksfCX4Q"
      },
      "source": [
        "The purpose of this exercise is to understand text representation."
      ]
    },
    {
      "cell_type": "markdown",
      "metadata": {
        "id": "pRRBgZCWCX4S"
      },
      "source": [
        "Question 1 (10 points): Describe an interesting text classification or text mining task and explain what kind of features might be useful for you to build the machine learning model. List your features and explain why these features might be helpful. You need to list at least five different types of features."
      ]
    },
    {
      "cell_type": "code",
      "execution_count": null,
      "metadata": {
        "id": "cb9vHF5TCX4S",
        "outputId": "e84a6567-9783-4f5d-b0ef-56ae1af8bde9"
      },
      "outputs": [
        {
          "name": "stderr",
          "output_type": "stream",
          "text": [
            "[nltk_data] Downloading package stopwords to\n",
            "[nltk_data]     C:\\Users\\reddy\\AppData\\Roaming\\nltk_data...\n",
            "[nltk_data]   Package stopwords is already up-to-date!\n",
            "[nltk_data] Downloading package wordnet to\n",
            "[nltk_data]     C:\\Users\\reddy\\AppData\\Roaming\\nltk_data...\n",
            "[nltk_data]   Package wordnet is already up-to-date!\n",
            "[nltk_data] Downloading package punkt to\n",
            "[nltk_data]     C:\\Users\\reddy\\AppData\\Roaming\\nltk_data...\n",
            "[nltk_data]   Package punkt is already up-to-date!\n"
          ]
        },
        {
          "data": {
            "text/plain": [
              "True"
            ]
          },
          "execution_count": 43,
          "metadata": {},
          "output_type": "execute_result"
        }
      ],
      "source": [
        "import string\n",
        "import numpy as np\n",
        "punctuations= string.punctuation\n",
        "import nltk\n",
        "nltk.download('stopwords')\n",
        "nltk.download('wordnet')\n",
        "from nltk.corpus import stopwords\n",
        "stopword_list = stopwords.words(\"english\")\n",
        "from nltk.stem.wordnet import WordNetLemmatizer\n",
        "lem = WordNetLemmatizer()\n",
        "from nltk.tokenize import word_tokenize\n",
        "nltk.download('punkt')"
      ]
    },
    {
      "cell_type": "code",
      "execution_count": null,
      "metadata": {
        "id": "vlyD4m9XCX4U",
        "outputId": "98411868-3797-4400-ebf1-c0e4b25732f4"
      },
      "outputs": [
        {
          "data": {
            "text/plain": [
              "'\\nPlease write you answer here:\\nTitle:Analyzing the success status of shang chi movie based on imdb reviews \\nThe features that are going to help us in building this ML model are reviews,time of review,author,title,rating.\\n\\nReviews have been selected beacuse it has sole contribution for analysing shang chi movie based on text.\\nName and time of review helps in knowing who has given the review and when.\\nTitle helps in summarising the review for brief explanation.\\nrating help in quantifying success rate of the movie with numerics.\\n\\n\\n\\n\\n'"
            ]
          },
          "execution_count": 44,
          "metadata": {},
          "output_type": "execute_result"
        }
      ],
      "source": [
        "# Your answer here (no code for this question, write down your answer as detail as possible for the above questions):\n",
        "\n",
        "'''\n",
        "Please write you answer here:\n",
        "Title:Analyzing the success status of shang chi movie based on imdb reviews \n",
        "The features that are going to help us in building this ML model are reviews,time of review,author,title,rating.\n",
        "\n",
        "1.Reviews have been selected beacuse it has sole contribution for analysing shang chi movie based on text.\n",
        "2.Name and time of review helps in knowing who has given the review and when.\n",
        "3.Title helps in summarising the review for brief explanation.\n",
        "4.rating help in quantifying success rate of the movie with numerics.\n",
        "\n",
        "\n",
        "\n",
        "\n",
        "'''"
      ]
    },
    {
      "cell_type": "markdown",
      "metadata": {
        "id": "DCwNHjo5CX4V"
      },
      "source": [
        "Question 2 (20 points): Write python code to extract these features you discussed above. You can collect a few sample text data for the feature extraction. "
      ]
    },
    {
      "cell_type": "code",
      "execution_count": null,
      "metadata": {
        "id": "s3I3bzL9CX4V"
      },
      "outputs": [],
      "source": [
        "# You code here (Please add comments in the code):\n",
        "import urllib.request\n",
        "site = \"https://www.imdb.com/title/tt9376612/reviews?ref_=tt_urv\"\n",
        "page = urllib.request.urlopen(site) # http request\n",
        "from bs4 import BeautifulSoup\n",
        "soup = BeautifulSoup(page) #web handle\n",
        "reviews= soup.find_all(class_=\"lister-item-content\")"
      ]
    },
    {
      "cell_type": "code",
      "execution_count": null,
      "metadata": {
        "id": "1o1EBT-aCX4W"
      },
      "outputs": [],
      "source": [
        "titles=[]\n",
        "dates=[]\n",
        "text=[]\n",
        "rating=[] \n",
        "for a in soup.findAll('a', class_='title'): # finding title tag\n",
        "            titles.append(a.text)\n",
        "for a in soup.findAll(class_='display-name-date'): # finding name tag\n",
        "            dates.append(a.text)\n",
        "for a in soup.findAll(class_='content'): # finding text tag\n",
        "            text.append(a.text)\n",
        "for a in soup.findAll(class_='ipl-ratings-bar'): # finding rating tag\n",
        "            rating.append(a.text)\n",
        "titles_clean = []\n",
        "dates_clean=[]\n",
        "text_clean=[]\n",
        "rating_clean=[]\n",
        "for element in titles:\n",
        "    titles_clean.append(element.strip()) # cleaning data\n",
        "for element in dates:\n",
        "    dates_clean.append(element.strip()) # cleaning data\n",
        "for element in text:\n",
        "    text_clean.append(element.strip()) # cleaning data\n",
        "for element in rating:\n",
        "    rating_clean.append(element.strip()) # cleaning data"
      ]
    },
    {
      "cell_type": "code",
      "execution_count": null,
      "metadata": {
        "id": "LkB5uVODCX4X",
        "outputId": "a6b76b8e-8eae-4e0a-901e-d23d573001d8"
      },
      "outputs": [
        {
          "data": {
            "text/html": [
              "<div>\n",
              "<style scoped>\n",
              "    .dataframe tbody tr th:only-of-type {\n",
              "        vertical-align: middle;\n",
              "    }\n",
              "\n",
              "    .dataframe tbody tr th {\n",
              "        vertical-align: top;\n",
              "    }\n",
              "\n",
              "    .dataframe thead th {\n",
              "        text-align: right;\n",
              "    }\n",
              "</style>\n",
              "<table border=\"1\" class=\"dataframe\">\n",
              "  <thead>\n",
              "    <tr style=\"text-align: right;\">\n",
              "      <th></th>\n",
              "      <th>titles</th>\n",
              "      <th>user name and dates</th>\n",
              "      <th>ratings</th>\n",
              "      <th>text</th>\n",
              "    </tr>\n",
              "  </thead>\n",
              "  <tbody>\n",
              "    <tr>\n",
              "      <th>0</th>\n",
              "      <td>A visual feast.</td>\n",
              "      <td>MartinHafer1 December 2021</td>\n",
              "      <td>7/10</td>\n",
              "      <td>big fan many many marvel film reason saw one o...</td>\n",
              "    </tr>\n",
              "    <tr>\n",
              "      <th>1</th>\n",
              "      <td>Next Phase</td>\n",
              "      <td>boblipton11 September 2021</td>\n",
              "      <td>6/10</td>\n",
              "      <td>okay movie simu liu son seemingly immortal mas...</td>\n",
              "    </tr>\n",
              "    <tr>\n",
              "      <th>2</th>\n",
              "      <td>Bus Boy</td>\n",
              "      <td>nogodnomasters11 September 2021</td>\n",
              "      <td>10/10</td>\n",
              "      <td>shaun simu liu katy awkwafina park valet under...</td>\n",
              "    </tr>\n",
              "    <tr>\n",
              "      <th>3</th>\n",
              "      <td>Wow!</td>\n",
              "      <td>Sleepin_Dragon9 September 2021</td>\n",
              "      <td>9/10</td>\n",
              "      <td>expect vision film along line snake eye date b...</td>\n",
              "    </tr>\n",
              "    <tr>\n",
              "      <th>4</th>\n",
              "      <td>Precious ... ten times</td>\n",
              "      <td>kosmasp12 September 2021</td>\n",
              "      <td>9/10</td>\n",
              "      <td>course riff tease make fun certain thing summa...</td>\n",
              "    </tr>\n",
              "  </tbody>\n",
              "</table>\n",
              "</div>"
            ],
            "text/plain": [
              "                   titles              user name and dates ratings  \\\n",
              "0         A visual feast.       MartinHafer1 December 2021    7/10   \n",
              "1              Next Phase       boblipton11 September 2021    6/10   \n",
              "2                 Bus Boy  nogodnomasters11 September 2021   10/10   \n",
              "3                    Wow!   Sleepin_Dragon9 September 2021    9/10   \n",
              "4  Precious ... ten times         kosmasp12 September 2021    9/10   \n",
              "\n",
              "                                                text  \n",
              "0  big fan many many marvel film reason saw one o...  \n",
              "1  okay movie simu liu son seemingly immortal mas...  \n",
              "2  shaun simu liu katy awkwafina park valet under...  \n",
              "3  expect vision film along line snake eye date b...  \n",
              "4  course riff tease make fun certain thing summa...  "
            ]
          },
          "execution_count": 47,
          "metadata": {},
          "output_type": "execute_result"
        }
      ],
      "source": [
        "import pandas as pd\n",
        "def clean_text(text,stop_words=True):\n",
        "    cleaned_text = text.lower() #preprocessing \n",
        "    cleaned_text = \"\".join(c for c in cleaned_text if c not in punctuations) #preprocessing \n",
        "    words = cleaned_text.split() \n",
        "    if stop_words==True:\n",
        "        words = [w for w in words if w not in stopword_list if w != '...'] #preprocessing \n",
        "        words = [w for w in words if w.isdigit() != True and w !='...']\n",
        "        words = [lem.lemmatize(word, \"v\") for word in words]\n",
        "        words = [lem.lemmatize(word, \"n\") for word in words] #preprocessing \n",
        "        cleaned_text = \" \".join(words)\n",
        "    return cleaned_text\n",
        "\n",
        "reviews = pd.DataFrame({ # data frame creation\n",
        "        \"titles\": titles_clean[:21],\n",
        "        \"user name and dates\":dates_clean[:21] ,\n",
        "        \"ratings\":rating_clean[:21] ,\n",
        "        \"text\":text_clean[:21] })\n",
        "reviews['text'] = reviews['text'].apply(clean_text)\n",
        "reviews.head()"
      ]
    },
    {
      "cell_type": "markdown",
      "metadata": {
        "id": "fzzRDEPKCX4X"
      },
      "source": [
        "Question 3 (10 points): Use any of the feature selection methods mentioned in this paper \"Deng, X., Li, Y., Weng, J., & Zhang, J. (2019). Feature selection for text classification: A review. Multimedia Tools & Applications, 78(3).\" Select the most important features you extracted above, rank the features based on their importance in the descending order. "
      ]
    },
    {
      "cell_type": "code",
      "execution_count": null,
      "metadata": {
        "id": "XJlMA9ZtCX4Y",
        "outputId": "e441cad4-92f0-457e-8fd0-2c05447b015e"
      },
      "outputs": [
        {
          "data": {
            "text/html": [
              "<div>\n",
              "<style scoped>\n",
              "    .dataframe tbody tr th:only-of-type {\n",
              "        vertical-align: middle;\n",
              "    }\n",
              "\n",
              "    .dataframe tbody tr th {\n",
              "        vertical-align: top;\n",
              "    }\n",
              "\n",
              "    .dataframe thead th {\n",
              "        text-align: right;\n",
              "    }\n",
              "</style>\n",
              "<table border=\"1\" class=\"dataframe\">\n",
              "  <thead>\n",
              "    <tr style=\"text-align: right;\">\n",
              "      <th></th>\n",
              "      <th>titles</th>\n",
              "      <th>user name and dates</th>\n",
              "      <th>ratings</th>\n",
              "      <th>text</th>\n",
              "      <th>all_text</th>\n",
              "    </tr>\n",
              "  </thead>\n",
              "  <tbody>\n",
              "    <tr>\n",
              "      <th>0</th>\n",
              "      <td>A visual feast.</td>\n",
              "      <td>MartinHafer1 December 2021</td>\n",
              "      <td>7/10</td>\n",
              "      <td>big fan many many marvel film reason saw one o...</td>\n",
              "      <td>A visual feast.MartinHafer1 December 2021big f...</td>\n",
              "    </tr>\n",
              "    <tr>\n",
              "      <th>1</th>\n",
              "      <td>Next Phase</td>\n",
              "      <td>boblipton11 September 2021</td>\n",
              "      <td>6/10</td>\n",
              "      <td>okay movie simu liu son seemingly immortal mas...</td>\n",
              "      <td>Next Phaseboblipton11 September 2021okay movie...</td>\n",
              "    </tr>\n",
              "    <tr>\n",
              "      <th>2</th>\n",
              "      <td>Bus Boy</td>\n",
              "      <td>nogodnomasters11 September 2021</td>\n",
              "      <td>10/10</td>\n",
              "      <td>shaun simu liu katy awkwafina park valet under...</td>\n",
              "      <td>Bus Boynogodnomasters11 September 2021shaun si...</td>\n",
              "    </tr>\n",
              "    <tr>\n",
              "      <th>3</th>\n",
              "      <td>Wow!</td>\n",
              "      <td>Sleepin_Dragon9 September 2021</td>\n",
              "      <td>9/10</td>\n",
              "      <td>expect vision film along line snake eye date b...</td>\n",
              "      <td>Wow!Sleepin_Dragon9 September 2021expect visio...</td>\n",
              "    </tr>\n",
              "    <tr>\n",
              "      <th>4</th>\n",
              "      <td>Precious ... ten times</td>\n",
              "      <td>kosmasp12 September 2021</td>\n",
              "      <td>9/10</td>\n",
              "      <td>course riff tease make fun certain thing summa...</td>\n",
              "      <td>Precious ... ten timeskosmasp12 September 2021...</td>\n",
              "    </tr>\n",
              "    <tr>\n",
              "      <th>5</th>\n",
              "      <td>\"If you aim at nothing, you hit nothing.\"</td>\n",
              "      <td>classicsoncall15 November 2021</td>\n",
              "      <td>7/10</td>\n",
              "      <td>seem lot inconsistency story line bring film c...</td>\n",
              "      <td>\"If you aim at nothing, you hit nothing.\"class...</td>\n",
              "    </tr>\n",
              "    <tr>\n",
              "      <th>6</th>\n",
              "      <td>Shang-Chi and the Legend of the Ten Rings</td>\n",
              "      <td>jboothmillard19 September 2021</td>\n",
              "      <td>6/10</td>\n",
              "      <td>marvel cinematic universe make big impact almo...</td>\n",
              "      <td>Shang-Chi and the Legend of the Ten Ringsjboot...</td>\n",
              "    </tr>\n",
              "    <tr>\n",
              "      <th>7</th>\n",
              "      <td>The best Marvel movie so far...</td>\n",
              "      <td>paul_haakonsen11 November 2021</td>\n",
              "      <td>9/10</td>\n",
              "      <td>see trailer marvel action movie shangchi legen...</td>\n",
              "      <td>The best Marvel movie so far...paul_haakonsen1...</td>\n",
              "    </tr>\n",
              "    <tr>\n",
              "      <th>8</th>\n",
              "      <td>Very engaging plot with great visual effects</td>\n",
              "      <td>Gordon-112 September 2021</td>\n",
              "      <td>6/10</td>\n",
              "      <td>find film engage start finish couldnt get eye ...</td>\n",
              "      <td>Very engaging plot with great visual effectsGo...</td>\n",
              "    </tr>\n",
              "    <tr>\n",
              "      <th>9</th>\n",
              "      <td>Ten Years too Late</td>\n",
              "      <td>view_and_review14 September 2021</td>\n",
              "      <td>8/10</td>\n",
              "      <td>ive say marvel movie victim success shangchi f...</td>\n",
              "      <td>Ten Years too Lateview_and_review14 September ...</td>\n",
              "    </tr>\n",
              "    <tr>\n",
              "      <th>10</th>\n",
              "      <td>Indeed legendary</td>\n",
              "      <td>TBJCSKCNRRQTreviews10 September 2021</td>\n",
              "      <td>8/10</td>\n",
              "      <td>ten year since shangchiliu charm stoic last sa...</td>\n",
              "      <td>Indeed legendaryTBJCSKCNRRQTreviews10 Septembe...</td>\n",
              "    </tr>\n",
              "    <tr>\n",
              "      <th>11</th>\n",
              "      <td>Very enjoyable</td>\n",
              "      <td>neil-4768 September 2021</td>\n",
              "      <td>7/10</td>\n",
              "      <td>shangchi leave san francisco friend katy pursu...</td>\n",
              "      <td>Very enjoyableneil-4768 September 2021shangchi...</td>\n",
              "    </tr>\n",
              "    <tr>\n",
              "      <th>12</th>\n",
              "      <td>great start but the fictionary world didn't fi...</td>\n",
              "      <td>trashgang14 November 2021</td>\n",
              "      <td>9/10</td>\n",
              "      <td>start like mix martial art marvel universe fin...</td>\n",
              "      <td>great start but the fictionary world didn't fi...</td>\n",
              "    </tr>\n",
              "    <tr>\n",
              "      <th>13</th>\n",
              "      <td>Visually stunning, looking forward to the next...</td>\n",
              "      <td>deloudelouvain6 December 2021</td>\n",
              "      <td>7/10</td>\n",
              "      <td>without spoil anything story stand there go se...</td>\n",
              "      <td>Visually stunning, looking forward to the next...</td>\n",
              "    </tr>\n",
              "    <tr>\n",
              "      <th>14</th>\n",
              "      <td>A Marvel for the whole family.</td>\n",
              "      <td>jdesando9 September 2021</td>\n",
              "      <td>8/10</td>\n",
              "      <td>u government almost topple pretender name oran...</td>\n",
              "      <td>A Marvel for the whole family.jdesando9 Septem...</td>\n",
              "    </tr>\n",
              "    <tr>\n",
              "      <th>15</th>\n",
              "      <td>Cinema Omnivore - Shang-Chi and the Legend of ...</td>\n",
              "      <td>lasttimeisaw26 November 2021</td>\n",
              "      <td>7/10</td>\n",
              "      <td>plain day ying li push daisy voice originate s...</td>\n",
              "      <td>Cinema Omnivore - Shang-Chi and the Legend of ...</td>\n",
              "    </tr>\n",
              "    <tr>\n",
              "      <th>16</th>\n",
              "      <td>Fun martial arts action-comedy with some drago...</td>\n",
              "      <td>cherold20 November 2021</td>\n",
              "      <td>9/10</td>\n",
              "      <td>flashback movie jump couple slacker shaun katy...</td>\n",
              "      <td>Fun martial arts action-comedy with some drago...</td>\n",
              "    </tr>\n",
              "    <tr>\n",
              "      <th>17</th>\n",
              "      <td>The legend of the ten Marvel movies a year for...</td>\n",
              "      <td>Pjtaylor-96-13804414 November 2021</td>\n",
              "      <td>7/10</td>\n",
              "      <td>shangchi legend ten ring essentially exactly e...</td>\n",
              "      <td>The legend of the ten Marvel movies a year for...</td>\n",
              "    </tr>\n",
              "    <tr>\n",
              "      <th>18</th>\n",
              "      <td>my eyes couldn't handle the sheer awesomeness ...</td>\n",
              "      <td>FeastMode3 September 2021</td>\n",
              "      <td>9/10</td>\n",
              "      <td>watch imax entire movie expand aspect ratio yo...</td>\n",
              "      <td>my eyes couldn't handle the sheer awesomeness ...</td>\n",
              "    </tr>\n",
              "    <tr>\n",
              "      <th>19</th>\n",
              "      <td>7</td>\n",
              "      <td>Edvis-19973 October 2021</td>\n",
              "      <td>9/10</td>\n",
              "      <td>good far top10 list movie however wasnt rly ho...</td>\n",
              "      <td>7Edvis-19973 October 2021good far top10 list m...</td>\n",
              "    </tr>\n",
              "    <tr>\n",
              "      <th>20</th>\n",
              "      <td>Future of the MCU</td>\n",
              "      <td>ThomasDrufke22 October 2021</td>\n",
              "      <td>8/10</td>\n",
              "      <td>shang chi nowhere near top anticipate mcu film...</td>\n",
              "      <td>Future of the MCUThomasDrufke22 October 2021sh...</td>\n",
              "    </tr>\n",
              "  </tbody>\n",
              "</table>\n",
              "</div>"
            ],
            "text/plain": [
              "                                               titles  \\\n",
              "0                                     A visual feast.   \n",
              "1                                          Next Phase   \n",
              "2                                             Bus Boy   \n",
              "3                                                Wow!   \n",
              "4                              Precious ... ten times   \n",
              "5           \"If you aim at nothing, you hit nothing.\"   \n",
              "6           Shang-Chi and the Legend of the Ten Rings   \n",
              "7                     The best Marvel movie so far...   \n",
              "8        Very engaging plot with great visual effects   \n",
              "9                                  Ten Years too Late   \n",
              "10                                   Indeed legendary   \n",
              "11                                     Very enjoyable   \n",
              "12  great start but the fictionary world didn't fi...   \n",
              "13  Visually stunning, looking forward to the next...   \n",
              "14                     A Marvel for the whole family.   \n",
              "15  Cinema Omnivore - Shang-Chi and the Legend of ...   \n",
              "16  Fun martial arts action-comedy with some drago...   \n",
              "17  The legend of the ten Marvel movies a year for...   \n",
              "18  my eyes couldn't handle the sheer awesomeness ...   \n",
              "19                                                  7   \n",
              "20                                  Future of the MCU   \n",
              "\n",
              "                     user name and dates ratings  \\\n",
              "0             MartinHafer1 December 2021    7/10   \n",
              "1             boblipton11 September 2021    6/10   \n",
              "2        nogodnomasters11 September 2021   10/10   \n",
              "3         Sleepin_Dragon9 September 2021    9/10   \n",
              "4               kosmasp12 September 2021    9/10   \n",
              "5         classicsoncall15 November 2021    7/10   \n",
              "6         jboothmillard19 September 2021    6/10   \n",
              "7         paul_haakonsen11 November 2021    9/10   \n",
              "8              Gordon-112 September 2021    6/10   \n",
              "9       view_and_review14 September 2021    8/10   \n",
              "10  TBJCSKCNRRQTreviews10 September 2021    8/10   \n",
              "11              neil-4768 September 2021    7/10   \n",
              "12             trashgang14 November 2021    9/10   \n",
              "13         deloudelouvain6 December 2021    7/10   \n",
              "14              jdesando9 September 2021    8/10   \n",
              "15          lasttimeisaw26 November 2021    7/10   \n",
              "16               cherold20 November 2021    9/10   \n",
              "17    Pjtaylor-96-13804414 November 2021    7/10   \n",
              "18             FeastMode3 September 2021    9/10   \n",
              "19              Edvis-19973 October 2021    9/10   \n",
              "20           ThomasDrufke22 October 2021    8/10   \n",
              "\n",
              "                                                 text  \\\n",
              "0   big fan many many marvel film reason saw one o...   \n",
              "1   okay movie simu liu son seemingly immortal mas...   \n",
              "2   shaun simu liu katy awkwafina park valet under...   \n",
              "3   expect vision film along line snake eye date b...   \n",
              "4   course riff tease make fun certain thing summa...   \n",
              "5   seem lot inconsistency story line bring film c...   \n",
              "6   marvel cinematic universe make big impact almo...   \n",
              "7   see trailer marvel action movie shangchi legen...   \n",
              "8   find film engage start finish couldnt get eye ...   \n",
              "9   ive say marvel movie victim success shangchi f...   \n",
              "10  ten year since shangchiliu charm stoic last sa...   \n",
              "11  shangchi leave san francisco friend katy pursu...   \n",
              "12  start like mix martial art marvel universe fin...   \n",
              "13  without spoil anything story stand there go se...   \n",
              "14  u government almost topple pretender name oran...   \n",
              "15  plain day ying li push daisy voice originate s...   \n",
              "16  flashback movie jump couple slacker shaun katy...   \n",
              "17  shangchi legend ten ring essentially exactly e...   \n",
              "18  watch imax entire movie expand aspect ratio yo...   \n",
              "19  good far top10 list movie however wasnt rly ho...   \n",
              "20  shang chi nowhere near top anticipate mcu film...   \n",
              "\n",
              "                                             all_text  \n",
              "0   A visual feast.MartinHafer1 December 2021big f...  \n",
              "1   Next Phaseboblipton11 September 2021okay movie...  \n",
              "2   Bus Boynogodnomasters11 September 2021shaun si...  \n",
              "3   Wow!Sleepin_Dragon9 September 2021expect visio...  \n",
              "4   Precious ... ten timeskosmasp12 September 2021...  \n",
              "5   \"If you aim at nothing, you hit nothing.\"class...  \n",
              "6   Shang-Chi and the Legend of the Ten Ringsjboot...  \n",
              "7   The best Marvel movie so far...paul_haakonsen1...  \n",
              "8   Very engaging plot with great visual effectsGo...  \n",
              "9   Ten Years too Lateview_and_review14 September ...  \n",
              "10  Indeed legendaryTBJCSKCNRRQTreviews10 Septembe...  \n",
              "11  Very enjoyableneil-4768 September 2021shangchi...  \n",
              "12  great start but the fictionary world didn't fi...  \n",
              "13  Visually stunning, looking forward to the next...  \n",
              "14  A Marvel for the whole family.jdesando9 Septem...  \n",
              "15  Cinema Omnivore - Shang-Chi and the Legend of ...  \n",
              "16  Fun martial arts action-comedy with some drago...  \n",
              "17  The legend of the ten Marvel movies a year for...  \n",
              "18  my eyes couldn't handle the sheer awesomeness ...  \n",
              "19  7Edvis-19973 October 2021good far top10 list m...  \n",
              "20  Future of the MCUThomasDrufke22 October 2021sh...  "
            ]
          },
          "execution_count": 56,
          "metadata": {},
          "output_type": "execute_result"
        }
      ],
      "source": [
        "from sklearn.feature_extraction.text import TfidfVectorizer\n",
        "vectorizer = TfidfVectorizer()\n",
        "reviews['all_text'] = reviews['titles'] + reviews['user name and dates'] + reviews['text']\n",
        "reviews"
      ]
    },
    {
      "cell_type": "code",
      "execution_count": null,
      "metadata": {
        "id": "Lmzn9k73CX4Y",
        "outputId": "126c58d7-de34-4665-d91c-e7678ff82230"
      },
      "outputs": [
        {
          "name": "stdout",
          "output_type": "stream",
          "text": [
            "        0         1         2         3         4         5        6     \\\n",
            "0   0.000000  0.000000  0.000000  0.000000  0.000000  0.000000  0.00000   \n",
            "1   0.000000  0.000000  0.000000  0.000000  0.000000  0.000000  0.00000   \n",
            "2   0.000000  0.000000  0.000000  0.000000  0.000000  0.000000  0.00000   \n",
            "3   0.000000  0.000000  0.000000  0.000000  0.000000  0.000000  0.00000   \n",
            "4   0.000000  0.000000  0.000000  0.000000  0.064326  0.000000  0.00000   \n",
            "5   0.000000  0.000000  0.000000  0.137695  0.000000  0.000000  0.00000   \n",
            "6   0.000000  0.000000  0.030195  0.000000  0.000000  0.030195  0.00000   \n",
            "7   0.000000  0.000000  0.000000  0.000000  0.000000  0.000000  0.00000   \n",
            "8   0.000000  0.000000  0.000000  0.000000  0.000000  0.000000  0.00000   \n",
            "9   0.000000  0.000000  0.000000  0.000000  0.070293  0.000000  0.00000   \n",
            "10  0.000000  0.000000  0.000000  0.000000  0.000000  0.000000  0.00000   \n",
            "11  0.000000  0.000000  0.000000  0.000000  0.000000  0.000000  0.00000   \n",
            "12  0.000000  0.000000  0.000000  0.000000  0.000000  0.000000  0.15657   \n",
            "13  0.000000  0.000000  0.000000  0.000000  0.000000  0.000000  0.00000   \n",
            "14  0.000000  0.096543  0.000000  0.000000  0.000000  0.000000  0.00000   \n",
            "15  0.000000  0.000000  0.000000  0.000000  0.000000  0.000000  0.00000   \n",
            "16  0.000000  0.000000  0.000000  0.000000  0.000000  0.000000  0.00000   \n",
            "17  0.000000  0.000000  0.000000  0.000000  0.000000  0.000000  0.00000   \n",
            "18  0.121926  0.000000  0.000000  0.000000  0.032351  0.000000  0.00000   \n",
            "19  0.000000  0.000000  0.000000  0.000000  0.000000  0.000000  0.00000   \n",
            "20  0.000000  0.000000  0.000000  0.000000  0.000000  0.000000  0.00000   \n",
            "\n",
            "        7         8         9     ...      1500      1501      1502      1503  \\\n",
            "0   0.000000  0.000000  0.000000  ...  0.000000  0.000000  0.000000  0.000000   \n",
            "1   0.000000  0.000000  0.000000  ...  0.062009  0.000000  0.000000  0.000000   \n",
            "2   0.000000  0.000000  0.000000  ...  0.000000  0.000000  0.000000  0.000000   \n",
            "3   0.000000  0.000000  0.000000  ...  0.000000  0.000000  0.000000  0.000000   \n",
            "4   0.000000  0.000000  0.000000  ...  0.000000  0.000000  0.000000  0.000000   \n",
            "5   0.000000  0.000000  0.068847  ...  0.043464  0.000000  0.000000  0.000000   \n",
            "6   0.000000  0.030195  0.000000  ...  0.038124  0.000000  0.000000  0.048070   \n",
            "7   0.000000  0.000000  0.000000  ...  0.032067  0.000000  0.032067  0.000000   \n",
            "8   0.000000  0.000000  0.000000  ...  0.000000  0.000000  0.000000  0.000000   \n",
            "9   0.000000  0.000000  0.000000  ...  0.000000  0.000000  0.027875  0.000000   \n",
            "10  0.000000  0.000000  0.000000  ...  0.000000  0.000000  0.040256  0.050758   \n",
            "11  0.000000  0.000000  0.000000  ...  0.067530  0.000000  0.067530  0.000000   \n",
            "12  0.000000  0.000000  0.000000  ...  0.000000  0.000000  0.000000  0.000000   \n",
            "13  0.000000  0.000000  0.000000  ...  0.000000  0.000000  0.105785  0.000000   \n",
            "14  0.000000  0.000000  0.000000  ...  0.000000  0.000000  0.000000  0.000000   \n",
            "15  0.000000  0.000000  0.000000  ...  0.000000  0.000000  0.000000  0.114054   \n",
            "16  0.000000  0.000000  0.000000  ...  0.066658  0.000000  0.000000  0.000000   \n",
            "17  0.000000  0.000000  0.000000  ...  0.000000  0.000000  0.072827  0.000000   \n",
            "18  0.000000  0.000000  0.000000  ...  0.000000  0.040642  0.000000  0.000000   \n",
            "19  0.000000  0.000000  0.000000  ...  0.000000  0.000000  0.000000  0.000000   \n",
            "20  0.354753  0.000000  0.000000  ...  0.000000  0.000000  0.000000  0.000000   \n",
            "\n",
            "        1504      1505      1506      1507      1508      1509  \n",
            "0   0.000000  0.000000  0.000000  0.000000  0.000000  0.000000  \n",
            "1   0.000000  0.000000  0.000000  0.000000  0.000000  0.066465  \n",
            "2   0.000000  0.000000  0.000000  0.000000  0.000000  0.096877  \n",
            "3   0.000000  0.178415  0.000000  0.000000  0.000000  0.000000  \n",
            "4   0.000000  0.000000  0.000000  0.000000  0.000000  0.000000  \n",
            "5   0.000000  0.000000  0.000000  0.046588  0.000000  0.046588  \n",
            "6   0.000000  0.000000  0.026592  0.000000  0.026592  0.040864  \n",
            "7   0.000000  0.000000  0.000000  0.000000  0.044733  0.000000  \n",
            "8   0.000000  0.000000  0.000000  0.000000  0.000000  0.000000  \n",
            "9   0.000000  0.000000  0.000000  0.029878  0.000000  0.029878  \n",
            "10  0.000000  0.000000  0.000000  0.000000  0.000000  0.000000  \n",
            "11  0.000000  0.000000  0.000000  0.000000  0.000000  0.000000  \n",
            "12  0.000000  0.000000  0.000000  0.000000  0.000000  0.000000  \n",
            "13  0.000000  0.000000  0.000000  0.113386  0.000000  0.000000  \n",
            "14  0.000000  0.000000  0.000000  0.000000  0.000000  0.000000  \n",
            "15  0.000000  0.000000  0.000000  0.000000  0.000000  0.000000  \n",
            "16  0.000000  0.000000  0.000000  0.000000  0.000000  0.000000  \n",
            "17  0.057679  0.000000  0.050796  0.039030  0.000000  0.000000  \n",
            "18  0.000000  0.000000  0.000000  0.082505  0.000000  0.000000  \n",
            "19  0.000000  0.000000  0.000000  0.000000  0.000000  0.000000  \n",
            "20  0.000000  0.000000  0.000000  0.000000  0.000000  0.000000  \n",
            "\n",
            "[21 rows x 1510 columns]\n"
          ]
        }
      ],
      "source": [
        "X = vectorizer.fit_transform(reviews['text'])\n",
        "X.toarray()\n",
        "print(pd.DataFrame(X.toarray()))## this is the tfidf values from text column"
      ]
    },
    {
      "cell_type": "code",
      "execution_count": null,
      "metadata": {
        "id": "YzAlmL8aCX4Y",
        "outputId": "950c007e-a6c0-46cd-fec5-15be92029fb9"
      },
      "outputs": [
        {
          "data": {
            "text/plain": [
              "array(['movie', 'helpful', 'shangchi'], dtype='<U54')"
            ]
          },
          "execution_count": 68,
          "metadata": {},
          "output_type": "execute_result"
        }
      ],
      "source": [
        "values_tf= np.argsort(np.asarray(X.sum(axis=0)).ravel())[::-1]\n",
        "fe_n = np.array(vectorizer.get_feature_names())\n",
        "fe_n[values_tf][:3]"
      ]
    },
    {
      "cell_type": "code",
      "execution_count": null,
      "metadata": {
        "id": "-W6odHvvCX4Z",
        "outputId": "0c6e31f1-5cbe-4c22-e78d-f20136b7b45a"
      },
      "outputs": [
        {
          "name": "stdout",
          "output_type": "stream",
          "text": [
            "          0         1         2         3         4         5         6   \\\n",
            "0   0.000000  0.000000  0.000000  0.000000  0.000000  0.000000  0.000000   \n",
            "1   0.000000  0.000000  0.000000  0.000000  0.000000  0.000000  0.000000   \n",
            "2   0.000000  0.000000  0.000000  0.000000  0.000000  0.000000  0.000000   \n",
            "3   0.000000  0.000000  0.000000  0.000000  0.000000  0.000000  0.000000   \n",
            "4   0.000000  0.000000  0.000000  0.000000  0.000000  0.000000  0.000000   \n",
            "5   0.000000  0.000000  0.000000  0.288675  0.000000  0.000000  0.000000   \n",
            "6   0.000000  0.000000  0.000000  0.000000  0.000000  0.364569  0.000000   \n",
            "7   0.000000  0.000000  0.000000  0.000000  0.000000  0.000000  0.000000   \n",
            "8   0.000000  0.000000  0.000000  0.000000  0.000000  0.000000  0.000000   \n",
            "9   0.000000  0.000000  0.000000  0.000000  0.000000  0.000000  0.000000   \n",
            "10  0.000000  0.000000  0.000000  0.000000  0.000000  0.000000  0.000000   \n",
            "11  0.000000  0.000000  0.000000  0.000000  0.000000  0.000000  0.000000   \n",
            "12  0.000000  0.000000  0.000000  0.000000  0.000000  0.000000  0.000000   \n",
            "13  0.000000  0.000000  0.000000  0.000000  0.000000  0.000000  0.000000   \n",
            "14  0.000000  0.000000  0.000000  0.000000  0.000000  0.000000  0.000000   \n",
            "15  0.318863  0.318863  0.000000  0.000000  0.000000  0.280814  0.000000   \n",
            "16  0.000000  0.000000  0.319837  0.000000  0.000000  0.000000  0.319837   \n",
            "17  0.000000  0.000000  0.000000  0.000000  0.353547  0.000000  0.000000   \n",
            "18  0.000000  0.000000  0.000000  0.000000  0.000000  0.000000  0.000000   \n",
            "19  0.000000  0.000000  0.000000  0.000000  0.000000  0.000000  0.000000   \n",
            "20  0.000000  0.000000  0.000000  0.000000  0.000000  0.000000  0.000000   \n",
            "\n",
            "          7         8         9   ...        74        75        76        77  \\\n",
            "0   0.000000  0.000000  0.000000  ...  0.000000  0.660912  0.000000  0.000000   \n",
            "1   0.000000  0.000000  0.000000  ...  0.000000  0.000000  0.000000  0.000000   \n",
            "2   0.000000  0.000000  0.000000  ...  0.000000  0.000000  0.000000  0.000000   \n",
            "3   0.000000  0.000000  0.000000  ...  0.000000  0.000000  0.000000  0.000000   \n",
            "4   0.000000  0.000000  0.000000  ...  0.000000  0.000000  0.000000  0.000000   \n",
            "5   0.288675  0.000000  0.000000  ...  0.000000  0.000000  0.000000  0.000000   \n",
            "6   0.000000  0.000000  0.000000  ...  0.000000  0.000000  0.000000  0.000000   \n",
            "7   0.000000  0.000000  0.451263  ...  0.000000  0.000000  0.000000  0.000000   \n",
            "8   0.000000  0.000000  0.000000  ...  0.356505  0.356505  0.000000  0.000000   \n",
            "9   0.000000  0.000000  0.000000  ...  0.000000  0.000000  0.000000  0.000000   \n",
            "10  0.000000  0.000000  0.000000  ...  0.000000  0.000000  0.000000  0.000000   \n",
            "11  0.000000  0.000000  0.000000  ...  0.660912  0.000000  0.000000  0.000000   \n",
            "12  0.000000  0.000000  0.000000  ...  0.000000  0.000000  0.000000  0.000000   \n",
            "13  0.000000  0.000000  0.000000  ...  0.000000  0.000000  0.376552  0.000000   \n",
            "14  0.000000  0.000000  0.000000  ...  0.000000  0.000000  0.000000  0.531172   \n",
            "15  0.000000  0.000000  0.000000  ...  0.000000  0.000000  0.000000  0.000000   \n",
            "16  0.000000  0.000000  0.000000  ...  0.000000  0.000000  0.000000  0.000000   \n",
            "17  0.000000  0.000000  0.000000  ...  0.000000  0.000000  0.000000  0.000000   \n",
            "18  0.000000  0.331348  0.000000  ...  0.000000  0.000000  0.000000  0.000000   \n",
            "19  0.000000  0.000000  0.000000  ...  0.000000  0.000000  0.000000  0.000000   \n",
            "20  0.000000  0.000000  0.000000  ...  0.000000  0.000000  0.000000  0.000000   \n",
            "\n",
            "          78        79   80        81        82       83  \n",
            "0   0.000000  0.000000  0.0  0.000000  0.000000  0.00000  \n",
            "1   0.000000  0.000000  0.0  0.000000  0.000000  0.00000  \n",
            "2   0.000000  0.000000  0.0  0.000000  0.000000  0.00000  \n",
            "3   0.000000  0.000000  1.0  0.000000  0.000000  0.00000  \n",
            "4   0.000000  0.000000  0.0  0.000000  0.000000  0.00000  \n",
            "5   0.000000  0.000000  0.0  0.000000  0.000000  0.57735  \n",
            "6   0.000000  0.000000  0.0  0.000000  0.000000  0.00000  \n",
            "7   0.000000  0.000000  0.0  0.000000  0.000000  0.00000  \n",
            "8   0.356505  0.000000  0.0  0.000000  0.000000  0.00000  \n",
            "9   0.000000  0.000000  0.0  0.000000  0.537767  0.00000  \n",
            "10  0.000000  0.000000  0.0  0.000000  0.000000  0.00000  \n",
            "11  0.000000  0.000000  0.0  0.000000  0.000000  0.00000  \n",
            "12  0.000000  0.321309  0.0  0.000000  0.000000  0.00000  \n",
            "13  0.000000  0.000000  0.0  0.000000  0.000000  0.00000  \n",
            "14  0.000000  0.000000  0.0  0.000000  0.000000  0.00000  \n",
            "15  0.000000  0.000000  0.0  0.000000  0.000000  0.00000  \n",
            "16  0.281671  0.000000  0.0  0.000000  0.000000  0.00000  \n",
            "17  0.000000  0.000000  0.0  0.353547  0.000000  0.00000  \n",
            "18  0.000000  0.000000  0.0  0.000000  0.000000  0.00000  \n",
            "19  0.000000  0.000000  0.0  0.000000  0.000000  0.00000  \n",
            "20  0.000000  0.000000  0.0  0.000000  0.000000  0.00000  \n",
            "\n",
            "[21 rows x 84 columns]\n"
          ]
        },
        {
          "data": {
            "text/plain": [
              "array(['the', 'ten', 'of'], dtype='<U11')"
            ]
          },
          "execution_count": 74,
          "metadata": {},
          "output_type": "execute_result"
        }
      ],
      "source": [
        "X = vectorizer.fit_transform(reviews['titles'])\n",
        "print(pd.DataFrame(X.toarray()))\n",
        "values_tf= np.argsort(np.asarray(X.sum(axis=0)).ravel())[::-1]\n",
        "fe_n = np.array(vectorizer.get_feature_names())\n",
        "fe_n[values_tf][:3] # this is the tfidf values from titles column"
      ]
    },
    {
      "cell_type": "code",
      "execution_count": null,
      "metadata": {
        "id": "cfkqfy4NCX4a",
        "outputId": "ec39bd5c-83bd-4faf-c626-6ce6d151d44c"
      },
      "outputs": [
        {
          "name": "stdout",
          "output_type": "stream",
          "text": [
            "          0         1         2         3         4         5         6   \\\n",
            "0   0.000000  0.000000  0.000000  0.215664  0.000000  0.000000  0.000000   \n",
            "1   0.000000  0.000000  0.000000  0.257127  0.000000  0.000000  0.873689   \n",
            "2   0.000000  0.000000  0.000000  0.257127  0.000000  0.000000  0.000000   \n",
            "3   0.000000  0.000000  0.000000  0.257127  0.000000  0.000000  0.000000   \n",
            "4   0.000000  0.000000  0.000000  0.257127  0.000000  0.000000  0.000000   \n",
            "5   0.000000  0.000000  0.000000  0.241492  0.000000  0.000000  0.000000   \n",
            "6   0.000000  0.000000  0.000000  0.257127  0.000000  0.000000  0.000000   \n",
            "7   0.000000  0.000000  0.000000  0.241492  0.000000  0.000000  0.000000   \n",
            "8   0.657945  0.000000  0.000000  0.193633  0.000000  0.000000  0.000000   \n",
            "9   0.000000  0.000000  0.000000  0.257127  0.000000  0.000000  0.000000   \n",
            "10  0.000000  0.000000  0.000000  0.257127  0.000000  0.000000  0.000000   \n",
            "11  0.000000  0.000000  0.000000  0.193633  0.657945  0.000000  0.000000   \n",
            "12  0.000000  0.000000  0.000000  0.241492  0.000000  0.000000  0.000000   \n",
            "13  0.000000  0.000000  0.000000  0.215664  0.000000  0.000000  0.000000   \n",
            "14  0.000000  0.000000  0.000000  0.257127  0.000000  0.000000  0.000000   \n",
            "15  0.000000  0.000000  0.000000  0.241492  0.000000  0.000000  0.000000   \n",
            "16  0.000000  0.000000  0.000000  0.241492  0.000000  0.000000  0.000000   \n",
            "17  0.000000  0.535659  0.000000  0.157644  0.000000  0.535659  0.000000   \n",
            "18  0.000000  0.000000  0.000000  0.257127  0.000000  0.000000  0.000000   \n",
            "19  0.000000  0.000000  0.591086  0.173956  0.000000  0.000000  0.000000   \n",
            "20  0.000000  0.000000  0.000000  0.215664  0.000000  0.000000  0.000000   \n",
            "\n",
            "          7         8         9   ...        21        22        23        24  \\\n",
            "0   0.000000  0.000000  0.645359  ...  0.000000  0.000000  0.000000  0.000000   \n",
            "1   0.000000  0.000000  0.000000  ...  0.000000  0.000000  0.000000  0.000000   \n",
            "2   0.000000  0.000000  0.000000  ...  0.000000  0.000000  0.000000  0.000000   \n",
            "3   0.000000  0.000000  0.000000  ...  0.000000  0.000000  0.000000  0.000000   \n",
            "4   0.000000  0.000000  0.000000  ...  0.000000  0.000000  0.000000  0.000000   \n",
            "5   0.000000  0.820564  0.000000  ...  0.518032  0.000000  0.000000  0.000000   \n",
            "6   0.000000  0.000000  0.000000  ...  0.000000  0.000000  0.000000  0.000000   \n",
            "7   0.000000  0.000000  0.000000  ...  0.518032  0.000000  0.820564  0.000000   \n",
            "8   0.000000  0.000000  0.000000  ...  0.000000  0.000000  0.000000  0.000000   \n",
            "9   0.000000  0.000000  0.000000  ...  0.000000  0.000000  0.000000  0.000000   \n",
            "10  0.000000  0.000000  0.000000  ...  0.000000  0.000000  0.000000  0.000000   \n",
            "11  0.000000  0.000000  0.000000  ...  0.000000  0.000000  0.000000  0.000000   \n",
            "12  0.000000  0.000000  0.000000  ...  0.518032  0.000000  0.000000  0.000000   \n",
            "13  0.000000  0.000000  0.645359  ...  0.000000  0.000000  0.000000  0.000000   \n",
            "14  0.000000  0.000000  0.000000  ...  0.000000  0.000000  0.000000  0.000000   \n",
            "15  0.000000  0.000000  0.000000  ...  0.518032  0.000000  0.000000  0.000000   \n",
            "16  0.820564  0.000000  0.000000  ...  0.518032  0.000000  0.000000  0.000000   \n",
            "17  0.000000  0.000000  0.000000  ...  0.338168  0.000000  0.000000  0.535659   \n",
            "18  0.000000  0.000000  0.000000  ...  0.000000  0.000000  0.000000  0.000000   \n",
            "19  0.000000  0.000000  0.000000  ...  0.000000  0.520552  0.000000  0.000000   \n",
            "20  0.000000  0.000000  0.000000  ...  0.000000  0.645359  0.000000  0.000000   \n",
            "\n",
            "          25        26        27        28        29        30  \n",
            "0   0.000000  0.000000  0.000000  0.000000  0.000000  0.000000  \n",
            "1   0.412980  0.000000  0.000000  0.000000  0.000000  0.000000  \n",
            "2   0.412980  0.000000  0.000000  0.000000  0.000000  0.000000  \n",
            "3   0.412980  0.873689  0.000000  0.000000  0.000000  0.000000  \n",
            "4   0.412980  0.000000  0.000000  0.000000  0.000000  0.000000  \n",
            "5   0.000000  0.000000  0.000000  0.000000  0.000000  0.000000  \n",
            "6   0.412980  0.000000  0.000000  0.000000  0.000000  0.000000  \n",
            "7   0.000000  0.000000  0.000000  0.000000  0.000000  0.000000  \n",
            "8   0.311001  0.000000  0.000000  0.000000  0.000000  0.000000  \n",
            "9   0.412980  0.000000  0.000000  0.000000  0.000000  0.873689  \n",
            "10  0.412980  0.000000  0.873689  0.000000  0.000000  0.000000  \n",
            "11  0.311001  0.000000  0.000000  0.000000  0.000000  0.000000  \n",
            "12  0.000000  0.000000  0.000000  0.000000  0.820564  0.000000  \n",
            "13  0.000000  0.000000  0.000000  0.000000  0.000000  0.000000  \n",
            "14  0.412980  0.000000  0.000000  0.000000  0.000000  0.000000  \n",
            "15  0.000000  0.000000  0.000000  0.000000  0.000000  0.000000  \n",
            "16  0.000000  0.000000  0.000000  0.000000  0.000000  0.000000  \n",
            "17  0.000000  0.000000  0.000000  0.000000  0.000000  0.000000  \n",
            "18  0.412980  0.000000  0.000000  0.000000  0.000000  0.000000  \n",
            "19  0.000000  0.000000  0.000000  0.000000  0.000000  0.000000  \n",
            "20  0.000000  0.000000  0.000000  0.732803  0.000000  0.000000  \n",
            "\n",
            "[21 rows x 31 columns]\n"
          ]
        },
        {
          "data": {
            "text/plain": [
              "array(['2021', 'september', 'november'], dtype='<U21')"
            ]
          },
          "execution_count": 75,
          "metadata": {},
          "output_type": "execute_result"
        }
      ],
      "source": [
        "X = vectorizer.fit_transform(reviews['user name and dates'])\n",
        "print(pd.DataFrame(X.toarray()))\n",
        "values_tf= np.argsort(np.asarray(X.sum(axis=0)).ravel())[::-1]\n",
        "fe_n = np.array(vectorizer.get_feature_names())\n",
        "fe_n[values_tf][:3]# this is the tfidf values from user name and dates column"
      ]
    },
    {
      "cell_type": "code",
      "execution_count": null,
      "metadata": {
        "id": "adBmUXAtCX4a",
        "outputId": "49793954-8150-4bb9-ae36-777fd6ec22eb"
      },
      "outputs": [
        {
          "data": {
            "text/plain": [
              "array(['movie', 'helpful', 'marvel'], dtype='<U54')"
            ]
          },
          "execution_count": 77,
          "metadata": {},
          "output_type": "execute_result"
        }
      ],
      "source": [
        "X = vectorizer.fit_transform(reviews['all_text'])\n",
        "values_tf= np.argsort(np.asarray(X.sum(axis=0)).ravel())[::-1]\n",
        "fe_n = np.array(vectorizer.get_feature_names())\n",
        "fe_n[values_tf][:3]"
      ]
    },
    {
      "cell_type": "code",
      "execution_count": null,
      "metadata": {
        "id": "mbD42-xwCX4a",
        "outputId": "dcb64911-7cc4-4733-aa5f-5a9349f943ba"
      },
      "outputs": [
        {
          "data": {
            "text/plain": [
              "['text', 'titles', 'user name and dates']"
            ]
          },
          "execution_count": 111,
          "metadata": {},
          "output_type": "execute_result"
        }
      ],
      "source": [
        "# Used High Ranked Features using TFIDF to rank dataset features\n",
        "from nltk import FreqDist\n",
        "import operator\n",
        "c=FreqDist((' '.join(reviews['all_text'])).split())\n",
        "h={}\n",
        "for i in ['text','titles','user name and dates']:\n",
        "    ct=FreqDist((' '.join(reviews[i])).split())\n",
        "    g=fe_n[values_tf][:3]\n",
        "    j=0\n",
        "    for p in g:\n",
        "        j+=ct[p]\n",
        "    h[i]=j\n",
        "\n",
        "[i for i,j in sorted(h.items(), key=operator.itemgetter(1),reverse=True)]"
      ]
    },
    {
      "cell_type": "code",
      "execution_count": null,
      "metadata": {
        "id": "LMxbMrv5CX4b"
      },
      "outputs": [],
      "source": [
        ""
      ]
    },
    {
      "cell_type": "code",
      "execution_count": null,
      "metadata": {
        "id": "XuFj_W-ECX4b"
      },
      "outputs": [],
      "source": [
        ""
      ]
    }
  ],
  "metadata": {
    "kernelspec": {
      "display_name": "Python 3 (ipykernel)",
      "language": "python",
      "name": "python3"
    },
    "language_info": {
      "codemirror_mode": {
        "name": "ipython",
        "version": 3
      },
      "file_extension": ".py",
      "mimetype": "text/x-python",
      "name": "python",
      "nbconvert_exporter": "python",
      "pygments_lexer": "ipython3",
      "version": "3.8.8"
    },
    "colab": {
      "name": "In-class-exercis3_.ipynb",
      "provenance": [],
      "include_colab_link": true
    }
  },
  "nbformat": 4,
  "nbformat_minor": 0
}