{
  "nbformat": 4,
  "nbformat_minor": 0,
  "metadata": {
    "colab": {
      "name": "In_class_exercise_05..ipynb",
      "provenance": [],
      "collapsed_sections": [],
      "include_colab_link": true
    },
    "kernelspec": {
      "display_name": "Python 3 (ipykernel)",
      "language": "python",
      "name": "python3"
    },
    "language_info": {
      "codemirror_mode": {
        "name": "ipython",
        "version": 3
      },
      "file_extension": ".py",
      "mimetype": "text/x-python",
      "name": "python",
      "nbconvert_exporter": "python",
      "pygments_lexer": "ipython3",
      "version": "3.8.8"
    }
  },
  "cells": [
    {
      "cell_type": "markdown",
      "metadata": {
        "id": "view-in-github",
        "colab_type": "text"
      },
      "source": [
        "<a href=\"https://colab.research.google.com/github/redher97/DheerajReddy_INFO5731_-Fall2021/blob/main/In_class_exercise_05_.ipynb\" target=\"_parent\"><img src=\"https://colab.research.google.com/assets/colab-badge.svg\" alt=\"Open In Colab\"/></a>"
      ]
    },
    {
      "cell_type": "markdown",
      "metadata": {
        "id": "exCG9f5G6N0W"
      },
      "source": [
        "# **The fifth in-class-exercise (40 points in total, 11/11/2021)**"
      ]
    },
    {
      "cell_type": "markdown",
      "metadata": {
        "id": "cLHt2QGn6N0d"
      },
      "source": [
        "(20 points) The purpose of the question is to practice different machine learning algorithms for text classification as well as the performance evaluation. In addition, you are requried to conduct *10 fold cross validation (https://scikit-learn.org/stable/modules/cross_validation.html)* in the training. \n",
        "\n",
        "The dataset can be download from here: https://github.com/unt-iialab/info5731_spring2021/blob/main/class_exercises/exercise09_datacollection.zip. The dataset contains two files train data and test data for sentiment analysis in IMDB review, it has two categories: 1 represents positive and 0 represents negative. You need to split the training data into training and validate data (80% for training and 20% for validation, https://towardsdatascience.com/train-test-split-and-cross-validation-in-python-80b61beca4b6) and perform 10 fold cross validation while training the classifier. The final trained model was final evaluated on the test data. \n",
        "\n",
        "Algorithms:\n",
        "\n",
        "(1) MultinominalNB\n",
        "\n",
        "(2) SVM \n",
        "\n",
        "(3) KNN \n",
        "\n",
        "(4) Decision tree\n",
        "\n",
        "(5) Random Forest\n",
        "\n",
        "(6) XGBoost\n",
        "\n",
        "Evaluation measurement:\n",
        "\n",
        "(1) Accuracy\n",
        "\n",
        "(2) Recall\n",
        "\n",
        "(3) Precison \n",
        "\n",
        "(4) F-1 score"
      ]
    },
    {
      "cell_type": "code",
      "metadata": {
        "id": "EPxroQf5Dxsw",
        "outputId": "124aef29-7c4f-45e6-9a3d-54b62029091b"
      },
      "source": [
        "pip install xgboost"
      ],
      "execution_count": null,
      "outputs": [
        {
          "name": "stdout",
          "output_type": "stream",
          "text": [
            "Collecting xgboost\n",
            "  Downloading xgboost-1.5.0-py3-none-win_amd64.whl (106.6 MB)\n",
            "Requirement already satisfied: numpy in c:\\users\\reddy\\anaconda3\\lib\\site-packages (from xgboost) (1.21.3)\n",
            "Requirement already satisfied: scipy in c:\\users\\reddy\\anaconda3\\lib\\site-packages (from xgboost) (1.6.2)\n",
            "Installing collected packages: xgboost\n",
            "Successfully installed xgboost-1.5.0\n",
            "Note: you may need to restart the kernel to use updated packages.\n"
          ]
        }
      ]
    },
    {
      "cell_type": "code",
      "metadata": {
        "colab": {
          "base_uri": "https://localhost:8080/"
        },
        "id": "hS3ZEB7R9skS",
        "outputId": "9c4143fa-7cb8-4f74-f9dd-4fb5614a3090"
      },
      "source": [
        "import zipfile\n",
        "import os\n",
        "import warnings\n",
        "warnings.filterwarnings(\"ignore\")\n",
        "import pandas as pd\n",
        "import string\n",
        "import numpy as np\n",
        "import matplotlib.pyplot as plt\n",
        "punctuations= string.punctuation\n",
        "import nltk\n",
        "nltk.download('stopwords')\n",
        "nltk.download('wordnet')\n",
        "from nltk.corpus import stopwords\n",
        "stopword_list = stopwords.words(\"english\")\n",
        "from nltk.stem.wordnet import WordNetLemmatizer\n",
        "lem = WordNetLemmatizer()\n",
        "from nltk.tokenize import word_tokenize\n",
        "nltk.download('punkt')\n",
        "from nltk import FreqDist\n",
        "from sklearn.model_selection import train_test_split\n",
        "from sklearn.feature_extraction.text import CountVectorizer, TfidfVectorizer,TfidfTransformer\n",
        "from sklearn.decomposition import PCA,TruncatedSVD\n",
        "from sklearn.svm import SVC\n",
        "from sklearn.ensemble import RandomForestClassifier\n",
        "from sklearn.tree import DecisionTreeClassifier\n",
        "from xgboost import XGBClassifier\n",
        "from sklearn.neighbors import KNeighborsClassifier\n",
        "from sklearn.naive_bayes import MultinomialNB\n",
        "from sklearn.metrics import accuracy_score,classification_report, confusion_matrix,f1_score,precision_recall_fscore_support\n",
        "import pandas as pd"
      ],
      "execution_count": null,
      "outputs": [
        {
          "name": "stderr",
          "output_type": "stream",
          "text": [
            "[nltk_data] Downloading package stopwords to\n",
            "[nltk_data]     C:\\Users\\reddy\\AppData\\Roaming\\nltk_data...\n",
            "[nltk_data]   Package stopwords is already up-to-date!\n",
            "[nltk_data] Downloading package wordnet to\n",
            "[nltk_data]     C:\\Users\\reddy\\AppData\\Roaming\\nltk_data...\n",
            "[nltk_data]   Package wordnet is already up-to-date!\n",
            "[nltk_data] Downloading package punkt to\n",
            "[nltk_data]     C:\\Users\\reddy\\AppData\\Roaming\\nltk_data...\n",
            "[nltk_data]   Package punkt is already up-to-date!\n"
          ]
        }
      ]
    },
    {
      "cell_type": "code",
      "metadata": {
        "id": "f7vk_wUTDxsy"
      },
      "source": [
        "f =open(r'C:\\Users\\reddy\\Downloads\\exercise09_datacollection\\exercise09_datacollection\\stsa-train.txt',\"r\")\n",
        "d=f.read().split('\\n')\n",
        "ft =open(r'C:\\Users\\reddy\\Downloads\\exercise09_datacollection\\exercise09_datacollection\\stsa-test.txt',\"r\")\n",
        "dt=f.read().split('\\n')\n",
        "dft=pd.DataFrame({'text':[i[1:] for i in dt if i!=''],'label':[i[0] for i in dt if i!='']})"
      ],
      "execution_count": null,
      "outputs": []
    },
    {
      "cell_type": "code",
      "metadata": {
        "id": "090AJxUYDxsz",
        "outputId": "1461fec3-316c-4a77-f522-71662c41173d"
      },
      "source": [
        "df=pd.DataFrame({'text':[i[1:] for i in d if i!=''],'label':[i[0] for i in d if i!='']})\n",
        "df"
      ],
      "execution_count": null,
      "outputs": [
        {
          "data": {
            "text/html": [
              "<div>\n",
              "<style scoped>\n",
              "    .dataframe tbody tr th:only-of-type {\n",
              "        vertical-align: middle;\n",
              "    }\n",
              "\n",
              "    .dataframe tbody tr th {\n",
              "        vertical-align: top;\n",
              "    }\n",
              "\n",
              "    .dataframe thead th {\n",
              "        text-align: right;\n",
              "    }\n",
              "</style>\n",
              "<table border=\"1\" class=\"dataframe\">\n",
              "  <thead>\n",
              "    <tr style=\"text-align: right;\">\n",
              "      <th></th>\n",
              "      <th>text</th>\n",
              "      <th>label</th>\n",
              "    </tr>\n",
              "  </thead>\n",
              "  <tbody>\n",
              "    <tr>\n",
              "      <th>0</th>\n",
              "      <td>a stirring , funny and finally transporting r...</td>\n",
              "      <td>1</td>\n",
              "    </tr>\n",
              "    <tr>\n",
              "      <th>1</th>\n",
              "      <td>apparently reassembled from the cutting-room ...</td>\n",
              "      <td>0</td>\n",
              "    </tr>\n",
              "    <tr>\n",
              "      <th>2</th>\n",
              "      <td>they presume their audience wo n't sit still ...</td>\n",
              "      <td>0</td>\n",
              "    </tr>\n",
              "    <tr>\n",
              "      <th>3</th>\n",
              "      <td>this is a visually stunning rumination on lov...</td>\n",
              "      <td>1</td>\n",
              "    </tr>\n",
              "    <tr>\n",
              "      <th>4</th>\n",
              "      <td>jonathan parker 's bartleby should have been ...</td>\n",
              "      <td>1</td>\n",
              "    </tr>\n",
              "    <tr>\n",
              "      <th>...</th>\n",
              "      <td>...</td>\n",
              "      <td>...</td>\n",
              "    </tr>\n",
              "    <tr>\n",
              "      <th>6915</th>\n",
              "      <td>painful , horrifying and oppressively tragic ...</td>\n",
              "      <td>1</td>\n",
              "    </tr>\n",
              "    <tr>\n",
              "      <th>6916</th>\n",
              "      <td>take care is nicely performed by a quintet of...</td>\n",
              "      <td>0</td>\n",
              "    </tr>\n",
              "    <tr>\n",
              "      <th>6917</th>\n",
              "      <td>the script covers huge , heavy topics in a bl...</td>\n",
              "      <td>0</td>\n",
              "    </tr>\n",
              "    <tr>\n",
              "      <th>6918</th>\n",
              "      <td>a seriously bad film with seriously warped lo...</td>\n",
              "      <td>0</td>\n",
              "    </tr>\n",
              "    <tr>\n",
              "      <th>6919</th>\n",
              "      <td>a deliciously nonsensical comedy about a city...</td>\n",
              "      <td>1</td>\n",
              "    </tr>\n",
              "  </tbody>\n",
              "</table>\n",
              "<p>6920 rows × 2 columns</p>\n",
              "</div>"
            ],
            "text/plain": [
              "                                                   text label\n",
              "0      a stirring , funny and finally transporting r...     1\n",
              "1      apparently reassembled from the cutting-room ...     0\n",
              "2      they presume their audience wo n't sit still ...     0\n",
              "3      this is a visually stunning rumination on lov...     1\n",
              "4      jonathan parker 's bartleby should have been ...     1\n",
              "...                                                 ...   ...\n",
              "6915   painful , horrifying and oppressively tragic ...     1\n",
              "6916   take care is nicely performed by a quintet of...     0\n",
              "6917   the script covers huge , heavy topics in a bl...     0\n",
              "6918   a seriously bad film with seriously warped lo...     0\n",
              "6919   a deliciously nonsensical comedy about a city...     1\n",
              "\n",
              "[6920 rows x 2 columns]"
            ]
          },
          "execution_count": 77,
          "metadata": {},
          "output_type": "execute_result"
        }
      ]
    },
    {
      "cell_type": "code",
      "metadata": {
        "id": "5TL0janP6N0g",
        "outputId": "3acf64d4-0fe4-48f9-bb12-3185d327f964"
      },
      "source": [
        "# Write your code here\n",
        "def clean_text(text,stop_words=True):\n",
        "    text = str(text)\n",
        "    cleaned_text = text.lower()\n",
        "    cleaned_text = \"\".join(c for c in cleaned_text if c not in punctuations)\n",
        "    words = cleaned_text.split()\n",
        "    if stop_words==True:\n",
        "      words = [w for w in words if w not in stopword_list]\n",
        "    words = [lem.lemmatize(word, \"v\") for word in words]\n",
        "    words = [lem.lemmatize(word, \"n\") for word in words]\n",
        "    cleaned_text = \" \".join(words)\n",
        "    return cleaned_text\n",
        "def get_feature_list(x,y,pca=0):\n",
        "  tfidf_transformer1 = TfidfVectorizer()\n",
        "  x1= tfidf_transformer1.fit_transform(x)\n",
        "  feature_array = np.array(tfidf_transformer1.get_feature_names())\n",
        "  x1 = x1.toarray()\n",
        "  if pca !=0:\n",
        "    pcas = PCA(pca).fit(x1)\n",
        "    x1 = pcas.transform(x1)\n",
        "  train_x,test_x,train_y,test_y = train_test_split(x1,y, random_state = 56,test_size=0.2,stratify=y)\n",
        "  return train_x,test_x,train_y,test_y,feature_array\n",
        "def get_feature_list_test(x,y,pca=0):\n",
        "  tfidf_transformer1 = TfidfVectorizer()\n",
        "  x1= tfidf_transformer1.fit_transform(x)\n",
        "  feature_array = np.array(tfidf_transformer1.get_feature_names())\n",
        "  x1 = x1.toarray()\n",
        "  if pca !=0:\n",
        "    pcas = PCA(pca).fit(x1)\n",
        "    x1 = pcas.transform(x1)\n",
        "  x1,y=x1,y\n",
        "  return x1,y\n",
        "df['text']=df['text'].apply(clean_text)\n",
        "dft['text']=dft['text'].apply(clean_text)\n",
        "df.head()"
      ],
      "execution_count": null,
      "outputs": [
        {
          "data": {
            "text/html": [
              "<div>\n",
              "<style scoped>\n",
              "    .dataframe tbody tr th:only-of-type {\n",
              "        vertical-align: middle;\n",
              "    }\n",
              "\n",
              "    .dataframe tbody tr th {\n",
              "        vertical-align: top;\n",
              "    }\n",
              "\n",
              "    .dataframe thead th {\n",
              "        text-align: right;\n",
              "    }\n",
              "</style>\n",
              "<table border=\"1\" class=\"dataframe\">\n",
              "  <thead>\n",
              "    <tr style=\"text-align: right;\">\n",
              "      <th></th>\n",
              "      <th>text</th>\n",
              "      <th>label</th>\n",
              "    </tr>\n",
              "  </thead>\n",
              "  <tbody>\n",
              "    <tr>\n",
              "      <th>0</th>\n",
              "      <td>stir funny finally transport reimagining beaut...</td>\n",
              "      <td>1</td>\n",
              "    </tr>\n",
              "    <tr>\n",
              "      <th>1</th>\n",
              "      <td>apparently reassemble cuttingroom floor give d...</td>\n",
              "      <td>0</td>\n",
              "    </tr>\n",
              "    <tr>\n",
              "      <th>2</th>\n",
              "      <td>presume audience wo nt sit still sociology les...</td>\n",
              "      <td>0</td>\n",
              "    </tr>\n",
              "    <tr>\n",
              "      <th>3</th>\n",
              "      <td>visually stun rumination love memory history w...</td>\n",
              "      <td>1</td>\n",
              "    </tr>\n",
              "    <tr>\n",
              "      <th>4</th>\n",
              "      <td>jonathan parker bartleby beallendall modernoff...</td>\n",
              "      <td>1</td>\n",
              "    </tr>\n",
              "  </tbody>\n",
              "</table>\n",
              "</div>"
            ],
            "text/plain": [
              "                                                text label\n",
              "0  stir funny finally transport reimagining beaut...     1\n",
              "1  apparently reassemble cuttingroom floor give d...     0\n",
              "2  presume audience wo nt sit still sociology les...     0\n",
              "3  visually stun rumination love memory history w...     1\n",
              "4  jonathan parker bartleby beallendall modernoff...     1"
            ]
          },
          "execution_count": 116,
          "metadata": {},
          "output_type": "execute_result"
        }
      ]
    },
    {
      "cell_type": "code",
      "metadata": {
        "id": "CoTC_cC29LDY",
        "outputId": "70695d56-3523-4d72-80ce-e3d2ef660fb3"
      },
      "source": [
        "x=df['text']\n",
        "y=df['label']\n",
        "xt=dft['text']\n",
        "yt=dft['label']\n",
        "train_x,test_x,train_y,test_y,feature_array = get_feature_list(x,y,pca=500)\n",
        "testing_x,testing_y= get_feature_list_test(x,y,pca=500)\n",
        "train_x.shape,test_x.shape,train_y.shape,test_y.shape"
      ],
      "execution_count": null,
      "outputs": [
        {
          "data": {
            "text/plain": [
              "((5536, 500), (1384, 500), (5536,), (1384,))"
            ]
          },
          "execution_count": 111,
          "metadata": {},
          "output_type": "execute_result"
        }
      ]
    },
    {
      "cell_type": "code",
      "metadata": {
        "id": "UR7iVh2e_paS",
        "outputId": "bb23be79-9626-4d13-eef0-25b0550849b5"
      },
      "source": [
        "X_train,X_test,y_train,y_test=train_x,test_x,train_y,test_y\n",
        "svc = SVC(C=100,kernel='rbf')\n",
        "svc.fit(X_train, y_train)\n",
        "print(f'train accuracy: {svc.score(X_train, y_train)}')\n",
        "accuracy = accuracy_score(y_test, svc.predict(X_test))\n",
        "conf_mat = confusion_matrix(y_test,svc.predict(X_test))\n",
        "print(\"The accuracy of the model is :\", round(accuracy,3)*100,\"%\")\n",
        "print(\"Confusion Matrix:\\n\",conf_mat)\n",
        "precision, recall, fscore, support = precision_recall_fscore_support(y_test,svc.predict(X_test), average='weighted')\n",
        "print('Precision = ',round(precision,4),'\\nRecall = ', round(recall,4), '\\nF-Score = ',round(fscore,4))"
      ],
      "execution_count": null,
      "outputs": [
        {
          "name": "stdout",
          "output_type": "stream",
          "text": [
            "train accuracy: 0.9985549132947977\n",
            "The accuracy of the model is : 74.1 %\n",
            "Confusion Matrix:\n",
            " [[476 186]\n",
            " [173 549]]\n",
            "Precision =  0.7405 \n",
            "Recall =  0.7406 \n",
            "F-Score =  0.7405\n"
          ]
        }
      ]
    },
    {
      "cell_type": "code",
      "metadata": {
        "id": "ivnit4fZDxs1",
        "outputId": "4d35ef99-916b-45ad-84b2-e721fcfb7e23"
      },
      "source": [
        "from sklearn.model_selection import cross_val_score\n",
        "scores = cross_val_score(svc, testing_x,testing_y, cv=10)\n",
        "scores"
      ],
      "execution_count": null,
      "outputs": [
        {
          "data": {
            "text/plain": [
              "array([0.72254335, 0.74132948, 0.76300578, 0.69364162, 0.69797688,\n",
              "       0.76445087, 0.73988439, 0.72976879, 0.73554913, 0.72543353])"
            ]
          },
          "execution_count": 113,
          "metadata": {},
          "output_type": "execute_result"
        }
      ]
    },
    {
      "cell_type": "code",
      "metadata": {
        "id": "W0NzABSzDxs1",
        "outputId": "a03ed851-504b-49b0-f11a-9e0029d5dedf"
      },
      "source": [
        "X_train,X_test,y_train,y_test=train_x,test_x,train_y,test_y\n",
        "svc = DecisionTreeClassifier()\n",
        "svc.fit(X_train, y_train)\n",
        "print(f'train accuracy: {svc.score(X_train, y_train)}')\n",
        "accuracy = accuracy_score(y_test, svc.predict(X_test))\n",
        "conf_mat = confusion_matrix(y_test,svc.predict(X_test))\n",
        "print(\"The accuracy of the model is :\", round(accuracy,3)*100,\"%\")\n",
        "print(\"Confusion Matrix:\\n\",conf_mat)\n",
        "precision, recall, fscore, support = precision_recall_fscore_support(y_test,svc.predict(X_test), average='weighted')\n",
        "print('Precision = ',round(precision,4),'\\nRecall = ', round(recall,4), '\\nF-Score = ',round(fscore,4))"
      ],
      "execution_count": null,
      "outputs": [
        {
          "name": "stdout",
          "output_type": "stream",
          "text": [
            "train accuracy: 0.9994580924855492\n",
            "The accuracy of the model is : 57.9 %\n",
            "Confusion Matrix:\n",
            " [[373 289]\n",
            " [294 428]]\n",
            "Precision =  0.5789 \n",
            "Recall =  0.5788 \n",
            "F-Score =  0.5788\n"
          ]
        }
      ]
    },
    {
      "cell_type": "code",
      "metadata": {
        "id": "CRuk7gj3Dxs1",
        "outputId": "5022f9e7-6815-4b40-b971-abdb1c13f338"
      },
      "source": [
        "scores = cross_val_score(svc, testing_x,testing_y, cv=10)\n",
        "scores"
      ],
      "execution_count": null,
      "outputs": [
        {
          "data": {
            "text/plain": [
              "array([0.566787  , 0.56859206, 0.5631769 , 0.58303249, 0.59386282,\n",
              "       0.59205776, 0.5840868 , 0.5443038 , 0.55877034, 0.5443038 ])"
            ]
          },
          "execution_count": 97,
          "metadata": {},
          "output_type": "execute_result"
        }
      ]
    },
    {
      "cell_type": "code",
      "metadata": {
        "id": "QKkvR5gGDxs2",
        "outputId": "d5253d3c-dd2b-4e13-8c1a-728874f5abb3"
      },
      "source": [
        "X_train,X_test,y_train,y_test=train_x,test_x,train_y,test_y\n",
        "svc = RandomForestClassifier()\n",
        "svc.fit(X_train, y_train)\n",
        "print(f'train accuracy: {svc.score(X_train, y_train)}')\n",
        "accuracy = accuracy_score(y_test, svc.predict(X_test))\n",
        "conf_mat = confusion_matrix(y_test,svc.predict(X_test))\n",
        "print(\"The accuracy of the model is :\", round(accuracy,3)*100,\"%\")\n",
        "print(\"Confusion Matrix:\\n\",conf_mat)\n",
        "precision, recall, fscore, support = precision_recall_fscore_support(y_test,svc.predict(X_test), average='weighted')\n",
        "print('Precision = ',round(precision,4),'\\nRecall = ', round(recall,4), '\\nF-Score = ',round(fscore,4))"
      ],
      "execution_count": null,
      "outputs": [
        {
          "name": "stdout",
          "output_type": "stream",
          "text": [
            "train accuracy: 0.9994580924855492\n",
            "The accuracy of the model is : 69.5 %\n",
            "Confusion Matrix:\n",
            " [[427 235]\n",
            " [187 535]]\n",
            "Precision =  0.6951 \n",
            "Recall =  0.6951 \n",
            "F-Score =  0.6943\n"
          ]
        }
      ]
    },
    {
      "cell_type": "code",
      "metadata": {
        "id": "JDoDMVldDxs2",
        "outputId": "b61043be-015e-48f6-b258-6b63a13eefaf"
      },
      "source": [
        "scores = cross_val_score(svc, testing_x,testing_y, cv=10)\n",
        "scores"
      ],
      "execution_count": null,
      "outputs": [
        {
          "data": {
            "text/plain": [
              "array([0.68050542, 0.66967509, 0.66787004, 0.68050542, 0.62815884,\n",
              "       0.70036101, 0.68173599, 0.64918626, 0.64737794, 0.65461121])"
            ]
          },
          "execution_count": 99,
          "metadata": {},
          "output_type": "execute_result"
        }
      ]
    },
    {
      "cell_type": "code",
      "metadata": {
        "id": "E2Ky_DwPDxs2",
        "outputId": "d53d1365-c519-4d12-c9da-bbc10200ff04"
      },
      "source": [
        "X_train,X_test,y_train,y_test=train_x,test_x,train_y,test_y\n",
        "svc = XGBClassifier()\n",
        "svc.fit(X_train, y_train)\n",
        "print(f'train accuracy: {svc.score(X_train, y_train)}')\n",
        "accuracy = accuracy_score(y_test, svc.predict(X_test))\n",
        "conf_mat = confusion_matrix(y_test,svc.predict(X_test))\n",
        "print(\"The accuracy of the model is :\", round(accuracy,3)*100,\"%\")\n",
        "print(\"Confusion Matrix:\\n\",conf_mat)\n",
        "precision, recall, fscore, support = precision_recall_fscore_support(y_test,svc.predict(X_test), average='weighted')\n",
        "print('Precision = ',round(precision,4),'\\nRecall = ', round(recall,4), '\\nF-Score = ',round(fscore,4))"
      ],
      "execution_count": null,
      "outputs": [
        {
          "name": "stdout",
          "output_type": "stream",
          "text": [
            "[23:46:04] WARNING: C:/Users/Administrator/workspace/xgboost-win64_release_1.5.0/src/learner.cc:1115: Starting in XGBoost 1.3.0, the default evaluation metric used with the objective 'binary:logistic' was changed from 'error' to 'logloss'. Explicitly set eval_metric if you'd like to restore the old behavior.\n",
            "train accuracy: 0.9994580924855492\n",
            "The accuracy of the model is : 72.3 %\n",
            "Confusion Matrix:\n",
            " [[470 192]\n",
            " [192 530]]\n",
            "Precision =  0.7225 \n",
            "Recall =  0.7225 \n",
            "F-Score =  0.7225\n"
          ]
        }
      ]
    },
    {
      "cell_type": "code",
      "metadata": {
        "id": "fVXDcdObDxs3",
        "outputId": "43f491cc-07dc-4e18-8a80-00d581331da7"
      },
      "source": [
        "scores = cross_val_score(svc, testing_x,testing_y, cv=10)\n",
        "scores"
      ],
      "execution_count": null,
      "outputs": [
        {
          "name": "stdout",
          "output_type": "stream",
          "text": [
            "[23:46:09] WARNING: C:/Users/Administrator/workspace/xgboost-win64_release_1.5.0/src/learner.cc:1115: Starting in XGBoost 1.3.0, the default evaluation metric used with the objective 'binary:logistic' was changed from 'error' to 'logloss'. Explicitly set eval_metric if you'd like to restore the old behavior.\n",
            "[23:46:14] WARNING: C:/Users/Administrator/workspace/xgboost-win64_release_1.5.0/src/learner.cc:1115: Starting in XGBoost 1.3.0, the default evaluation metric used with the objective 'binary:logistic' was changed from 'error' to 'logloss'. Explicitly set eval_metric if you'd like to restore the old behavior.\n",
            "[23:46:20] WARNING: C:/Users/Administrator/workspace/xgboost-win64_release_1.5.0/src/learner.cc:1115: Starting in XGBoost 1.3.0, the default evaluation metric used with the objective 'binary:logistic' was changed from 'error' to 'logloss'. Explicitly set eval_metric if you'd like to restore the old behavior.\n",
            "[23:46:26] WARNING: C:/Users/Administrator/workspace/xgboost-win64_release_1.5.0/src/learner.cc:1115: Starting in XGBoost 1.3.0, the default evaluation metric used with the objective 'binary:logistic' was changed from 'error' to 'logloss'. Explicitly set eval_metric if you'd like to restore the old behavior.\n",
            "[23:46:34] WARNING: C:/Users/Administrator/workspace/xgboost-win64_release_1.5.0/src/learner.cc:1115: Starting in XGBoost 1.3.0, the default evaluation metric used with the objective 'binary:logistic' was changed from 'error' to 'logloss'. Explicitly set eval_metric if you'd like to restore the old behavior.\n",
            "[23:46:41] WARNING: C:/Users/Administrator/workspace/xgboost-win64_release_1.5.0/src/learner.cc:1115: Starting in XGBoost 1.3.0, the default evaluation metric used with the objective 'binary:logistic' was changed from 'error' to 'logloss'. Explicitly set eval_metric if you'd like to restore the old behavior.\n",
            "[23:46:49] WARNING: C:/Users/Administrator/workspace/xgboost-win64_release_1.5.0/src/learner.cc:1115: Starting in XGBoost 1.3.0, the default evaluation metric used with the objective 'binary:logistic' was changed from 'error' to 'logloss'. Explicitly set eval_metric if you'd like to restore the old behavior.\n",
            "[23:46:58] WARNING: C:/Users/Administrator/workspace/xgboost-win64_release_1.5.0/src/learner.cc:1115: Starting in XGBoost 1.3.0, the default evaluation metric used with the objective 'binary:logistic' was changed from 'error' to 'logloss'. Explicitly set eval_metric if you'd like to restore the old behavior.\n",
            "[23:47:06] WARNING: C:/Users/Administrator/workspace/xgboost-win64_release_1.5.0/src/learner.cc:1115: Starting in XGBoost 1.3.0, the default evaluation metric used with the objective 'binary:logistic' was changed from 'error' to 'logloss'. Explicitly set eval_metric if you'd like to restore the old behavior.\n",
            "[23:47:15] WARNING: C:/Users/Administrator/workspace/xgboost-win64_release_1.5.0/src/learner.cc:1115: Starting in XGBoost 1.3.0, the default evaluation metric used with the objective 'binary:logistic' was changed from 'error' to 'logloss'. Explicitly set eval_metric if you'd like to restore the old behavior.\n"
          ]
        },
        {
          "data": {
            "text/plain": [
              "array([0.69797688, 0.70809249, 0.71531792, 0.69508671, 0.66184971,\n",
              "       0.73988439, 0.70086705, 0.69508671, 0.73843931, 0.7066474 ])"
            ]
          },
          "execution_count": 145,
          "metadata": {},
          "output_type": "execute_result"
        }
      ]
    },
    {
      "cell_type": "code",
      "metadata": {
        "id": "EGV0WB76Dxs3",
        "outputId": "1d16b6cb-c282-44f0-b5de-f39d814a5a60"
      },
      "source": [
        "X_train,X_test,y_train,y_test=train_x,test_x,train_y,test_y\n",
        "svc = KNeighborsClassifier()\n",
        "svc.fit(X_train, y_train)\n",
        "print(f'train accuracy: {svc.score(X_train, y_train)}')\n",
        "accuracy = accuracy_score(y_test, svc.predict(X_test))\n",
        "conf_mat = confusion_matrix(y_test,svc.predict(X_test))\n",
        "print(\"The accuracy of the model is :\", round(accuracy,3)*100,\"%\")\n",
        "print(\"Confusion Matrix:\\n\",conf_mat)\n",
        "precision, recall, fscore, support = precision_recall_fscore_support(y_test,svc.predict(X_test), average='weighted')\n",
        "print('Precision = ',round(precision,4),'\\nRecall = ', round(recall,4), '\\nF-Score = ',round(fscore,4))"
      ],
      "execution_count": null,
      "outputs": [
        {
          "name": "stdout",
          "output_type": "stream",
          "text": [
            "train accuracy: 0.7579479768786127\n",
            "The accuracy of the model is : 62.2 %\n",
            "Confusion Matrix:\n",
            " [[444 218]\n",
            " [305 417]]\n",
            "Precision =  0.6261 \n",
            "Recall =  0.6221 \n",
            "F-Score =  0.6216\n"
          ]
        }
      ]
    },
    {
      "cell_type": "code",
      "metadata": {
        "id": "-He62m3BDxs3",
        "outputId": "86d13003-89c7-4c29-c861-7b708732e313"
      },
      "source": [
        "scores = cross_val_score(svc, testing_x,testing_y, cv=10)\n",
        "scores"
      ],
      "execution_count": null,
      "outputs": [
        {
          "data": {
            "text/plain": [
              "array([0.61849711, 0.61271676, 0.62861272, 0.5867052 , 0.60260116,\n",
              "       0.64017341, 0.62572254, 0.58815029, 0.63872832, 0.5982659 ])"
            ]
          },
          "execution_count": 147,
          "metadata": {},
          "output_type": "execute_result"
        }
      ]
    },
    {
      "cell_type": "code",
      "metadata": {
        "id": "guMhQ1fhDxs3",
        "outputId": "bed73a08-e5ba-4032-9cf9-787c09657ab5"
      },
      "source": [
        "X_train,X_test,y_train,y_test=train_x,test_x,train_y,test_y\n",
        "svc = MultinomialNB()\n",
        "svc.fit(X_train, y_train)\n",
        "print(f'train accuracy: {svc.score(X_train, y_train)}')\n",
        "accuracy = accuracy_score(y_test, svc.predict(X_test))\n",
        "conf_mat = confusion_matrix(y_test,svc.predict(X_test))\n",
        "print(\"The accuracy of the model is :\", round(accuracy,3)*100,\"%\")\n",
        "print(\"Confusion Matrix:\\n\",conf_mat)\n",
        "precision, recall, fscore, support = precision_recall_fscore_support(y_test,svc.predict(X_test), average='weighted')\n",
        "print('Precision = ',round(precision,4),'\\nRecall = ', round(recall,4), '\\nF-Score = ',round(fscore,4))"
      ],
      "execution_count": null,
      "outputs": [
        {
          "name": "stdout",
          "output_type": "stream",
          "text": [
            "train accuracy: 0.6255419075144508\n",
            "The accuracy of the model is : 100.0 %\n",
            "Confusion Matrix:\n",
            " [[662   0]\n",
            " [  0 722]]\n",
            "Precision =  1.0 \n",
            "Recall =  1.0 \n",
            "F-Score =  1.0\n"
          ]
        }
      ]
    },
    {
      "cell_type": "code",
      "metadata": {
        "id": "X7meO3fT9_5O",
        "outputId": "50edb098-0b73-4849-d10e-3210a483a62e"
      },
      "source": [
        "from sklearn.model_selection import cross_val_score\n",
        "scores = cross_val_score(svc, testing_x,testing_y, cv=10)\n",
        "scores"
      ],
      "execution_count": null,
      "outputs": [
        {
          "data": {
            "text/plain": [
              "array([0.68208092, 0.68641618, 0.70809249, 0.66184971, 0.62861272,\n",
              "       0.7066474 , 0.69219653, 0.68930636, 0.68208092, 0.65606936])"
            ]
          },
          "execution_count": 149,
          "metadata": {},
          "output_type": "execute_result"
        }
      ]
    },
    {
      "cell_type": "markdown",
      "metadata": {
        "id": "dBj1AOlb6N0v"
      },
      "source": [
        "(20 points) The purpose of the question is to practice different machine learning algorithms for text clustering\n",
        "Please downlad the dataset by using the following link.  https://www.kaggle.com/PromptCloudHQ/amazon-reviews-unlocked-mobile-phones\n",
        "(You can also use different text data which you want)\n",
        "\n",
        "Apply the listed clustering methods to the dataset:\n",
        "\n",
        "K means, \n",
        "DBSCAN,\n",
        "Hierarchical clustering. \n",
        "\n",
        "You can refer to of the codes from  the follwing link below. \n",
        "https://www.kaggle.com/karthik3890/text-clustering "
      ]
    },
    {
      "cell_type": "code",
      "metadata": {
        "id": "NTUHbCD-Dxs4",
        "outputId": "d4020ddf-3b08-481a-e2c7-a41205db44c5"
      },
      "source": [
        "data = pd.read_csv(r'C:\\Users\\reddy\\Downloads\\archive\\Amazon_Unlocked_Mobile.csv')\n",
        "data.head()"
      ],
      "execution_count": null,
      "outputs": [
        {
          "data": {
            "text/html": [
              "<div>\n",
              "<style scoped>\n",
              "    .dataframe tbody tr th:only-of-type {\n",
              "        vertical-align: middle;\n",
              "    }\n",
              "\n",
              "    .dataframe tbody tr th {\n",
              "        vertical-align: top;\n",
              "    }\n",
              "\n",
              "    .dataframe thead th {\n",
              "        text-align: right;\n",
              "    }\n",
              "</style>\n",
              "<table border=\"1\" class=\"dataframe\">\n",
              "  <thead>\n",
              "    <tr style=\"text-align: right;\">\n",
              "      <th></th>\n",
              "      <th>Product Name</th>\n",
              "      <th>Brand Name</th>\n",
              "      <th>Price</th>\n",
              "      <th>Rating</th>\n",
              "      <th>Reviews</th>\n",
              "      <th>Review Votes</th>\n",
              "    </tr>\n",
              "  </thead>\n",
              "  <tbody>\n",
              "    <tr>\n",
              "      <th>0</th>\n",
              "      <td>\"CLEAR CLEAN ESN\" Sprint EPIC 4G Galaxy SPH-D7...</td>\n",
              "      <td>Samsung</td>\n",
              "      <td>199.99</td>\n",
              "      <td>5</td>\n",
              "      <td>I feel so LUCKY to have found this used (phone...</td>\n",
              "      <td>1.0</td>\n",
              "    </tr>\n",
              "    <tr>\n",
              "      <th>1</th>\n",
              "      <td>\"CLEAR CLEAN ESN\" Sprint EPIC 4G Galaxy SPH-D7...</td>\n",
              "      <td>Samsung</td>\n",
              "      <td>199.99</td>\n",
              "      <td>4</td>\n",
              "      <td>nice phone, nice up grade from my pantach revu...</td>\n",
              "      <td>0.0</td>\n",
              "    </tr>\n",
              "    <tr>\n",
              "      <th>2</th>\n",
              "      <td>\"CLEAR CLEAN ESN\" Sprint EPIC 4G Galaxy SPH-D7...</td>\n",
              "      <td>Samsung</td>\n",
              "      <td>199.99</td>\n",
              "      <td>5</td>\n",
              "      <td>Very pleased</td>\n",
              "      <td>0.0</td>\n",
              "    </tr>\n",
              "    <tr>\n",
              "      <th>3</th>\n",
              "      <td>\"CLEAR CLEAN ESN\" Sprint EPIC 4G Galaxy SPH-D7...</td>\n",
              "      <td>Samsung</td>\n",
              "      <td>199.99</td>\n",
              "      <td>4</td>\n",
              "      <td>It works good but it goes slow sometimes but i...</td>\n",
              "      <td>0.0</td>\n",
              "    </tr>\n",
              "    <tr>\n",
              "      <th>4</th>\n",
              "      <td>\"CLEAR CLEAN ESN\" Sprint EPIC 4G Galaxy SPH-D7...</td>\n",
              "      <td>Samsung</td>\n",
              "      <td>199.99</td>\n",
              "      <td>4</td>\n",
              "      <td>Great phone to replace my lost phone. The only...</td>\n",
              "      <td>0.0</td>\n",
              "    </tr>\n",
              "  </tbody>\n",
              "</table>\n",
              "</div>"
            ],
            "text/plain": [
              "                                        Product Name Brand Name   Price  \\\n",
              "0  \"CLEAR CLEAN ESN\" Sprint EPIC 4G Galaxy SPH-D7...    Samsung  199.99   \n",
              "1  \"CLEAR CLEAN ESN\" Sprint EPIC 4G Galaxy SPH-D7...    Samsung  199.99   \n",
              "2  \"CLEAR CLEAN ESN\" Sprint EPIC 4G Galaxy SPH-D7...    Samsung  199.99   \n",
              "3  \"CLEAR CLEAN ESN\" Sprint EPIC 4G Galaxy SPH-D7...    Samsung  199.99   \n",
              "4  \"CLEAR CLEAN ESN\" Sprint EPIC 4G Galaxy SPH-D7...    Samsung  199.99   \n",
              "\n",
              "   Rating                                            Reviews  Review Votes  \n",
              "0       5  I feel so LUCKY to have found this used (phone...           1.0  \n",
              "1       4  nice phone, nice up grade from my pantach revu...           0.0  \n",
              "2       5                                       Very pleased           0.0  \n",
              "3       4  It works good but it goes slow sometimes but i...           0.0  \n",
              "4       4  Great phone to replace my lost phone. The only...           0.0  "
            ]
          },
          "execution_count": 114,
          "metadata": {},
          "output_type": "execute_result"
        }
      ]
    },
    {
      "cell_type": "code",
      "metadata": {
        "id": "Sjq0bQaKDxs4"
      },
      "source": [
        "#Write your code here.\n",
        "data['Reviews']=data['Reviews'].apply(clean_text)"
      ],
      "execution_count": null,
      "outputs": []
    },
    {
      "cell_type": "code",
      "metadata": {
        "id": "qZGbhBdiDxs4",
        "outputId": "eaff24d6-8dfa-400f-a149-5af843e90e20"
      },
      "source": [
        "#tfidf vector initililization\n",
        "from sklearn.feature_extraction.text import TfidfVectorizer\n",
        "tfidf_vect = TfidfVectorizer()\n",
        "tfidf = tfidf_vect.fit_transform(data['Reviews'])\n",
        "tfidf.shape"
      ],
      "execution_count": null,
      "outputs": [
        {
          "data": {
            "text/plain": [
              "(1000, 3096)"
            ]
          },
          "execution_count": 121,
          "metadata": {},
          "output_type": "execute_result"
        }
      ]
    },
    {
      "cell_type": "code",
      "metadata": {
        "id": "PQDbBSTg6N0w",
        "outputId": "b7b7b13a-1ccf-4a68-fa8f-5df08c9c81b8"
      },
      "source": [
        "#using all processes jobs=-1 and k means++ for starting initilization advantage\n",
        "from sklearn.cluster import KMeans\n",
        "model_tf = KMeans(n_clusters = 9,init='k-means++', n_jobs = -1,random_state=99)\n",
        "model_tf.fit(tfidf)\n",
        "labels_tf = model_tf.labels_\n",
        "cluster_center_tf=model_tf.cluster_centers_\n",
        "from sklearn import metrics\n",
        "silhouette_score_tf = metrics.silhouette_score(tfidf, labels_tf, metric='euclidean')"
      ],
      "execution_count": null,
      "outputs": [
        {
          "name": "stderr",
          "output_type": "stream",
          "text": [
            "C:\\Users\\reddy\\anaconda3\\lib\\site-packages\\sklearn\\cluster\\_kmeans.py:792: FutureWarning: 'n_jobs' was deprecated in version 0.23 and will be removed in 1.0 (renaming of 0.25).\n",
            "  warnings.warn(\"'n_jobs' was deprecated in version 0.23 and will be\"\n"
          ]
        }
      ]
    },
    {
      "cell_type": "code",
      "metadata": {
        "id": "UKzbPacXDxs5",
        "outputId": "d0f391f7-3282-442d-e780-7a8ac0e8a391"
      },
      "source": [
        "print(\"Top terms per cluster:\")\n",
        "terms1 = tfidf_vect.get_feature_names()\n",
        "order_centroids = model_tf.cluster_centers_.argsort()[:, ::-1]\n",
        "for i in range(10):\n",
        "    print(\"Cluster %d:\" % i, end='')\n",
        "    for ind in order_centroids[i, :10]:\n",
        "        print(' %s' % terms1[ind], end='')\n",
        "        print()"
      ],
      "execution_count": null,
      "outputs": [
        {
          "name": "stdout",
          "output_type": "stream",
          "text": [
            "Top terms per cluster:\n",
            "Cluster 0: excelent\n",
            " ok\n",
            " bad\n",
            " exelente\n",
            " junk\n",
            " far\n",
            " put\n",
            " someone\n",
            " sim\n",
            " eyesight\n",
            "Cluster 1: good\n",
            " phone\n",
            " price\n",
            " product\n",
            " mobile\n",
            " cell\n",
            " thank\n",
            " work\n",
            " quality\n",
            " buy\n",
            "Cluster 2: phone\n",
            " good\n",
            " like\n",
            " great\n",
            " use\n",
            " buy\n",
            " product\n",
            " screen\n",
            " get\n",
            " work\n",
            "Cluster 3: phone\n",
            " great\n",
            " use\n",
            " work\n",
            " good\n",
            " card\n",
            " buy\n",
            " get\n",
            " would\n",
            " screen\n",
            "Cluster 4: bueno\n",
            " muy\n",
            " excelente\n",
            " bien\n",
            " excelete\n",
            " gracias\n",
            " fake\n",
            " famous\n",
            " family\n",
            " familiarize\n",
            "Cluster 5: fine\n",
            " far\n",
            " work\n",
            " seem\n",
            " birthday\n",
            " charge\n",
            " diagonosis\n",
            " repair\n",
            " give\n",
            " extensive\n",
            "Cluster 6: excellent\n",
            " product\n",
            " recommend\n",
            " thank\n",
            " condition\n",
            " arrive\n",
            " seller\n",
            " much\n",
            " 100\n",
            " phono\n",
            "Cluster 7: excelente\n",
            " telefono\n",
            " producto\n",
            " 发哥版\n",
            " famous\n",
            " familiarize\n",
            " familiar\n",
            " false\n",
            " falla\n",
            " fall\n",
            "Cluster 8: work\n",
            " phone\n",
            " didnt\n",
            " item\n",
            " lousy\n",
            " great\n",
            " att\n",
            " die\n",
            " arrive\n",
            " avert\n",
            "Cluster 9: love\n",
            " phone\n",
            " great\n",
            " buy\n",
            " use\n",
            " easy\n",
            " mom\n",
            " best\n",
            " michelleheraud\n",
            " like\n"
          ]
        }
      ]
    },
    {
      "cell_type": "code",
      "metadata": {
        "id": "-tt1iEkODxs5",
        "outputId": "58e9b029-71d9-44b3-a874-68f7bb4032a3"
      },
      "source": [
        "# visually how points or reviews are distributed across 10 clusters \n",
        "data['Tfidf Clus Label'] = model_tf.labels_\n",
        "plt.bar([x for x in range(10)], data.groupby(['Tfidf Clus Label'])['Reviews'].count(), alpha = 0.4)\n",
        "plt.title('KMeans cluster points')\n",
        "plt.xlabel(\"Cluster number\")\n",
        "plt.ylabel(\"Number of points\")\n",
        "plt.show()"
      ],
      "execution_count": null,
      "outputs": [
        {
          "data": {
            "image/png": "[encoded data removed]",
            "text/plain": [
              "<Figure size 432x288 with 1 Axes>"
            ]
          },
          "metadata": {
            "needs_background": "light"
          },
          "output_type": "display_data"
        }
      ]
    },
    {
      "cell_type": "code",
      "metadata": {
        "id": "AoclKNKuDxs5",
        "outputId": "a49e58bd-f022-4530-b421-c35268756d03"
      },
      "source": [
        "import gensim\n",
        "list_of_sent_train=data['Reviews']\n",
        "# Training the wor2vec model using train dataset\n",
        "w2v_model=gensim.models.Word2Vec(list_of_sent_train,size=100, workers=4)\n",
        "import numpy as np\n",
        "sent_vectors = []; # the avg-w2v for each sentence/review is stored in this train\n",
        "for sent in list_of_sent_train: # for each review/sentence\n",
        "    sent_vec = np.zeros(100) # as word vectors are of zero length\n",
        "    cnt_words =0; # num of words with a valid vector in the sentence/review\n",
        "    for word in sent: # for each word in a review/sentence\n",
        "        try:\n",
        "            vec = w2v_model.wv[word]\n",
        "            sent_vec += vec\n",
        "            cnt_words += 1\n",
        "        except:\n",
        "            pass\n",
        "    sent_vec /= cnt_words\n",
        "    sent_vectors.append(sent_vec)\n",
        "sent_vectors = np.array(sent_vectors)\n",
        "sent_vectors = np.nan_to_num(sent_vectors)\n",
        "sent_vectors.shape"
      ],
      "execution_count": null,
      "outputs": [
        {
          "name": "stderr",
          "output_type": "stream",
          "text": [
            "C:\\Users\\reddy\\AppData\\Local\\Temp/ipykernel_17192/2552641619.py:17: RuntimeWarning: invalid value encountered in true_divide\n",
            "  sent_vec /= cnt_words\n"
          ]
        },
        {
          "data": {
            "text/plain": [
              "(1000, 100)"
            ]
          },
          "execution_count": 130,
          "metadata": {},
          "output_type": "execute_result"
        }
      ]
    },
    {
      "cell_type": "code",
      "metadata": {
        "id": "9XOqYc4iDxs6",
        "outputId": "d11cfd58-e8e6-4871-ed4e-b157b0c86146"
      },
      "source": [
        "# Number of clusters to check.\n",
        "num_clus = [x for x in range(3,11)]\n",
        "squared_errors = []\n",
        "for cluster in num_clus:\n",
        "    kmeans = KMeans(n_clusters = cluster).fit(sent_vectors) # Train Cluster\n",
        "    squared_errors.append(kmeans.inertia_) # Appending the squared loss obtained in the list\n",
        "    \n",
        "optimal_clusters = np.argmin(squared_errors) + 2 # As argmin return the index of minimum loss. \n",
        "plt.plot(num_clus, squared_errors)\n",
        "plt.title(\"Elbow Curve to find the no. of clusters.\")\n",
        "plt.xlabel(\"Number of clusters.\")\n",
        "plt.ylabel(\"Squared Loss.\")\n",
        "xy = (optimal_clusters, min(squared_errors))\n",
        "plt.annotate('(%s, %s)' % xy, xy = xy, textcoords='data')\n",
        "plt.show()\n",
        "\n",
        "print (\"The optimal number of clusters obtained is - \", optimal_clusters)\n",
        "print (\"The loss for optimal cluster is - \", min(squared_errors))"
      ],
      "execution_count": null,
      "outputs": [
        {
          "data": {
            "image/png": "[encoded data removed]",
            "text/plain": [
              "<Figure size 432x288 with 1 Axes>"
            ]
          },
          "metadata": {
            "needs_background": "light"
          },
          "output_type": "display_data"
        },
        {
          "name": "stdout",
          "output_type": "stream",
          "text": [
            "The optimal number of clusters obtained is -  9\n",
            "The loss for optimal cluster is -  6.0533751804521065\n"
          ]
        }
      ]
    },
    {
      "cell_type": "code",
      "metadata": {
        "id": "zeN7czISDxs6"
      },
      "source": [
        ""
      ],
      "execution_count": null,
      "outputs": []
    },
    {
      "cell_type": "code",
      "metadata": {
        "id": "mv5TNFceDxs6"
      },
      "source": [
        "minPts = 2 * 100\n",
        "# Lower bound function copied from -> https://gist.github.com/m00nlight/0f9306b4d4e61ba0195f\n",
        "def lower_bound(nums, target): # This function return the number in the array just greater than or equal to itself.\n",
        "    l, r = 0, len(nums) - 1\n",
        "    while l <= r: # Binary searching.\n",
        "        mid = int(l + (r - l) / 2)\n",
        "        if nums[mid] >= target:\n",
        "            r = mid - 1\n",
        "        else:\n",
        "            l = mid + 1\n",
        "    return l\n",
        "def compute200thnearestneighbour(x, data): # Returns the distance of 200th nearest neighbour.\n",
        "    dists = []\n",
        "    for val in data:\n",
        "        dist = np.sum((x - val) **2 ) # computing distances.\n",
        "        if(len(dists) == 200 and dists[199] > dist): # If distance is larger than current largest distance found.\n",
        "            l = int(lower_bound(dists, dist)) # Using the lower bound function to get the right position.\n",
        "            if l < 200 and l >= 0 and dists[l] > dist:\n",
        "                dists[l] = dist\n",
        "        else:\n",
        "            dists.append(dist)\n",
        "            dists.sort()\n",
        "    \n",
        "    return dists[199] # Dist 199 contains the distance of 200th nearest neighbour.\n",
        "twohundrethneigh = []\n",
        "for val in sent_vectors[:1500]:\n",
        "    twohundrethneigh.append( compute200thnearestneighbour(val, sent_vectors[:1500]) )\n",
        "twohundrethneigh.sort()"
      ],
      "execution_count": null,
      "outputs": []
    },
    {
      "cell_type": "code",
      "metadata": {
        "id": "w6khNcOiDxs7",
        "outputId": "f933b0c1-f813-4c2a-8d84-ad5a7f38ff3a"
      },
      "source": [
        "# Plotting for the Elbow Method :\n",
        "plt.figure(figsize=(14,4))\n",
        "plt.title(\"Elbow Method for Finding the right Eps hyperparameter\")\n",
        "plt.plot([x for x in range(len(twohundrethneigh))], twohundrethneigh)\n",
        "plt.xlabel(\"Number of points\")\n",
        "plt.ylabel(\"Distance of 200th Nearest Neighbour\")\n",
        "plt.show()"
      ],
      "execution_count": null,
      "outputs": [
        {
          "data": {
            "image/png": "[encoded data removed]",
            "text/plain": [
              "<Figure size 1008x288 with 1 Axes>"
            ]
          },
          "metadata": {
            "needs_background": "light"
          },
          "output_type": "display_data"
        }
      ]
    },
    {
      "cell_type": "code",
      "metadata": {
        "id": "gBI1wu5HDxs7",
        "outputId": "10cbc3af-e8eb-4ec4-9feb-29aa428afd7f"
      },
      "source": [
        "#You can write you answer here. (No code needed)\n",
        "from sklearn.cluster import DBSCAN\n",
        "# Training DBSCAN :\n",
        "model = DBSCAN(eps = 5, min_samples = minPts, n_jobs=-1)\n",
        "model.fit(sent_vectors)\n",
        "import scipy\n",
        "from scipy.cluster import hierarchy\n",
        "dendro=hierarchy.dendrogram(hierarchy.linkage(sent_vectors,method='ward'))\n",
        "plt.axhline(y=35)# cut at 30 to get 5 clusters"
      ],
      "execution_count": null,
      "outputs": [
        {
          "data": {
            "text/plain": [
              "<matplotlib.lines.Line2D at 0x2ed0f086910>"
            ]
          },
          "execution_count": 134,
          "metadata": {},
          "output_type": "execute_result"
        },
        {
          "data": {
            "image/png": "[encoded data removed]",
            "text/plain": [
              "<Figure size 432x288 with 1 Axes>"
            ]
          },
          "metadata": {
            "needs_background": "light"
          },
          "output_type": "display_data"
        }
      ]
    },
    {
      "cell_type": "code",
      "metadata": {
        "id": "v0UfnGVDDxs7"
      },
      "source": [
        "from sklearn.cluster import AgglomerativeClustering\n",
        "\n",
        "cluster = AgglomerativeClustering(n_clusters=5, affinity='euclidean', linkage='ward')  #took n=5 from dendrogram curve \n",
        "Agg=cluster.fit_predict(sent_vectors)"
      ],
      "execution_count": null,
      "outputs": []
    },
    {
      "cell_type": "code",
      "metadata": {
        "id": "qwJN5NTuDxs7",
        "outputId": "7105eadb-cb77-44a4-c3a3-0b50183eec5d"
      },
      "source": [
        "Agg"
      ],
      "execution_count": null,
      "outputs": [
        {
          "data": {
            "text/plain": [
              "array([2, 2, 3, 2, 2, 2, 2, 2, 2, 2, 2, 2, 2, 1, 2, 2, 2, 2, 2, 2, 2, 2,\n",
              "       2, 2, 2, 2, 1, 2, 2, 2, 2, 2, 2, 2, 2, 2, 2, 2, 2, 3, 3, 3, 2, 2,\n",
              "       2, 3, 2, 2, 4, 0, 2, 2, 2, 2, 1, 3, 2, 1, 3, 2, 3, 2, 2, 2, 2, 3,\n",
              "       3, 2, 1, 2, 1, 2, 2, 2, 1, 2, 2, 2, 1, 2, 2, 2, 2, 1, 2, 2, 2, 3,\n",
              "       1, 2, 2, 1, 4, 1, 2, 3, 2, 2, 2, 2, 3, 1, 3, 2, 2, 2, 2, 2, 2, 2,\n",
              "       2, 3, 2, 1, 2, 1, 2, 2, 3, 2, 2, 2, 2, 1, 2, 2, 3, 2, 2, 2, 2, 2,\n",
              "       2, 2, 2, 2, 1, 2, 2, 4, 2, 2, 1, 1, 2, 2, 2, 2, 2, 2, 2, 2, 2, 3,\n",
              "       2, 2, 2, 2, 2, 2, 2, 1, 2, 2, 2, 1, 2, 1, 1, 2, 1, 2, 2, 1, 2, 2,\n",
              "       1, 2, 2, 2, 2, 2, 1, 2, 2, 2, 3, 2, 2, 2, 2, 2, 2, 2, 2, 2, 2, 2,\n",
              "       2, 2, 1, 4, 4, 1, 2, 2, 1, 2, 2, 2, 2, 2, 1, 1, 2, 2, 1, 2, 2, 2,\n",
              "       2, 1, 2, 2, 2, 2, 2, 4, 2, 2, 2, 2, 2, 2, 2, 2, 2, 2, 4, 2, 3, 2,\n",
              "       2, 2, 2, 1, 2, 2, 1, 2, 3, 2, 2, 2, 2, 2, 2, 2, 2, 2, 2, 2, 2, 2,\n",
              "       2, 2, 2, 2, 4, 2, 2, 2, 3, 2, 2, 2, 2, 2, 2, 2, 2, 2, 2, 2, 2, 2,\n",
              "       2, 2, 2, 2, 2, 1, 2, 2, 1, 2, 2, 2, 2, 2, 2, 2, 2, 2, 2, 2, 2, 2,\n",
              "       2, 2, 0, 2, 2, 1, 2, 2, 2, 2, 2, 2, 2, 2, 2, 4, 2, 2, 2, 2, 2, 2,\n",
              "       4, 2, 2, 2, 2, 2, 2, 2, 2, 2, 2, 2, 2, 2, 2, 2, 3, 2, 2, 2, 1, 2,\n",
              "       1, 2, 4, 2, 2, 2, 2, 2, 1, 1, 2, 2, 2, 2, 2, 2, 2, 2, 2, 2, 2, 2,\n",
              "       2, 4, 2, 3, 2, 2, 2, 3, 1, 4, 2, 2, 2, 3, 2, 2, 1, 2, 2, 2, 2, 2,\n",
              "       2, 2, 2, 2, 2, 2, 2, 2, 2, 2, 2, 3, 2, 2, 2, 2, 4, 2, 2, 2, 2, 2,\n",
              "       2, 2, 2, 2, 2, 2, 2, 3, 2, 2, 4, 2, 2, 2, 2, 2, 2, 3, 2, 3, 3, 1,\n",
              "       2, 1, 2, 4, 2, 2, 2, 2, 2, 2, 2, 2, 2, 2, 2, 2, 2, 1, 1, 2, 2, 2,\n",
              "       2, 2, 2, 2, 2, 4, 2, 2, 2, 2, 2, 2, 2, 2, 2, 0, 2, 2, 2, 2, 1, 4,\n",
              "       1, 4, 2, 2, 2, 1, 4, 1, 4, 2, 2, 2, 2, 2, 2, 2, 1, 2, 1, 1, 2, 2,\n",
              "       2, 1, 2, 2, 2, 2, 1, 2, 2, 2, 2, 1, 2, 2, 2, 2, 2, 2, 2, 1, 1, 2,\n",
              "       1, 2, 2, 2, 2, 1, 2, 2, 2, 2, 2, 2, 2, 1, 2, 1, 1, 2, 2, 2, 1, 2,\n",
              "       2, 2, 2, 1, 2, 2, 2, 1, 2, 2, 2, 2, 2, 2, 2, 2, 2, 2, 2, 2, 2, 2,\n",
              "       2, 2, 2, 2, 2, 2, 1, 2, 2, 2, 2, 1, 2, 2, 2, 2, 2, 2, 2, 2, 2, 2,\n",
              "       1, 2, 2, 2, 2, 2, 2, 2, 2, 1, 2, 2, 2, 2, 2, 2, 1, 2, 2, 2, 2, 2,\n",
              "       2, 2, 2, 1, 3, 2, 2, 2, 1, 3, 2, 2, 2, 2, 1, 2, 2, 2, 2, 1, 2, 2,\n",
              "       2, 2, 2, 2, 2, 2, 1, 2, 2, 2, 2, 2, 2, 2, 2, 2, 2, 2, 2, 1, 2, 2,\n",
              "       2, 2, 2, 1, 2, 2, 2, 2, 2, 2, 1, 2, 2, 2, 2, 2, 1, 2, 2, 2, 1, 2,\n",
              "       2, 2, 2, 2, 1, 2, 2, 2, 2, 2, 2, 2, 2, 2, 2, 2, 1, 2, 2, 2, 2, 1,\n",
              "       2, 2, 2, 2, 2, 2, 2, 1, 2, 2, 2, 2, 1, 4, 4, 1, 2, 3, 2, 3, 2, 4,\n",
              "       2, 2, 2, 4, 2, 1, 2, 2, 2, 3, 2, 2, 2, 2, 3, 2, 2, 2, 4, 1, 2, 4,\n",
              "       3, 2, 2, 1, 2, 2, 3, 1, 2, 2, 3, 2, 2, 2, 2, 0, 4, 2, 2, 2, 2, 3,\n",
              "       2, 2, 2, 2, 2, 1, 1, 2, 2, 2, 2, 3, 2, 4, 1, 3, 2, 3, 3, 2, 2, 2,\n",
              "       4, 2, 2, 3, 3, 4, 2, 2, 2, 2, 2, 4, 2, 2, 2, 3, 1, 2, 2, 2, 2, 2,\n",
              "       2, 2, 1, 2, 2, 2, 2, 2, 2, 2, 3, 2, 2, 3, 1, 0, 3, 2, 2, 1, 4, 2,\n",
              "       3, 3, 2, 2, 2, 1, 2, 2, 2, 3, 2, 4, 2, 2, 2, 2, 2, 2, 2, 2, 2, 2,\n",
              "       2, 2, 4, 2, 2, 2, 3, 3, 2, 2, 2, 3, 2, 2, 3, 3, 2, 2, 4, 4, 2, 2,\n",
              "       1, 2, 2, 3, 2, 3, 3, 2, 4, 2, 2, 4, 1, 2, 3, 2, 2, 2, 2, 3, 2, 3,\n",
              "       2, 3, 2, 2, 2, 2, 2, 2, 2, 2, 2, 2, 2, 2, 2, 2, 2, 2, 2, 1, 2, 1,\n",
              "       2, 2, 2, 2, 2, 2, 4, 2, 3, 2, 3, 2, 3, 1, 3, 1, 3, 2, 2, 2, 2, 2,\n",
              "       3, 2, 2, 2, 2, 1, 3, 3, 2, 4, 2, 2, 2, 2, 2, 2, 2, 2, 2, 2, 2, 2,\n",
              "       4, 2, 3, 2, 2, 2, 2, 3, 2, 2, 2, 2, 3, 2, 2, 2, 3, 2, 2, 3, 2, 2,\n",
              "       2, 3, 2, 2, 2, 2, 2, 2, 3, 2], dtype=int64)"
            ]
          },
          "execution_count": 136,
          "metadata": {},
          "output_type": "execute_result"
        }
      ]
    },
    {
      "cell_type": "markdown",
      "metadata": {
        "id": "64oCD_VIDxs8"
      },
      "source": [
        "# In one paragraph, please compare K means, DBSCAN and Hierarchical clustering."
      ]
    },
    {
      "cell_type": "code",
      "metadata": {
        "id": "rTpkwVIcDxs8"
      },
      "source": [
        "We can undoubtedly characterize bunches into bunches utilizing K Means, and we can likewise decide the best number of groups and train the KMeans model utilizing the ideal number of groups, giving us the best model for arranging Reviews. Various leveled bunching is the subsequent best model, in spite of the fact that it will be very hard to characterize the gatherings utilizing Hierarchical grouping. DBScan gathered every one of the audits into a one bunch, which isn't the most proper fit."
      ],
      "execution_count": null,
      "outputs": []
    }
  ]
}