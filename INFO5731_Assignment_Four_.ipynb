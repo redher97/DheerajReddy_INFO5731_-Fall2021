{
  "nbformat": 4,
  "nbformat_minor": 0,
  "metadata": {
    "colab": {
      "name": "INFO5731_Assignment_Four_.ipynb",
      "provenance": [],
      "collapsed_sections": [],
      "include_colab_link": true
    },
    "kernelspec": {
      "display_name": "Python 3 (ipykernel)",
      "language": "python",
      "name": "python3"
    },
    "language_info": {
      "codemirror_mode": {
        "name": "ipython",
        "version": 3
      },
      "file_extension": ".py",
      "mimetype": "text/x-python",
      "name": "python",
      "nbconvert_exporter": "python",
      "pygments_lexer": "ipython3",
      "version": "3.8.8"
    }
  },
  "cells": [
    {
      "cell_type": "markdown",
      "metadata": {
        "id": "view-in-github",
        "colab_type": "text"
      },
      "source": [
        "<a href=\"https://colab.research.google.com/github/redher97/DheerajReddy_INFO5731_-Fall2021/blob/main/INFO5731_Assignment_Four_.ipynb\" target=\"_parent\"><img src=\"https://colab.research.google.com/assets/colab-badge.svg\" alt=\"Open In Colab\"/></a>"
      ]
    },
    {
      "cell_type": "markdown",
      "metadata": {
        "id": "USSdXHuqnwv9"
      },
      "source": [
        "# **INFO5731 Assignment Four**\n",
        "\n",
        "In this assignment, you are required to conduct topic modeling, sentiment analysis based on **the dataset you created from assignment three**."
      ]
    },
    {
      "cell_type": "markdown",
      "metadata": {
        "id": "YWxodXh5n4xF"
      },
      "source": [
        "# **Question 1: Topic Modeling**"
      ]
    },
    {
      "cell_type": "markdown",
      "metadata": {
        "id": "TenBkDJ5n95k"
      },
      "source": [
        "(30 points). This question is designed to help you develop a feel for the way topic modeling works, the connection to the human meanings of documents. Based on the dataset from assignment three, write a python program to **identify the top 10 topics in the dataset**. Before answering this question, please review the materials in lesson 8, especially the code for LDA and LSA. The following information should be reported:\n",
        "\n",
        "(1) Features (top n-gram phrases) used for topic modeling.\n",
        "\n",
        "(2) Top 10 clusters for topic modeling.\n",
        "\n",
        "(3) Summarize and describe the topic for each cluster. \n"
      ]
    },
    {
      "cell_type": "code",
      "metadata": {
        "id": "-h0NkxCWnGFu",
        "outputId": "0447a9a5-837e-4259-fd50-bebf6baef2b9"
      },
      "source": [
        "#all the python libraries needed for functionality\n",
        "import pandas as pd\n",
        "import json\n",
        "from nltk.corpus import stopwords\n",
        "import string\n",
        "from nltk.stem.wordnet import WordNetLemmatizer\n",
        "import nltk\n",
        "%matplotlib inline\n",
        "import matplotlib.pyplot as plt\n",
        "from sklearn.linear_model import LinearRegression\n",
        "from sklearn import metrics\n",
        "nltk.download('stopwords')\n",
        "nltk.download('wordnet')\n",
        "nltk.download('punkt')\n",
        "from nltk import sent_tokenize\n",
        "stop = stopwords.words('english')\n",
        "import warnings\n",
        "warnings.simplefilter('ignore')\n",
        "from itertools import chain\n",
        "from nltk.tokenize import word_tokenize\n",
        "import gensim.corpora as corpora\n",
        "import spacy\n",
        "from gensim import corpora, models\n",
        "from gensim.models import LdaModel,LsiModel\n",
        "from pprint import pprint\n",
        "nlp = spacy.load('en_core_web_sm', disable=['parser', 'ner'])\n",
        "stop = set(stopwords.words('english'))\n",
        "exclude = set(string.punctuation)\n",
        "lemma = WordNetLemmatizer()\n",
        "from sklearn.preprocessing import LabelEncoder\n",
        "from sklearn.feature_extraction.text import TfidfVectorizer\n",
        "from sklearn import model_selection\n",
        "from sklearn.metrics import accuracy_score, classification_report\n",
        "from sklearn import svm, naive_bayes"
      ],
      "execution_count": null,
      "outputs": [
        {
          "name": "stderr",
          "output_type": "stream",
          "text": [
            "[nltk_data] Downloading package stopwords to\n",
            "[nltk_data]     C:\\Users\\reddy\\AppData\\Roaming\\nltk_data...\n",
            "[nltk_data]   Package stopwords is already up-to-date!\n",
            "[nltk_data] Downloading package wordnet to\n",
            "[nltk_data]     C:\\Users\\reddy\\AppData\\Roaming\\nltk_data...\n",
            "[nltk_data]   Package wordnet is already up-to-date!\n",
            "[nltk_data] Downloading package punkt to\n",
            "[nltk_data]     C:\\Users\\reddy\\AppData\\Roaming\\nltk_data...\n",
            "[nltk_data]   Package punkt is already up-to-date!\n"
          ]
        }
      ]
    },
    {
      "cell_type": "code",
      "metadata": {
        "id": "PuFPKhC0m1fd"
      },
      "source": [
        "#defining functions for lemmatization,bigrams,trigrams,coherence values,corpus dictionary, text cleaning\n",
        "def lem(rvtokens, reqd_tags=['NOUN', 'ADJ', 'VERB', 'ADV']):\n",
        "    lem = []\n",
        "    for tokens in rvtokens:\n",
        "        lem.append([token.lemma_ for token in nlp(\" \".join(tokens))  if token.pos_ in reqd_tags])\n",
        "    return lem\n",
        "def dictionary_corp(lem_review):\n",
        "    tag2word = corpora.Dictionary(lem_review)\n",
        "    corpus = [tag2word.doc2bow(review) for review in lem_review]\n",
        "    return tag2word, corpus\n",
        "def bigrams(tokens):\n",
        "    return [bigram_mod[doc] for doc in tokens]\n",
        "def trigrams(tokens):\n",
        "    return [trigram_mod[bigram_mod[doc]] for doc in tokens]\n",
        "def create_gensim_lsa_model(dictionary,corpus,number_of_topics,words):\n",
        "    lsamodel = LsiModel(corpus, num_topics=number_of_topics, tag2word = dictionary)\n",
        "    pprint(lsamodel.print_topics(num_topics=number_of_topics, num_words=words))\n",
        "    return lsamodel\n",
        "def coherence_values_lsa(dictionary, corpus, doc_clean, stop, start=2, step=3):\n",
        "    coherence_values = []\n",
        "    model_list = []\n",
        "    for num_topics in range(start, stop, step):\n",
        "        model = LsiModel(corpus, num_topics=number_of_topics, tag2word = dictionary)  # train model\n",
        "        model_list.append(model)\n",
        "        coherencemodel = CoherenceModel(model=model, texts=doc_clean, dictionary=dictionary, coherence='c_v')\n",
        "        coherence_values.append(coherencemodel.get_coherence())\n",
        "    return model_list, coherence_values\n",
        "def clean_text(text):\n",
        "    return ' '.join([lemma.lemmatize(word) for word in ''.join(ch for ch in ' '.join([word for word in text.lower().split() if word not in stop]) if ch not in exclude).split()]).split()\n",
        "df=pd.read_csv(r'C:\\Users\\reddy\\OneDrive\\Desktop\\sentanalysis500.csv')\n",
        "df = df.dropna()"
      ],
      "execution_count": null,
      "outputs": []
    },
    {
      "cell_type": "code",
      "metadata": {
        "id": "XwYxrnHMnGFz",
        "outputId": "1805e7bf-88bb-44fa-a5fc-66e65a28e43b"
      },
      "source": [
        "#stop word removal, appending the words\n",
        "df['Reviews'] = df['Reviews'].apply(lambda x: \" \".join(x.lower() for x in x.split()))\n",
        "df['Reviews'] = df['Reviews'].str.replace('[^\\w\\s]','')\n",
        "df['Reviews'] = df['Reviews'].apply(lambda x: \" \".join(x for x in x.split() if x not in stop))\n",
        "tokens = []\n",
        "for i in df['Reviews']:\n",
        "    tokens.append(word_tokenize(i))\n",
        "print(models.phrases.Phraser(models.Phrases(bigram[tokens], threshold=100))[models.phrases.Phraser(models.Phrases(tokens, min_count=5, threshold=100))[tokens[5]]])"
      ],
      "execution_count": null,
      "outputs": [
        {
          "name": "stdout",
          "output_type": "stream",
          "text": [
            "['u', 'government', 'almost', 'topple', 'pretender', 'name', 'orange', 'wenwu', 'tony_leung', 'quote', 'typical', 'lighthearted', 'also', 'serious', 'addition', 'mcu', 'shangchi', 'legend_ten_ring', 'although', 'marvel', 'always', 'le', 'serious', 'dc', 'time', 'leave', 'superman', 'batman', 'cry', 'cap', 'sweet', 'superhero', 'seanshangchi', 'simu_liu', 'humanity', 'almost', 'hero', 'use', 'martial_art', 'press', 'open', 'sequence', 'bus', 'see', 'bad', 'come', 'cinematic', 'bus', 'rid', 'nobody', 'rouse', 'entertain', 'fight', 'sequence', 'laugh', 'balletlike', 'composition', 'satisfy', 'set', 'character', 'motivation', 'thing', 'get', 'heavy', 'sean', 'must', 'confront', 'potentially', 'kill', '1000yearold', 'mobster', 'dad', 'wenwu', 'awkwafinas', 'katy', 'seans', 'girlfriend', 'amuse', 'oneliners', 'throughout', 'adventure', 'right', 'lifesaving', 'shoot', 'big', 'end', 'battle', 'scene', 'director_destin_daniel_cretton', 'deftly', 'orchestrate', 'fight', 'character', 'line', 'authority', 'much', 'season', 'filmmaker', 'never', 'lose', 'sight', 'central', 'motifthe', 'affirmation', 'family', 'primacy', 'potential', 'chaos', 'giant', 'cast', 'multiple', 'plot', 'strand', 'host', 'unity', 'glue', 'character', 'dialogue', 'shangchi', 'marvel', 'whole', 'family', 'especially', 'cinephiles', 'curious', 'marvel', 'cinematic_universe', 'diverse', 'entertain', 'perfect', 'purveyor', 'heroic', 'fantasy']\n"
          ]
        }
      ]
    },
    {
      "cell_type": "code",
      "metadata": {
        "id": "PdKVjLyznGF0",
        "outputId": "59ec5fa6-8684-4f55-8e4f-165b79ed2bb4"
      },
      "source": [
        "data_lemmatized = lem(make_bigrams(tokens), reqd_tags=['NOUN', 'ADJ', 'VERB', 'ADV'])\n",
        "print(data_lemmatized[4])"
      ],
      "execution_count": null,
      "outputs": [
        {
          "name": "stdout",
          "output_type": "stream",
          "text": [
            "['u', 'government', 'almost', 'topple', 'pretender', 'name', 'wenwu', 'typical', 'lighthearted', 'also', 'serious', 'addition', 'mcu', 'shangchi', 'ring', 'always', 'le', 'serious', 'time', 'cap', 'sweet', 'superhero', 'humanity', 'almost', 'hero', 'use', 'martial_art', 'press', 'open', 'sequence', 'bus', 'see', 'bad', 'come', 'cinematic', 'bus', 'rid', 'rouse', 'entertain', 'fight', 'sequence', 'laugh', 'composition', 'satisfy', 'set', 'character', 'motivation', 'thing', 'get', 'heavy', 'sean', 'confront', 'potentially', 'kill', 'mobster', 'dad', 'sean', 'girlfriend', 'amuse', 'oneliner', 'adventure', 'right', 'lifesaving', 'shoot', 'big', 'end', 'battle', 'scene', 'deftly', 'orchestrate', 'fight', 'character', 'line', 'authority', 'much', 'season', 'filmmaker', 'never', 'lose', 'sight', 'central', 'motifthe', 'affirmation', 'family', 'primacy', 'potential', 'chaos', 'giant', 'cast', 'multiple', 'plot', 'strand', 'host', 'unity', 'character', 'dialogue', 'marvel', 'whole', 'family', 'especially', 'cinephile', 'curious', 'marvel', 'diverse', 'entertain', 'perfect', 'purveyor', 'heroic', 'fantasy']\n"
          ]
        }
      ]
    },
    {
      "cell_type": "code",
      "metadata": {
        "id": "aZEIbA3HnGF1",
        "outputId": "32653e0a-12c7-4b74-c7ad-31534bf81e3b"
      },
      "source": [
        "#lda\n",
        "dictionary, corpus =  prpeare_dictionary_corpus(lem(tokens, reqd_tags=['NOUN', 'ADJ', 'VERB', 'ADV']))\n",
        "number_of_topics = 10\n",
        "lda_model = LdaModel(corpus, num_topics = number_of_topics, tag2word=dictionary,passes=20,chunksize = 100)\n",
        "pprint(lda_model.print_topics())"
      ],
      "execution_count": null,
      "outputs": [
        {
          "name": "stdout",
          "output_type": "stream",
          "text": [
            "[(0,\n",
            "  '0.004*\"impossible\" + 0.004*\"fascinate\" + 0.004*\"noticeably\" + '\n",
            "  '0.004*\"minimal\" + 0.003*\"ponderous\" + 0.003*\"tedious\" + 0.002*\"divine\" + '\n",
            "  '0.002*\"overcome\" + 0.002*\"intellectual\" + 0.002*\"ohsomagical\"'),\n",
            " (1,\n",
            "  '0.016*\"badass\" + 0.004*\"forever\" + 0.001*\"nuisance\" + 0.001*\"throwaway\" + '\n",
            "  '0.000*\"participate\" + 0.000*\"superheroe\" + 0.000*\"beloved\" + '\n",
            "  '0.000*\"nevertire\" + 0.000*\"crossover\" + 0.000*\"heavier\"'),\n",
            " (2,\n",
            "  '0.021*\"combine\" + 0.003*\"masterpiece\" + 0.003*\"distinctive\" + '\n",
            "  '0.003*\"suprise\" + 0.003*\"producer\" + 0.002*\"yell\" + 0.002*\"doubly\" + '\n",
            "  '0.002*\"rooftop\" + 0.002*\"kombat\" + 0.002*\"splash\"'),\n",
            " (3,\n",
            "  '0.021*\"vfx\" + 0.014*\"display\" + 0.014*\"straight\" + 0.013*\"native\" + '\n",
            "  '0.010*\"moreover\" + 0.009*\"expansion\" + 0.009*\"dull\" + '\n",
            "  '0.009*\"cinematographic\" + 0.009*\"godzilla\" + 0.006*\"dumb\"'),\n",
            " (4,\n",
            "  '0.000*\"fctcyycctctcrcrctuvy\" + 0.000*\"h\" + 0.000*\"freak\" + 0.000*\"soooooo\" '\n",
            "  '+ 0.000*\"chicken\" + 0.000*\"pig\" + 0.000*\"derp\" + 0.000*\"racism\" + '\n",
            "  '0.000*\"reminder\" + 0.000*\"thatherp\"'),\n",
            " (5,\n",
            "  '0.007*\"heavily\" + 0.007*\"rely\" + 0.007*\"bloat\" + 0.005*\"cost\" + '\n",
            "  '0.003*\"overwhelm\" + 0.002*\"ðÿðÿðÿðÿðÿðÿðÿðÿðÿðÿðÿ\" + 0.002*\"noncomic\" + '\n",
            "  '0.002*\"excellence\" + 0.002*\"admission\" + 0.002*\"simplify\"'),\n",
            " (6,\n",
            "  '0.011*\"charisma\" + 0.006*\"relate\" + 0.006*\"obligatory\" + 0.006*\"phrase\" + '\n",
            "  '0.005*\"expensive\" + 0.004*\"misplace\" + 0.004*\"dose\" + 0.004*\"sway\" + '\n",
            "  '0.004*\"gigantic\" + 0.003*\"adept\"'),\n",
            " (7,\n",
            "  '0.024*\"bad\" + 0.014*\"totally\" + 0.013*\"bore\" + 0.013*\"forgettable\" + '\n",
            "  '0.013*\"pretty\" + 0.013*\"dad\" + 0.010*\"ear\" + 0.009*\"production\" + '\n",
            "  '0.008*\"itâs\" + 0.008*\"care\"'),\n",
            " (8,\n",
            "  '0.036*\"movie\" + 0.021*\"film\" + 0.021*\"marvel\" + 0.017*\"good\" + '\n",
            "  '0.014*\"character\" + 0.012*\"scene\" + 0.012*\"great\" + 0.012*\"fight\" + '\n",
            "  '0.011*\"story\" + 0.011*\"see\"'),\n",
            " (9,\n",
            "  '0.009*\"culture\" + 0.007*\"new\" + 0.007*\"film\" + 0.007*\"ring\" + 0.007*\"world\" '\n",
            "  '+ 0.007*\"asian\" + 0.006*\"way\" + 0.006*\"mcu\" + 0.006*\"adventure\" + '\n",
            "  '0.006*\"father\"')]\n"
          ]
        }
      ]
    },
    {
      "cell_type": "code",
      "metadata": {
        "id": "6ZgmIX4lnGF2",
        "outputId": "76cee1ae-de55-4d58-cb97-7c309917e16c"
      },
      "source": [
        "#lsa\n",
        "number_of_topics = 10\n",
        "words = 10\n",
        "model = create_gensim_lsa_model(dictionary, corpus, number_of_topics, words)"
      ],
      "execution_count": null,
      "outputs": [
        {
          "name": "stdout",
          "output_type": "stream",
          "text": [
            "[(0,\n",
            "  '-0.400*\"movie\" + -0.394*\"film\" + -0.270*\"marvel\" + -0.224*\"character\" + '\n",
            "  '-0.193*\"good\" + -0.152*\"scene\" + -0.148*\"fight\" + -0.146*\"story\" + '\n",
            "  '-0.139*\"well\" + -0.130*\"make\"'),\n",
            " (1,\n",
            "  '0.692*\"film\" + -0.644*\"movie\" + 0.073*\"ring\" + -0.066*\"know\" + 0.065*\"mcu\" '\n",
            "  '+ -0.061*\"do\" + -0.049*\"much\" + -0.048*\"story\" + -0.045*\"get\" + '\n",
            "  '0.045*\"come\"'),\n",
            " (2,\n",
            "  '0.305*\"good\" + 0.275*\"mcu\" + -0.216*\"character\" + -0.206*\"marvel\" + '\n",
            "  '-0.200*\"story\" + -0.196*\"well\" + 0.181*\"movie\" + 0.181*\"scene\" + '\n",
            "  '-0.171*\"little\" + -0.170*\"make\"'),\n",
            " (3,\n",
            "  '0.406*\"movie\" + 0.355*\"film\" + -0.270*\"character\" + -0.235*\"mcu\" + '\n",
            "  '0.231*\"marvel\" + -0.227*\"also\" + -0.226*\"really\" + -0.220*\"good\" + '\n",
            "  '-0.170*\"story\" + -0.118*\"get\"'),\n",
            " (4,\n",
            "  '0.260*\"well\" + -0.215*\"ring\" + 0.212*\"really\" + -0.197*\"story\" + '\n",
            "  '-0.182*\"marvel\" + -0.174*\"universe\" + 0.173*\"little\" + 0.173*\"great\" + '\n",
            "  '-0.170*\"cinematic\" + 0.155*\"love\"'),\n",
            " (5,\n",
            "  '0.568*\"marvel\" + -0.306*\"feel\" + 0.241*\"good\" + 0.239*\"also\" + '\n",
            "  '0.207*\"action\" + -0.162*\"film\" + -0.161*\"mcu\" + -0.156*\"movie\" + '\n",
            "  '-0.129*\"much\" + -0.114*\"time\"'),\n",
            " (6,\n",
            "  '-0.393*\"really\" + 0.369*\"also\" + -0.250*\"marvel\" + 0.203*\"asian\" + '\n",
            "  '0.203*\"good\" + 0.171*\"action\" + 0.166*\"use\" + -0.146*\"character\" + '\n",
            "  '-0.122*\"do\" + 0.119*\"make\"'),\n",
            " (7,\n",
            "  '0.399*\"really\" + -0.288*\"do\" + 0.257*\"good\" + 0.249*\"great\" + 0.167*\"film\" '\n",
            "  '+ -0.154*\"mcu\" + 0.151*\"movie\" + -0.129*\"go\" + 0.122*\"story\" + '\n",
            "  '-0.116*\"asian\"'),\n",
            " (8,\n",
            "  '0.512*\"mcu\" + 0.282*\"story\" + -0.230*\"also\" + -0.203*\"scene\" + '\n",
            "  '-0.181*\"fight\" + 0.179*\"great\" + 0.175*\"action\" + -0.150*\"do\" + '\n",
            "  '-0.145*\"character\" + -0.144*\"feel\"'),\n",
            " (9,\n",
            "  '0.338*\"fight\" + -0.327*\"feel\" + 0.259*\"character\" + 0.236*\"action\" + '\n",
            "  '0.226*\"scene\" + -0.219*\"also\" + -0.176*\"make\" + -0.156*\"really\" + '\n",
            "  '-0.144*\"ring\" + 0.109*\"watch\"')]\n"
          ]
        }
      ]
    },
    {
      "cell_type": "markdown",
      "metadata": {
        "id": "AfpMRCrRwN6Z"
      },
      "source": [
        "# **Question 2: Sentiment Analysis**"
      ]
    },
    {
      "cell_type": "markdown",
      "metadata": {
        "id": "1dCQEbDawWCw"
      },
      "source": [
        "(30 points). Sentiment analysis also known as opinion mining is a sub field within Natural Language Processing (NLP) that builds machine learning algorithms to classify a text according to the sentimental polarities of opinions it contains, e.g., positive, negative, neutral. The purpose of this question is to develop a machine learning classifier for sentiment analysis. Based on the dataset from assignment three, write a python program to implement a sentiment classifier and evaluate its performance. Notice: **80% data for training and 20% data for testing**.  \n",
        "\n",
        "(1) Features used for sentiment classification and explain why you select these features.\n",
        "\n",
        "(2) Select two of the supervised learning algorithm from scikit-learn library: https://scikit-learn.org/stable/supervised_learning.html#supervised-learning, to build a sentiment classifier respectively. \n",
        "\n",
        "(3) Compare the performance over accuracy, precision, recall, and F1 score for the two algorithms you selected. Here is the reference of how to calculate these metrics: https://towardsdatascience.com/accuracy-precision-recall-or-f1-331fb37c5cb9. "
      ]
    },
    {
      "cell_type": "code",
      "metadata": {
        "id": "vATjQNTY8buA",
        "outputId": "08d54097-b115-4cbf-e69e-5a5c8a2a5568"
      },
      "source": [
        "# Write your code here\n",
        "# TF IDF is used to identify the important words or more precisely rare words and it can be applied to a broad spectrum with ease\n",
        "#  functions and variables that will perform the metrics which are based on Evaluation parameters:\n",
        "#  Accuracy, Recall, Precison, F-1 score \n",
        "df1 = df\n",
        "df1['cleaned text']=df1['Reviews'].apply(clean_text)\n",
        "TfidfVectorizer(ngram_range=(1,2), max_features=1000).fit(df1['Reviews'])\n",
        "x_values = Tfidfvector.transform(df1['Reviews'])\n",
        "y_values = LabelEncoder().fit_transform(df1['Analysis'])\n",
        "#SVM\n",
        "X_train, x_test, y_train, y_test = model_selection.train_test_split(x_values, y_values, test_size=0.2)\n",
        "svm_model = svm.SVC(kernel='linear')\n",
        "svm_model.fit(X_train, y_train)\n",
        "prediction = svm_model.predict(x_test)\n",
        "print(\"Accuracy score is {0}\".format(accuracy_score(y_test, predicted)))\n",
        "rep = classification_report(y_test, predicted, output_dict=True)\n",
        "rep"
      ],
      "execution_count": null,
      "outputs": [
        {
          "name": "stdout",
          "output_type": "stream",
          "text": [
            "Accuracy score is 0.9529411764705882\n"
          ]
        },
        {
          "data": {
            "text/plain": [
              "{'0': {'precision': 0.0, 'recall': 0.0, 'f1-score': 0.0, 'support': 4},\n",
              " '2': {'precision': 0.9529411764705882,\n",
              "  'recall': 1.0,\n",
              "  'f1-score': 0.9759036144578312,\n",
              "  'support': 81},\n",
              " 'accuracy': 0.9529411764705882,\n",
              " 'macro avg': {'precision': 0.4764705882352941,\n",
              "  'recall': 0.5,\n",
              "  'f1-score': 0.4879518072289156,\n",
              "  'support': 85},\n",
              " 'weighted avg': {'precision': 0.9080968858131487,\n",
              "  'recall': 0.9529411764705882,\n",
              "  'f1-score': 0.9299787384833451,\n",
              "  'support': 85}}"
            ]
          },
          "execution_count": 127,
          "metadata": {},
          "output_type": "execute_result"
        }
      ]
    },
    {
      "cell_type": "code",
      "metadata": {
        "id": "-7qwwwdnnGF5",
        "outputId": "59136f8e-9094-4d18-94ac-681a1f71b507"
      },
      "source": [
        "#baiyes prediction\n",
        "bayes = naive_bayes.MultinomialNB()\n",
        "bayes.fit(X_train, y_train)\n",
        "predicted_bayes = bayes.predict(x_test)\n",
        "print(\"Accuracy score is {0}\".format(accuracy_score(y_test, predicted_bayes)))\n",
        "rep_bayes = classification_report(y_test, predicted_nb, output_dict=True)\n",
        "rep_bayes"
      ],
      "execution_count": null,
      "outputs": [
        {
          "name": "stdout",
          "output_type": "stream",
          "text": [
            "Accuracy score is 0.9529411764705882\n"
          ]
        },
        {
          "data": {
            "text/plain": [
              "{'0': {'precision': 0.0, 'recall': 0.0, 'f1-score': 0.0, 'support': 4},\n",
              " '2': {'precision': 0.9529411764705882,\n",
              "  'recall': 1.0,\n",
              "  'f1-score': 0.9759036144578312,\n",
              "  'support': 81},\n",
              " 'accuracy': 0.9529411764705882,\n",
              " 'macro avg': {'precision': 0.4764705882352941,\n",
              "  'recall': 0.5,\n",
              "  'f1-score': 0.4879518072289156,\n",
              "  'support': 85},\n",
              " 'weighted avg': {'precision': 0.9080968858131487,\n",
              "  'recall': 0.9529411764705882,\n",
              "  'f1-score': 0.9299787384833451,\n",
              "  'support': 85}}"
            ]
          },
          "execution_count": 128,
          "metadata": {},
          "output_type": "execute_result"
        }
      ]
    },
    {
      "cell_type": "markdown",
      "metadata": {
        "id": "E5mmYIfN8eYV"
      },
      "source": [
        "# **Question 3: House price prediction**"
      ]
    },
    {
      "cell_type": "markdown",
      "metadata": {
        "id": "hsi2y4z88ngX"
      },
      "source": [
        "(40 points). You are required to build a **regression** model to predict the house price with 79 explanatory variables describing (almost) every aspect of residential homes. The purpose of this question is to practice regression analysis, an supervised learning model. The training data, testing data, and data description files can be download here: https://github.com/unt-iialab/info5731_spring2021/blob/main/assignment/assignment4-question3-data.zip. Here is an axample for implementation: https://towardsdatascience.com/linear-regression-in-python-predict-the-bay-areas-home-price-5c91c8378878. \n"
      ]
    },
    {
      "cell_type": "code",
      "metadata": {
        "id": "XfvMKJjIXS5G",
        "outputId": "f46078d3-bbc3-438b-ab1b-ef4ee5fefb7a"
      },
      "source": [
        "# Write your code here\n",
        "train = pd.read_csv(r\"C:\\Users\\reddy\\Downloads\\assignment4-question3-data\\train.csv\")\n",
        "test = pd.read_csv(r\"C:\\Users\\reddy\\Downloads\\assignment4-question3-data\\test.csv\")\n",
        "train.describe()"
      ],
      "execution_count": null,
      "outputs": [
        {
          "data": {
            "text/html": [
              "<div>\n",
              "<style scoped>\n",
              "    .dataframe tbody tr th:only-of-type {\n",
              "        vertical-align: middle;\n",
              "    }\n",
              "\n",
              "    .dataframe tbody tr th {\n",
              "        vertical-align: top;\n",
              "    }\n",
              "\n",
              "    .dataframe thead th {\n",
              "        text-align: right;\n",
              "    }\n",
              "</style>\n",
              "<table border=\"1\" class=\"dataframe\">\n",
              "  <thead>\n",
              "    <tr style=\"text-align: right;\">\n",
              "      <th></th>\n",
              "      <th>Id</th>\n",
              "      <th>MSSubClass</th>\n",
              "      <th>LotFrontage</th>\n",
              "      <th>LotArea</th>\n",
              "      <th>OverallQual</th>\n",
              "      <th>OverallCond</th>\n",
              "      <th>YearBuilt</th>\n",
              "      <th>YearRemodAdd</th>\n",
              "      <th>MasVnrArea</th>\n",
              "      <th>BsmtFinSF1</th>\n",
              "      <th>...</th>\n",
              "      <th>WoodDeckSF</th>\n",
              "      <th>OpenPorchSF</th>\n",
              "      <th>EnclosedPorch</th>\n",
              "      <th>3SsnPorch</th>\n",
              "      <th>ScreenPorch</th>\n",
              "      <th>PoolArea</th>\n",
              "      <th>MiscVal</th>\n",
              "      <th>MoSold</th>\n",
              "      <th>YrSold</th>\n",
              "      <th>SalePrice</th>\n",
              "    </tr>\n",
              "  </thead>\n",
              "  <tbody>\n",
              "    <tr>\n",
              "      <th>count</th>\n",
              "      <td>1460.000000</td>\n",
              "      <td>1460.000000</td>\n",
              "      <td>1201.000000</td>\n",
              "      <td>1460.000000</td>\n",
              "      <td>1460.000000</td>\n",
              "      <td>1460.000000</td>\n",
              "      <td>1460.000000</td>\n",
              "      <td>1460.000000</td>\n",
              "      <td>1452.000000</td>\n",
              "      <td>1460.000000</td>\n",
              "      <td>...</td>\n",
              "      <td>1460.000000</td>\n",
              "      <td>1460.000000</td>\n",
              "      <td>1460.000000</td>\n",
              "      <td>1460.000000</td>\n",
              "      <td>1460.000000</td>\n",
              "      <td>1460.000000</td>\n",
              "      <td>1460.000000</td>\n",
              "      <td>1460.000000</td>\n",
              "      <td>1460.000000</td>\n",
              "      <td>1460.000000</td>\n",
              "    </tr>\n",
              "    <tr>\n",
              "      <th>mean</th>\n",
              "      <td>730.500000</td>\n",
              "      <td>56.897260</td>\n",
              "      <td>70.049958</td>\n",
              "      <td>10516.828082</td>\n",
              "      <td>6.099315</td>\n",
              "      <td>5.575342</td>\n",
              "      <td>1971.267808</td>\n",
              "      <td>1984.865753</td>\n",
              "      <td>103.685262</td>\n",
              "      <td>443.639726</td>\n",
              "      <td>...</td>\n",
              "      <td>94.244521</td>\n",
              "      <td>46.660274</td>\n",
              "      <td>21.954110</td>\n",
              "      <td>3.409589</td>\n",
              "      <td>15.060959</td>\n",
              "      <td>2.758904</td>\n",
              "      <td>43.489041</td>\n",
              "      <td>6.321918</td>\n",
              "      <td>2007.815753</td>\n",
              "      <td>180921.195890</td>\n",
              "    </tr>\n",
              "    <tr>\n",
              "      <th>std</th>\n",
              "      <td>421.610009</td>\n",
              "      <td>42.300571</td>\n",
              "      <td>24.284752</td>\n",
              "      <td>9981.264932</td>\n",
              "      <td>1.382997</td>\n",
              "      <td>1.112799</td>\n",
              "      <td>30.202904</td>\n",
              "      <td>20.645407</td>\n",
              "      <td>181.066207</td>\n",
              "      <td>456.098091</td>\n",
              "      <td>...</td>\n",
              "      <td>125.338794</td>\n",
              "      <td>66.256028</td>\n",
              "      <td>61.119149</td>\n",
              "      <td>29.317331</td>\n",
              "      <td>55.757415</td>\n",
              "      <td>40.177307</td>\n",
              "      <td>496.123024</td>\n",
              "      <td>2.703626</td>\n",
              "      <td>1.328095</td>\n",
              "      <td>79442.502883</td>\n",
              "    </tr>\n",
              "    <tr>\n",
              "      <th>min</th>\n",
              "      <td>1.000000</td>\n",
              "      <td>20.000000</td>\n",
              "      <td>21.000000</td>\n",
              "      <td>1300.000000</td>\n",
              "      <td>1.000000</td>\n",
              "      <td>1.000000</td>\n",
              "      <td>1872.000000</td>\n",
              "      <td>1950.000000</td>\n",
              "      <td>0.000000</td>\n",
              "      <td>0.000000</td>\n",
              "      <td>...</td>\n",
              "      <td>0.000000</td>\n",
              "      <td>0.000000</td>\n",
              "      <td>0.000000</td>\n",
              "      <td>0.000000</td>\n",
              "      <td>0.000000</td>\n",
              "      <td>0.000000</td>\n",
              "      <td>0.000000</td>\n",
              "      <td>1.000000</td>\n",
              "      <td>2006.000000</td>\n",
              "      <td>34900.000000</td>\n",
              "    </tr>\n",
              "    <tr>\n",
              "      <th>25%</th>\n",
              "      <td>365.750000</td>\n",
              "      <td>20.000000</td>\n",
              "      <td>59.000000</td>\n",
              "      <td>7553.500000</td>\n",
              "      <td>5.000000</td>\n",
              "      <td>5.000000</td>\n",
              "      <td>1954.000000</td>\n",
              "      <td>1967.000000</td>\n",
              "      <td>0.000000</td>\n",
              "      <td>0.000000</td>\n",
              "      <td>...</td>\n",
              "      <td>0.000000</td>\n",
              "      <td>0.000000</td>\n",
              "      <td>0.000000</td>\n",
              "      <td>0.000000</td>\n",
              "      <td>0.000000</td>\n",
              "      <td>0.000000</td>\n",
              "      <td>0.000000</td>\n",
              "      <td>5.000000</td>\n",
              "      <td>2007.000000</td>\n",
              "      <td>129975.000000</td>\n",
              "    </tr>\n",
              "    <tr>\n",
              "      <th>50%</th>\n",
              "      <td>730.500000</td>\n",
              "      <td>50.000000</td>\n",
              "      <td>69.000000</td>\n",
              "      <td>9478.500000</td>\n",
              "      <td>6.000000</td>\n",
              "      <td>5.000000</td>\n",
              "      <td>1973.000000</td>\n",
              "      <td>1994.000000</td>\n",
              "      <td>0.000000</td>\n",
              "      <td>383.500000</td>\n",
              "      <td>...</td>\n",
              "      <td>0.000000</td>\n",
              "      <td>25.000000</td>\n",
              "      <td>0.000000</td>\n",
              "      <td>0.000000</td>\n",
              "      <td>0.000000</td>\n",
              "      <td>0.000000</td>\n",
              "      <td>0.000000</td>\n",
              "      <td>6.000000</td>\n",
              "      <td>2008.000000</td>\n",
              "      <td>163000.000000</td>\n",
              "    </tr>\n",
              "    <tr>\n",
              "      <th>75%</th>\n",
              "      <td>1095.250000</td>\n",
              "      <td>70.000000</td>\n",
              "      <td>80.000000</td>\n",
              "      <td>11601.500000</td>\n",
              "      <td>7.000000</td>\n",
              "      <td>6.000000</td>\n",
              "      <td>2000.000000</td>\n",
              "      <td>2004.000000</td>\n",
              "      <td>166.000000</td>\n",
              "      <td>712.250000</td>\n",
              "      <td>...</td>\n",
              "      <td>168.000000</td>\n",
              "      <td>68.000000</td>\n",
              "      <td>0.000000</td>\n",
              "      <td>0.000000</td>\n",
              "      <td>0.000000</td>\n",
              "      <td>0.000000</td>\n",
              "      <td>0.000000</td>\n",
              "      <td>8.000000</td>\n",
              "      <td>2009.000000</td>\n",
              "      <td>214000.000000</td>\n",
              "    </tr>\n",
              "    <tr>\n",
              "      <th>max</th>\n",
              "      <td>1460.000000</td>\n",
              "      <td>190.000000</td>\n",
              "      <td>313.000000</td>\n",
              "      <td>215245.000000</td>\n",
              "      <td>10.000000</td>\n",
              "      <td>9.000000</td>\n",
              "      <td>2010.000000</td>\n",
              "      <td>2010.000000</td>\n",
              "      <td>1600.000000</td>\n",
              "      <td>5644.000000</td>\n",
              "      <td>...</td>\n",
              "      <td>857.000000</td>\n",
              "      <td>547.000000</td>\n",
              "      <td>552.000000</td>\n",
              "      <td>508.000000</td>\n",
              "      <td>480.000000</td>\n",
              "      <td>738.000000</td>\n",
              "      <td>15500.000000</td>\n",
              "      <td>12.000000</td>\n",
              "      <td>2010.000000</td>\n",
              "      <td>755000.000000</td>\n",
              "    </tr>\n",
              "  </tbody>\n",
              "</table>\n",
              "<p>8 rows × 38 columns</p>\n",
              "</div>"
            ],
            "text/plain": [
              "                Id   MSSubClass  LotFrontage        LotArea  OverallQual  \\\n",
              "count  1460.000000  1460.000000  1201.000000    1460.000000  1460.000000   \n",
              "mean    730.500000    56.897260    70.049958   10516.828082     6.099315   \n",
              "std     421.610009    42.300571    24.284752    9981.264932     1.382997   \n",
              "min       1.000000    20.000000    21.000000    1300.000000     1.000000   \n",
              "25%     365.750000    20.000000    59.000000    7553.500000     5.000000   \n",
              "50%     730.500000    50.000000    69.000000    9478.500000     6.000000   \n",
              "75%    1095.250000    70.000000    80.000000   11601.500000     7.000000   \n",
              "max    1460.000000   190.000000   313.000000  215245.000000    10.000000   \n",
              "\n",
              "       OverallCond    YearBuilt  YearRemodAdd   MasVnrArea   BsmtFinSF1  ...  \\\n",
              "count  1460.000000  1460.000000   1460.000000  1452.000000  1460.000000  ...   \n",
              "mean      5.575342  1971.267808   1984.865753   103.685262   443.639726  ...   \n",
              "std       1.112799    30.202904     20.645407   181.066207   456.098091  ...   \n",
              "min       1.000000  1872.000000   1950.000000     0.000000     0.000000  ...   \n",
              "25%       5.000000  1954.000000   1967.000000     0.000000     0.000000  ...   \n",
              "50%       5.000000  1973.000000   1994.000000     0.000000   383.500000  ...   \n",
              "75%       6.000000  2000.000000   2004.000000   166.000000   712.250000  ...   \n",
              "max       9.000000  2010.000000   2010.000000  1600.000000  5644.000000  ...   \n",
              "\n",
              "        WoodDeckSF  OpenPorchSF  EnclosedPorch    3SsnPorch  ScreenPorch  \\\n",
              "count  1460.000000  1460.000000    1460.000000  1460.000000  1460.000000   \n",
              "mean     94.244521    46.660274      21.954110     3.409589    15.060959   \n",
              "std     125.338794    66.256028      61.119149    29.317331    55.757415   \n",
              "min       0.000000     0.000000       0.000000     0.000000     0.000000   \n",
              "25%       0.000000     0.000000       0.000000     0.000000     0.000000   \n",
              "50%       0.000000    25.000000       0.000000     0.000000     0.000000   \n",
              "75%     168.000000    68.000000       0.000000     0.000000     0.000000   \n",
              "max     857.000000   547.000000     552.000000   508.000000   480.000000   \n",
              "\n",
              "          PoolArea       MiscVal       MoSold       YrSold      SalePrice  \n",
              "count  1460.000000   1460.000000  1460.000000  1460.000000    1460.000000  \n",
              "mean      2.758904     43.489041     6.321918  2007.815753  180921.195890  \n",
              "std      40.177307    496.123024     2.703626     1.328095   79442.502883  \n",
              "min       0.000000      0.000000     1.000000  2006.000000   34900.000000  \n",
              "25%       0.000000      0.000000     5.000000  2007.000000  129975.000000  \n",
              "50%       0.000000      0.000000     6.000000  2008.000000  163000.000000  \n",
              "75%       0.000000      0.000000     8.000000  2009.000000  214000.000000  \n",
              "max     738.000000  15500.000000    12.000000  2010.000000  755000.000000  \n",
              "\n",
              "[8 rows x 38 columns]"
            ]
          },
          "execution_count": 129,
          "metadata": {},
          "output_type": "execute_result"
        }
      ]
    },
    {
      "cell_type": "code",
      "metadata": {
        "id": "8ID4EXFunGF7",
        "outputId": "6e6b8958-8780-45b4-d60b-aa686f3b55c1"
      },
      "source": [
        "test.describe()"
      ],
      "execution_count": null,
      "outputs": [
        {
          "data": {
            "text/html": [
              "<div>\n",
              "<style scoped>\n",
              "    .dataframe tbody tr th:only-of-type {\n",
              "        vertical-align: middle;\n",
              "    }\n",
              "\n",
              "    .dataframe tbody tr th {\n",
              "        vertical-align: top;\n",
              "    }\n",
              "\n",
              "    .dataframe thead th {\n",
              "        text-align: right;\n",
              "    }\n",
              "</style>\n",
              "<table border=\"1\" class=\"dataframe\">\n",
              "  <thead>\n",
              "    <tr style=\"text-align: right;\">\n",
              "      <th></th>\n",
              "      <th>Id</th>\n",
              "      <th>MSSubClass</th>\n",
              "      <th>LotFrontage</th>\n",
              "      <th>LotArea</th>\n",
              "      <th>OverallQual</th>\n",
              "      <th>OverallCond</th>\n",
              "      <th>YearBuilt</th>\n",
              "      <th>YearRemodAdd</th>\n",
              "      <th>MasVnrArea</th>\n",
              "      <th>BsmtFinSF1</th>\n",
              "      <th>...</th>\n",
              "      <th>GarageArea</th>\n",
              "      <th>WoodDeckSF</th>\n",
              "      <th>OpenPorchSF</th>\n",
              "      <th>EnclosedPorch</th>\n",
              "      <th>3SsnPorch</th>\n",
              "      <th>ScreenPorch</th>\n",
              "      <th>PoolArea</th>\n",
              "      <th>MiscVal</th>\n",
              "      <th>MoSold</th>\n",
              "      <th>YrSold</th>\n",
              "    </tr>\n",
              "  </thead>\n",
              "  <tbody>\n",
              "    <tr>\n",
              "      <th>count</th>\n",
              "      <td>1459.000000</td>\n",
              "      <td>1459.000000</td>\n",
              "      <td>1232.000000</td>\n",
              "      <td>1459.000000</td>\n",
              "      <td>1459.000000</td>\n",
              "      <td>1459.000000</td>\n",
              "      <td>1459.000000</td>\n",
              "      <td>1459.000000</td>\n",
              "      <td>1444.000000</td>\n",
              "      <td>1458.000000</td>\n",
              "      <td>...</td>\n",
              "      <td>1458.000000</td>\n",
              "      <td>1459.000000</td>\n",
              "      <td>1459.000000</td>\n",
              "      <td>1459.000000</td>\n",
              "      <td>1459.000000</td>\n",
              "      <td>1459.000000</td>\n",
              "      <td>1459.000000</td>\n",
              "      <td>1459.000000</td>\n",
              "      <td>1459.000000</td>\n",
              "      <td>1459.000000</td>\n",
              "    </tr>\n",
              "    <tr>\n",
              "      <th>mean</th>\n",
              "      <td>2190.000000</td>\n",
              "      <td>57.378341</td>\n",
              "      <td>68.580357</td>\n",
              "      <td>9819.161069</td>\n",
              "      <td>6.078821</td>\n",
              "      <td>5.553804</td>\n",
              "      <td>1971.357779</td>\n",
              "      <td>1983.662783</td>\n",
              "      <td>100.709141</td>\n",
              "      <td>439.203704</td>\n",
              "      <td>...</td>\n",
              "      <td>472.768861</td>\n",
              "      <td>93.174777</td>\n",
              "      <td>48.313914</td>\n",
              "      <td>24.243317</td>\n",
              "      <td>1.794380</td>\n",
              "      <td>17.064428</td>\n",
              "      <td>1.744345</td>\n",
              "      <td>58.167923</td>\n",
              "      <td>6.104181</td>\n",
              "      <td>2007.769705</td>\n",
              "    </tr>\n",
              "    <tr>\n",
              "      <th>std</th>\n",
              "      <td>421.321334</td>\n",
              "      <td>42.746880</td>\n",
              "      <td>22.376841</td>\n",
              "      <td>4955.517327</td>\n",
              "      <td>1.436812</td>\n",
              "      <td>1.113740</td>\n",
              "      <td>30.390071</td>\n",
              "      <td>21.130467</td>\n",
              "      <td>177.625900</td>\n",
              "      <td>455.268042</td>\n",
              "      <td>...</td>\n",
              "      <td>217.048611</td>\n",
              "      <td>127.744882</td>\n",
              "      <td>68.883364</td>\n",
              "      <td>67.227765</td>\n",
              "      <td>20.207842</td>\n",
              "      <td>56.609763</td>\n",
              "      <td>30.491646</td>\n",
              "      <td>630.806978</td>\n",
              "      <td>2.722432</td>\n",
              "      <td>1.301740</td>\n",
              "    </tr>\n",
              "    <tr>\n",
              "      <th>min</th>\n",
              "      <td>1461.000000</td>\n",
              "      <td>20.000000</td>\n",
              "      <td>21.000000</td>\n",
              "      <td>1470.000000</td>\n",
              "      <td>1.000000</td>\n",
              "      <td>1.000000</td>\n",
              "      <td>1879.000000</td>\n",
              "      <td>1950.000000</td>\n",
              "      <td>0.000000</td>\n",
              "      <td>0.000000</td>\n",
              "      <td>...</td>\n",
              "      <td>0.000000</td>\n",
              "      <td>0.000000</td>\n",
              "      <td>0.000000</td>\n",
              "      <td>0.000000</td>\n",
              "      <td>0.000000</td>\n",
              "      <td>0.000000</td>\n",
              "      <td>0.000000</td>\n",
              "      <td>0.000000</td>\n",
              "      <td>1.000000</td>\n",
              "      <td>2006.000000</td>\n",
              "    </tr>\n",
              "    <tr>\n",
              "      <th>25%</th>\n",
              "      <td>1825.500000</td>\n",
              "      <td>20.000000</td>\n",
              "      <td>58.000000</td>\n",
              "      <td>7391.000000</td>\n",
              "      <td>5.000000</td>\n",
              "      <td>5.000000</td>\n",
              "      <td>1953.000000</td>\n",
              "      <td>1963.000000</td>\n",
              "      <td>0.000000</td>\n",
              "      <td>0.000000</td>\n",
              "      <td>...</td>\n",
              "      <td>318.000000</td>\n",
              "      <td>0.000000</td>\n",
              "      <td>0.000000</td>\n",
              "      <td>0.000000</td>\n",
              "      <td>0.000000</td>\n",
              "      <td>0.000000</td>\n",
              "      <td>0.000000</td>\n",
              "      <td>0.000000</td>\n",
              "      <td>4.000000</td>\n",
              "      <td>2007.000000</td>\n",
              "    </tr>\n",
              "    <tr>\n",
              "      <th>50%</th>\n",
              "      <td>2190.000000</td>\n",
              "      <td>50.000000</td>\n",
              "      <td>67.000000</td>\n",
              "      <td>9399.000000</td>\n",
              "      <td>6.000000</td>\n",
              "      <td>5.000000</td>\n",
              "      <td>1973.000000</td>\n",
              "      <td>1992.000000</td>\n",
              "      <td>0.000000</td>\n",
              "      <td>350.500000</td>\n",
              "      <td>...</td>\n",
              "      <td>480.000000</td>\n",
              "      <td>0.000000</td>\n",
              "      <td>28.000000</td>\n",
              "      <td>0.000000</td>\n",
              "      <td>0.000000</td>\n",
              "      <td>0.000000</td>\n",
              "      <td>0.000000</td>\n",
              "      <td>0.000000</td>\n",
              "      <td>6.000000</td>\n",
              "      <td>2008.000000</td>\n",
              "    </tr>\n",
              "    <tr>\n",
              "      <th>75%</th>\n",
              "      <td>2554.500000</td>\n",
              "      <td>70.000000</td>\n",
              "      <td>80.000000</td>\n",
              "      <td>11517.500000</td>\n",
              "      <td>7.000000</td>\n",
              "      <td>6.000000</td>\n",
              "      <td>2001.000000</td>\n",
              "      <td>2004.000000</td>\n",
              "      <td>164.000000</td>\n",
              "      <td>753.500000</td>\n",
              "      <td>...</td>\n",
              "      <td>576.000000</td>\n",
              "      <td>168.000000</td>\n",
              "      <td>72.000000</td>\n",
              "      <td>0.000000</td>\n",
              "      <td>0.000000</td>\n",
              "      <td>0.000000</td>\n",
              "      <td>0.000000</td>\n",
              "      <td>0.000000</td>\n",
              "      <td>8.000000</td>\n",
              "      <td>2009.000000</td>\n",
              "    </tr>\n",
              "    <tr>\n",
              "      <th>max</th>\n",
              "      <td>2919.000000</td>\n",
              "      <td>190.000000</td>\n",
              "      <td>200.000000</td>\n",
              "      <td>56600.000000</td>\n",
              "      <td>10.000000</td>\n",
              "      <td>9.000000</td>\n",
              "      <td>2010.000000</td>\n",
              "      <td>2010.000000</td>\n",
              "      <td>1290.000000</td>\n",
              "      <td>4010.000000</td>\n",
              "      <td>...</td>\n",
              "      <td>1488.000000</td>\n",
              "      <td>1424.000000</td>\n",
              "      <td>742.000000</td>\n",
              "      <td>1012.000000</td>\n",
              "      <td>360.000000</td>\n",
              "      <td>576.000000</td>\n",
              "      <td>800.000000</td>\n",
              "      <td>17000.000000</td>\n",
              "      <td>12.000000</td>\n",
              "      <td>2010.000000</td>\n",
              "    </tr>\n",
              "  </tbody>\n",
              "</table>\n",
              "<p>8 rows × 37 columns</p>\n",
              "</div>"
            ],
            "text/plain": [
              "                Id   MSSubClass  LotFrontage       LotArea  OverallQual  \\\n",
              "count  1459.000000  1459.000000  1232.000000   1459.000000  1459.000000   \n",
              "mean   2190.000000    57.378341    68.580357   9819.161069     6.078821   \n",
              "std     421.321334    42.746880    22.376841   4955.517327     1.436812   \n",
              "min    1461.000000    20.000000    21.000000   1470.000000     1.000000   \n",
              "25%    1825.500000    20.000000    58.000000   7391.000000     5.000000   \n",
              "50%    2190.000000    50.000000    67.000000   9399.000000     6.000000   \n",
              "75%    2554.500000    70.000000    80.000000  11517.500000     7.000000   \n",
              "max    2919.000000   190.000000   200.000000  56600.000000    10.000000   \n",
              "\n",
              "       OverallCond    YearBuilt  YearRemodAdd   MasVnrArea   BsmtFinSF1  ...  \\\n",
              "count  1459.000000  1459.000000   1459.000000  1444.000000  1458.000000  ...   \n",
              "mean      5.553804  1971.357779   1983.662783   100.709141   439.203704  ...   \n",
              "std       1.113740    30.390071     21.130467   177.625900   455.268042  ...   \n",
              "min       1.000000  1879.000000   1950.000000     0.000000     0.000000  ...   \n",
              "25%       5.000000  1953.000000   1963.000000     0.000000     0.000000  ...   \n",
              "50%       5.000000  1973.000000   1992.000000     0.000000   350.500000  ...   \n",
              "75%       6.000000  2001.000000   2004.000000   164.000000   753.500000  ...   \n",
              "max       9.000000  2010.000000   2010.000000  1290.000000  4010.000000  ...   \n",
              "\n",
              "        GarageArea   WoodDeckSF  OpenPorchSF  EnclosedPorch    3SsnPorch  \\\n",
              "count  1458.000000  1459.000000  1459.000000    1459.000000  1459.000000   \n",
              "mean    472.768861    93.174777    48.313914      24.243317     1.794380   \n",
              "std     217.048611   127.744882    68.883364      67.227765    20.207842   \n",
              "min       0.000000     0.000000     0.000000       0.000000     0.000000   \n",
              "25%     318.000000     0.000000     0.000000       0.000000     0.000000   \n",
              "50%     480.000000     0.000000    28.000000       0.000000     0.000000   \n",
              "75%     576.000000   168.000000    72.000000       0.000000     0.000000   \n",
              "max    1488.000000  1424.000000   742.000000    1012.000000   360.000000   \n",
              "\n",
              "       ScreenPorch     PoolArea       MiscVal       MoSold       YrSold  \n",
              "count  1459.000000  1459.000000   1459.000000  1459.000000  1459.000000  \n",
              "mean     17.064428     1.744345     58.167923     6.104181  2007.769705  \n",
              "std      56.609763    30.491646    630.806978     2.722432     1.301740  \n",
              "min       0.000000     0.000000      0.000000     1.000000  2006.000000  \n",
              "25%       0.000000     0.000000      0.000000     4.000000  2007.000000  \n",
              "50%       0.000000     0.000000      0.000000     6.000000  2008.000000  \n",
              "75%       0.000000     0.000000      0.000000     8.000000  2009.000000  \n",
              "max     576.000000   800.000000  17000.000000    12.000000  2010.000000  \n",
              "\n",
              "[8 rows x 37 columns]"
            ]
          },
          "execution_count": 43,
          "metadata": {},
          "output_type": "execute_result"
        }
      ]
    },
    {
      "cell_type": "code",
      "metadata": {
        "id": "N3lp2XpenGF8",
        "outputId": "5d63231f-c300-418d-b31d-2dca6f2875f2"
      },
      "source": [
        "#plots of all explanatory variables\n",
        "train.hist(bins=50, figsize=(20,15))\n",
        "plt.savefig(\"attribute_histogram_plots\")\n",
        "plt.show()"
      ],
      "execution_count": null,
      "outputs": [
        {
          "data": {
            "image/png": "[encoded data removed]",
            "text/plain": [
              "<Figure size 1440x1080 with 42 Axes>"
            ]
          },
          "metadata": {
            "needs_background": "light"
          },
          "output_type": "display_data"
        }
      ]
    },
    {
      "cell_type": "code",
      "metadata": {
        "id": "R1z6ss-snGF8",
        "outputId": "ecd73023-02d3-4913-a344-5479201d9796"
      },
      "source": [
        "corr_matrix = train.corr()\n",
        "corr_matrix[\"SalePrice\"].sort_values(ascending=False)"
      ],
      "execution_count": null,
      "outputs": [
        {
          "data": {
            "text/plain": [
              "SalePrice        1.000000\n",
              "OverallQual      0.790982\n",
              "GrLivArea        0.708624\n",
              "GarageCars       0.640409\n",
              "GarageArea       0.623431\n",
              "TotalBsmtSF      0.613581\n",
              "1stFlrSF         0.605852\n",
              "FullBath         0.560664\n",
              "TotRmsAbvGrd     0.533723\n",
              "YearBuilt        0.522897\n",
              "YearRemodAdd     0.507101\n",
              "GarageYrBlt      0.486362\n",
              "MasVnrArea       0.477493\n",
              "Fireplaces       0.466929\n",
              "BsmtFinSF1       0.386420\n",
              "LotFrontage      0.351799\n",
              "WoodDeckSF       0.324413\n",
              "2ndFlrSF         0.319334\n",
              "OpenPorchSF      0.315856\n",
              "HalfBath         0.284108\n",
              "LotArea          0.263843\n",
              "BsmtFullBath     0.227122\n",
              "BsmtUnfSF        0.214479\n",
              "BedroomAbvGr     0.168213\n",
              "ScreenPorch      0.111447\n",
              "PoolArea         0.092404\n",
              "MoSold           0.046432\n",
              "3SsnPorch        0.044584\n",
              "BsmtFinSF2      -0.011378\n",
              "BsmtHalfBath    -0.016844\n",
              "MiscVal         -0.021190\n",
              "Id              -0.021917\n",
              "LowQualFinSF    -0.025606\n",
              "YrSold          -0.028923\n",
              "OverallCond     -0.077856\n",
              "MSSubClass      -0.084284\n",
              "EnclosedPorch   -0.128578\n",
              "KitchenAbvGr    -0.135907\n",
              "Name: SalePrice, dtype: float64"
            ]
          },
          "execution_count": 45,
          "metadata": {},
          "output_type": "execute_result"
        }
      ]
    },
    {
      "cell_type": "code",
      "metadata": {
        "id": "43RzagdanGF9",
        "outputId": "2ba01673-c457-4509-b2bb-456c9534c818"
      },
      "source": [
        "train.plot(kind=\"scatter\", x=\"OverallQual\", y=\"SalePrice\", alpha=0.4)"
      ],
      "execution_count": null,
      "outputs": [
        {
          "data": {
            "text/plain": [
              "<AxesSubplot:xlabel='OverallQual', ylabel='SalePrice'>"
            ]
          },
          "execution_count": 138,
          "metadata": {},
          "output_type": "execute_result"
        },
        {
          "data": {
            "image/png": "[encoded data removed]",
            "text/plain": [
              "<Figure size 432x288 with 1 Axes>"
            ]
          },
          "metadata": {
            "needs_background": "light"
          },
          "output_type": "display_data"
        }
      ]
    },
    {
      "cell_type": "code",
      "metadata": {
        "id": "IsauJiH1nGF9",
        "outputId": "d5d5b20f-b851-41b5-adc0-4e1a105ab84f"
      },
      "source": [
        "train.plot(kind=\"scatter\", x=\"GrLivArea\", y=\"SalePrice\", alpha=0.6)"
      ],
      "execution_count": null,
      "outputs": [
        {
          "data": {
            "text/plain": [
              "<AxesSubplot:xlabel='GrLivArea', ylabel='SalePrice'>"
            ]
          },
          "execution_count": 139,
          "metadata": {},
          "output_type": "execute_result"
        },
        {
          "data": {
            "image/png": "[encoded data removed]",
            "text/plain": [
              "<Figure size 432x288 with 1 Axes>"
            ]
          },
          "metadata": {
            "needs_background": "light"
          },
          "output_type": "display_data"
        }
      ]
    },
    {
      "cell_type": "code",
      "metadata": {
        "id": "HykeJYTDnGF-",
        "outputId": "232f5013-dd1d-42a3-dc04-6925815b898b"
      },
      "source": [
        "train.plot(kind=\"scatter\", x=\"GarageCars\", y=\"SalePrice\", alpha=0.5)"
      ],
      "execution_count": null,
      "outputs": [
        {
          "data": {
            "text/plain": [
              "<AxesSubplot:xlabel='GarageCars', ylabel='SalePrice'>"
            ]
          },
          "execution_count": 140,
          "metadata": {},
          "output_type": "execute_result"
        },
        {
          "data": {
            "image/png": "[encoded data removed]",
            "text/plain": [
              "<Figure size 432x288 with 1 Axes>"
            ]
          },
          "metadata": {
            "needs_background": "light"
          },
          "output_type": "display_data"
        }
      ]
    },
    {
      "cell_type": "code",
      "metadata": {
        "id": "feq6VGvfnGF-",
        "outputId": "f1045ffc-07db-4ed2-bd9e-82507333d2b4"
      },
      "source": [
        "train.boxplot(column=['OverallQual', 'GrLivArea', 'GarageCars', 'GarageArea'])"
      ],
      "execution_count": null,
      "outputs": [
        {
          "data": {
            "text/plain": [
              "<AxesSubplot:>"
            ]
          },
          "execution_count": 137,
          "metadata": {},
          "output_type": "execute_result"
        },
        {
          "data": {
            "image/png": "[encoded data removed]",
            "text/plain": [
              "<Figure size 432x288 with 1 Axes>"
            ]
          },
          "metadata": {
            "needs_background": "light"
          },
          "output_type": "display_data"
        }
      ]
    },
    {
      "cell_type": "code",
      "metadata": {
        "id": "_Hjl5ansnGF_"
      },
      "source": [
        "train.fillna(train_dataset.mean(), inplace = True)\n",
        "test.fillna(test_dataset.mean(), inplace = True)"
      ],
      "execution_count": null,
      "outputs": []
    },
    {
      "cell_type": "code",
      "metadata": {
        "id": "bj6cmAp9nGF_",
        "outputId": "c164c73b-7ade-483c-988e-c2c5501f2ece"
      },
      "source": [
        "cols = ('GarageCond', 'RoofStyle', 'LandContour',  'Electrical', 'RoofMatl', 'Heating', 'Foundation', 'MiscFeature', 'SaleType', 'GarageType', 'SaleCondition', 'Exterior1st', 'Exterior2nd', 'MasVnrType', 'FireplaceQu', 'LotConfig', 'Neighborhood', 'Condition1', 'Condition2', 'Utilities', 'BldgType', 'HouseStyle','PoolQC', 'BsmtQual', 'BsmtCond', 'GarageQual','BsmtExposure', 'ExterQual', 'ExterCond','HeatingQC', 'KitchenQual', 'BsmtFinType1','BsmtFinType2', 'Functional', 'Fence', 'GarageFinish', 'LandSlope','LotShape', 'PavedDrive', 'Street', 'Alley', 'CentralAir', 'MSSubClass', 'OverallCond', 'YrSold', 'MoSold', 'MSZoning')\n",
        "for i in cols:\n",
        "    le = LabelEncoder()\n",
        "    le.fit(list(train_dataset[i].values))\n",
        "    train[i] = le.transform(list(train_dataset[i].values))\n",
        "x = train[train_dataset.columns[:80]]\n",
        "y = train['SalePrice']\n",
        "xtrain, xtest, ytrain, ytest = model_selection.train_test_split(x, y, test_size=0.2)\n",
        "reg = LinearRegression()  \n",
        "reg.fit(xtrain, ytrain)\n",
        "values_predcited = reg.predict(xtest)\n",
        "print(\"R-Square value of linear Regression : \", reg.score(xtrain,ytrain))\n",
        "sales_predict = pd.DataFrame(values_predcited, columns =['Sales prediction'])\n",
        "sales_predict"
      ],
      "execution_count": null,
      "outputs": [
        {
          "name": "stdout",
          "output_type": "stream",
          "text": [
            "R-Square value of linear Regression :  0.8540196314324201\n"
          ]
        },
        {
          "data": {
            "text/html": [
              "<div>\n",
              "<style scoped>\n",
              "    .dataframe tbody tr th:only-of-type {\n",
              "        vertical-align: middle;\n",
              "    }\n",
              "\n",
              "    .dataframe tbody tr th {\n",
              "        vertical-align: top;\n",
              "    }\n",
              "\n",
              "    .dataframe thead th {\n",
              "        text-align: right;\n",
              "    }\n",
              "</style>\n",
              "<table border=\"1\" class=\"dataframe\">\n",
              "  <thead>\n",
              "    <tr style=\"text-align: right;\">\n",
              "      <th></th>\n",
              "      <th>Sales prediction</th>\n",
              "    </tr>\n",
              "  </thead>\n",
              "  <tbody>\n",
              "    <tr>\n",
              "      <th>0</th>\n",
              "      <td>55767.275408</td>\n",
              "    </tr>\n",
              "    <tr>\n",
              "      <th>1</th>\n",
              "      <td>305460.817112</td>\n",
              "    </tr>\n",
              "    <tr>\n",
              "      <th>2</th>\n",
              "      <td>157872.676795</td>\n",
              "    </tr>\n",
              "    <tr>\n",
              "      <th>3</th>\n",
              "      <td>310221.104777</td>\n",
              "    </tr>\n",
              "    <tr>\n",
              "      <th>4</th>\n",
              "      <td>126602.081335</td>\n",
              "    </tr>\n",
              "    <tr>\n",
              "      <th>...</th>\n",
              "      <td>...</td>\n",
              "    </tr>\n",
              "    <tr>\n",
              "      <th>287</th>\n",
              "      <td>303880.768685</td>\n",
              "    </tr>\n",
              "    <tr>\n",
              "      <th>288</th>\n",
              "      <td>115224.115011</td>\n",
              "    </tr>\n",
              "    <tr>\n",
              "      <th>289</th>\n",
              "      <td>249999.109776</td>\n",
              "    </tr>\n",
              "    <tr>\n",
              "      <th>290</th>\n",
              "      <td>176358.049715</td>\n",
              "    </tr>\n",
              "    <tr>\n",
              "      <th>291</th>\n",
              "      <td>277228.966074</td>\n",
              "    </tr>\n",
              "  </tbody>\n",
              "</table>\n",
              "<p>292 rows × 1 columns</p>\n",
              "</div>"
            ],
            "text/plain": [
              "     Sales prediction\n",
              "0        55767.275408\n",
              "1       305460.817112\n",
              "2       157872.676795\n",
              "3       310221.104777\n",
              "4       126602.081335\n",
              "..                ...\n",
              "287     303880.768685\n",
              "288     115224.115011\n",
              "289     249999.109776\n",
              "290     176358.049715\n",
              "291     277228.966074\n",
              "\n",
              "[292 rows x 1 columns]"
            ]
          },
          "execution_count": 135,
          "metadata": {},
          "output_type": "execute_result"
        }
      ]
    },
    {
      "cell_type": "code",
      "metadata": {
        "id": "iG8jHE52nGF_"
      },
      "source": [
        ""
      ],
      "execution_count": null,
      "outputs": []
    },
    {
      "cell_type": "code",
      "metadata": {
        "id": "wH5imPfOnGGA"
      },
      "source": [
        ""
      ],
      "execution_count": null,
      "outputs": []
    }
  ]
}