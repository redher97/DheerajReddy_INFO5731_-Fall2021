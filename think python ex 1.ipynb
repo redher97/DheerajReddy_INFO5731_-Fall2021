{
 "cells": [
  {
   "cell_type": "code",
   "execution_count": 1,
   "id": "d2a7f2e2",
   "metadata": {},
   "outputs": [
    {
     "ename": "SyntaxError",
     "evalue": "Missing parentheses in call to 'print'. Did you mean print(\"i love you\")? (<ipython-input-1-87786f4d840c>, line 1)",
     "output_type": "error",
     "traceback": [
      "\u001b[1;36m  File \u001b[1;32m\"<ipython-input-1-87786f4d840c>\"\u001b[1;36m, line \u001b[1;32m1\u001b[0m\n\u001b[1;33m    print \"i love you\"\u001b[0m\n\u001b[1;37m          ^\u001b[0m\n\u001b[1;31mSyntaxError\u001b[0m\u001b[1;31m:\u001b[0m Missing parentheses in call to 'print'. Did you mean print(\"i love you\")?\n"
     ]
    }
   ],
   "source": [
    "print \"i love you\""
   ]
  },
  {
   "cell_type": "code",
   "execution_count": 2,
   "id": "e8ec6e7d",
   "metadata": {},
   "outputs": [
    {
     "ename": "SyntaxError",
     "evalue": "EOL while scanning string literal (<ipython-input-2-f9235c11175b>, line 1)",
     "output_type": "error",
     "traceback": [
      "\u001b[1;36m  File \u001b[1;32m\"<ipython-input-2-f9235c11175b>\"\u001b[1;36m, line \u001b[1;32m1\u001b[0m\n\u001b[1;33m    print('gsafk)\u001b[0m\n\u001b[1;37m                 ^\u001b[0m\n\u001b[1;31mSyntaxError\u001b[0m\u001b[1;31m:\u001b[0m EOL while scanning string literal\n"
     ]
    }
   ],
   "source": [
    "print('gsafk)"
   ]
  },
  {
   "cell_type": "code",
   "execution_count": 3,
   "id": "5a682143",
   "metadata": {},
   "outputs": [
    {
     "data": {
      "text/plain": [
       "2"
      ]
     },
     "execution_count": 3,
     "metadata": {},
     "output_type": "execute_result"
    }
   ],
   "source": [
    "+2"
   ]
  },
  {
   "cell_type": "code",
   "execution_count": 4,
   "id": "5bf06e90",
   "metadata": {},
   "outputs": [
    {
     "data": {
      "text/plain": [
       "4"
      ]
     },
     "execution_count": 4,
     "metadata": {},
     "output_type": "execute_result"
    }
   ],
   "source": [
    "2++2"
   ]
  },
  {
   "cell_type": "code",
   "execution_count": 5,
   "id": "498bab7b",
   "metadata": {},
   "outputs": [
    {
     "data": {
      "text/plain": [
       "4"
      ]
     },
     "execution_count": 5,
     "metadata": {},
     "output_type": "execute_result"
    }
   ],
   "source": [
    "2--2"
   ]
  },
  {
   "cell_type": "code",
   "execution_count": 6,
   "id": "403e4f59",
   "metadata": {},
   "outputs": [
    {
     "ename": "SyntaxError",
     "evalue": "leading zeros in decimal integer literals are not permitted; use an 0o prefix for octal integers (<ipython-input-6-2e9780ecac58>, line 1)",
     "output_type": "error",
     "traceback": [
      "\u001b[1;36m  File \u001b[1;32m\"<ipython-input-6-2e9780ecac58>\"\u001b[1;36m, line \u001b[1;32m1\u001b[0m\n\u001b[1;33m    011\u001b[0m\n\u001b[1;37m      ^\u001b[0m\n\u001b[1;31mSyntaxError\u001b[0m\u001b[1;31m:\u001b[0m leading zeros in decimal integer literals are not permitted; use an 0o prefix for octal integers\n"
     ]
    }
   ],
   "source": [
    "011"
   ]
  },
  {
   "cell_type": "code",
   "execution_count": 7,
   "id": "31cb4541",
   "metadata": {},
   "outputs": [
    {
     "ename": "SyntaxError",
     "evalue": "invalid syntax (<ipython-input-7-cabe96083dfd>, line 1)",
     "output_type": "error",
     "traceback": [
      "\u001b[1;36m  File \u001b[1;32m\"<ipython-input-7-cabe96083dfd>\"\u001b[1;36m, line \u001b[1;32m1\u001b[0m\n\u001b[1;33m    2  2\u001b[0m\n\u001b[1;37m       ^\u001b[0m\n\u001b[1;31mSyntaxError\u001b[0m\u001b[1;31m:\u001b[0m invalid syntax\n"
     ]
    }
   ],
   "source": [
    "2  2"
   ]
  },
  {
   "cell_type": "code",
   "execution_count": 20,
   "id": "49325022",
   "metadata": {},
   "outputs": [
    {
     "name": "stdout",
     "output_type": "stream",
     "text": [
      "2562\n",
      "42.7\n"
     ]
    }
   ],
   "source": [
    "minutes=42+42/60\n",
    "seconds = 42*60+42\n",
    "hours= 42.7/60\n",
    "print(seconds)\n",
    "print(minutes)"
   ]
  },
  {
   "cell_type": "code",
   "execution_count": 14,
   "id": "e60a1ca8",
   "metadata": {},
   "outputs": [
    {
     "name": "stdout",
     "output_type": "stream",
     "text": [
      "6.211180124223602\n"
     ]
    }
   ],
   "source": [
    "miles = 10/1.61\n",
    "print(miles)"
   ]
  },
  {
   "cell_type": "markdown",
   "id": "f81b4b73",
   "metadata": {},
   "source": [
    "pace miles per second= miles/seconds"
   ]
  },
  {
   "cell_type": "code",
   "execution_count": 15,
   "id": "06cd406e",
   "metadata": {},
   "outputs": [
    {
     "name": "stdout",
     "output_type": "stream",
     "text": [
      "0.0024243482139826703\n"
     ]
    }
   ],
   "source": [
    "pacemps= miles/seconds\n",
    "print(pacemps)"
   ]
  },
  {
   "cell_type": "code",
   "execution_count": 18,
   "id": "11779c09",
   "metadata": {},
   "outputs": [
    {
     "name": "stdout",
     "output_type": "stream",
     "text": [
      "0.14546089283896022\n"
     ]
    }
   ],
   "source": [
    "pacempm=miles/minutes\n",
    "print(pacempm)"
   ]
  },
  {
   "cell_type": "code",
   "execution_count": 21,
   "id": "487963ec",
   "metadata": {},
   "outputs": [
    {
     "name": "stdout",
     "output_type": "stream",
     "text": [
      "8.727653570337614\n"
     ]
    }
   ],
   "source": [
    "pacemph=miles/hours\n",
    "print(pacemph)"
   ]
  },
  {
   "cell_type": "code",
   "execution_count": null,
   "id": "60e90a42",
   "metadata": {},
   "outputs": [],
   "source": []
  }
 ],
 "metadata": {
  "kernelspec": {
   "display_name": "Python 3",
   "language": "python",
   "name": "python3"
  },
  "language_info": {
   "codemirror_mode": {
    "name": "ipython",
    "version": 3
   },
   "file_extension": ".py",
   "mimetype": "text/x-python",
   "name": "python",
   "nbconvert_exporter": "python",
   "pygments_lexer": "ipython3",
   "version": "3.8.8"
  }
 },
 "nbformat": 4,
 "nbformat_minor": 5
}
