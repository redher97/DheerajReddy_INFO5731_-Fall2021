{
  "nbformat": 4,
  "nbformat_minor": 0,
  "metadata": {
    "kernelspec": {
      "display_name": "Python 3",
      "language": "python",
      "name": "python3"
    },
    "language_info": {
      "codemirror_mode": {
        "name": "ipython",
        "version": 3
      },
      "file_extension": ".py",
      "mimetype": "text/x-python",
      "name": "python",
      "nbconvert_exporter": "python",
      "pygments_lexer": "ipython3",
      "version": "3.8.8"
    },
    "colab": {
      "name": "In-class exercise 3 ",
      "provenance": [],
      "collapsed_sections": [],
      "include_colab_link": true
    }
  },
  "cells": [
    {
      "cell_type": "markdown",
      "metadata": {
        "id": "view-in-github",
        "colab_type": "text"
      },
      "source": [
        "<a href=\"https://colab.research.google.com/github/redher97/DheerajReddy_INFO5731_-Fall2021/blob/main/In_class_exercise_3.ipynb\" target=\"_parent\"><img src=\"https://colab.research.google.com/assets/colab-badge.svg\" alt=\"Open In Colab\"/></a>"
      ]
    },
    {
      "cell_type": "markdown",
      "metadata": {
        "id": "p8vb5IY9vPQk"
      },
      "source": [
        "## The third In-class-exercise (9/29/2021, 40 points in total)"
      ]
    },
    {
      "cell_type": "markdown",
      "metadata": {
        "id": "c6ZkjY34vPQq"
      },
      "source": [
        "The purpose of this exercise is to understand text representation."
      ]
    },
    {
      "cell_type": "markdown",
      "metadata": {
        "id": "Rp-RDCZvvPQr"
      },
      "source": [
        "Question 1 (10 points): Describe an interesting text classification or text mining task and explain what kind of features might be useful for you to build the machine learning model. List your features and explain why these features might be helpful. You need to list at least five different types of features."
      ]
    },
    {
      "cell_type": "code",
      "metadata": {
        "colab": {
          "base_uri": "https://localhost:8080/"
        },
        "id": "pzc2mGrevPQs",
        "outputId": "341d0cbc-c786-4748-e3cb-aa09358d14b0"
      },
      "source": [
        "import string\n",
        "punctuations= string.punctuation\n",
        "import nltk\n",
        "nltk.download('stopwords')\n",
        "nltk.download('wordnet')\n",
        "from nltk.corpus import stopwords\n",
        "stopword_list = stopwords.words(\"english\")\n",
        "from nltk.stem.wordnet import WordNetLemmatizer\n",
        "lem = WordNetLemmatizer()\n",
        "from nltk.tokenize import word_tokenize\n",
        "nltk.download('punkt')"
      ],
      "execution_count": null,
      "outputs": [
        {
          "output_type": "stream",
          "name": "stdout",
          "text": [
            "[nltk_data] Downloading package stopwords to /root/nltk_data...\n",
            "[nltk_data]   Unzipping corpora/stopwords.zip.\n",
            "[nltk_data] Downloading package wordnet to /root/nltk_data...\n",
            "[nltk_data]   Unzipping corpora/wordnet.zip.\n",
            "[nltk_data] Downloading package punkt to /root/nltk_data...\n",
            "[nltk_data]   Unzipping tokenizers/punkt.zip.\n"
          ]
        },
        {
          "output_type": "execute_result",
          "data": {
            "text/plain": [
              "True"
            ]
          },
          "metadata": {},
          "execution_count": 1
        }
      ]
    },
    {
      "cell_type": "code",
      "metadata": {
        "colab": {
          "base_uri": "https://localhost:8080/",
          "height": 88
        },
        "id": "5kcVSLDqvPQv",
        "outputId": "e196de77-aac1-4bdf-851a-d03f306be157"
      },
      "source": [
        "# Your answer here (no code for this question, write down your answer as detail as possible for the above questions):\n",
        "\n",
        "'''\n",
        "Please write you answer here:\n",
        "Title:Analyzing the success status of shang chi movie based on imdb reviews \n",
        "The features that are going to help us in building this ML model are reviews,time of review,author,title,rating.\n",
        "\n",
        "Reviews have been selected beacuse it has sole contribution for analysing shang chi movie based on text.\n",
        "Name and time of review helps in knowing who has given the review and when.\n",
        "Title helps in summarising the review for brief explanation.\n",
        "rating help in quantifying success rate of the movie with numerics.\n",
        "\n",
        "\n",
        "\n",
        "\n",
        "'''"
      ],
      "execution_count": null,
      "outputs": [
        {
          "output_type": "execute_result",
          "data": {
            "application/vnd.google.colaboratory.intrinsic+json": {
              "type": "string"
            },
            "text/plain": [
              "'\\nPlease write you answer here:\\nTitle:Analyzing the success status of shang chi movie based on imdb reviews \\nThe features that are going to help us in building this ML model are reviews,time of review,author,title,rating.\\n\\nReviews have been selected beacuse it has sole contribution for analysing shang chi movie based on text.\\nName and time of review helps in knowing who has given the review and when.\\nTitle helps in summarising the review for brief explanation.\\nrating help in quantifying success rate of the movie with numerics.\\n\\n\\n\\n\\n'"
            ]
          },
          "metadata": {},
          "execution_count": 2
        }
      ]
    },
    {
      "cell_type": "markdown",
      "metadata": {
        "id": "KYpoVey2vPQv"
      },
      "source": [
        "Question 2 (20 points): Write python code to extract these features you discussed above. You can collect a few sample text data for the feature extraction. "
      ]
    },
    {
      "cell_type": "code",
      "metadata": {
        "id": "F3lj-zNgvPQv"
      },
      "source": [
        "# You code here (Please add comments in the code):\n",
        "import urllib.request\n",
        "site = \"https://www.imdb.com/title/tt9376612/reviews?ref_=tt_urv\"\n",
        "page = urllib.request.urlopen(site) # http request\n",
        "from bs4 import BeautifulSoup\n",
        "soup = BeautifulSoup(page) #web handle\n",
        "reviews= soup.find_all(class_=\"lister-item-content\") "
      ],
      "execution_count": null,
      "outputs": []
    },
    {
      "cell_type": "code",
      "metadata": {
        "id": "S5YohKOHvPQw"
      },
      "source": [
        "titles=[]\n",
        "dates=[]\n",
        "text=[]\n",
        "rating=[] \n",
        "for a in soup.findAll('a', class_='title'): # finding title tag\n",
        "            titles.append(a.text)\n",
        "        \n",
        "for a in soup.findAll(class_='display-name-date'): # finding name tag\n",
        "            dates.append(a.text)\n",
        "for a in soup.findAll(class_='content'): # finding text tag\n",
        "            text.append(a.text)\n",
        "for a in soup.findAll(class_='ipl-ratings-bar'): # finding rating tag\n",
        "            rating.append(a.text)\n",
        "titles_clean = []\n",
        "dates_clean=[]\n",
        "text_clean=[]\n",
        "rating_clean=[]\n",
        "for element in titles:\n",
        "    titles_clean.append(element.strip()) # cleaning data\n",
        "for element in dates:\n",
        "    dates_clean.append(element.strip()) # cleaning data\n",
        "for element in text:\n",
        "    text_clean.append(element.strip()) # cleaning data\n",
        "for element in rating:\n",
        "    rating_clean.append(element.strip()) # cleaning data"
      ],
      "execution_count": null,
      "outputs": []
    },
    {
      "cell_type": "code",
      "metadata": {
        "colab": {
          "base_uri": "https://localhost:8080/",
          "height": 206
        },
        "id": "PaMrLFt6vPQw",
        "outputId": "d662dee3-41f0-41eb-ca35-470e4d077f83"
      },
      "source": [
        "\n",
        "\n",
        "\n",
        "import pandas as pd\n",
        "def clean_text(text,stop_words=True):\n",
        "    cleaned_text = text.lower() #preprocessing \n",
        "    cleaned_text = \"\".join(c for c in cleaned_text if c not in punctuations) #preprocessing \n",
        "    words = cleaned_text.split() \n",
        "    if stop_words==True:\n",
        "        words = [w for w in words if w not in stopword_list if w != '...'] #preprocessing \n",
        "        words = [w for w in words if w.isdigit() != True and w !='...']\n",
        "        words = [lem.lemmatize(word, \"v\") for word in words]\n",
        "        words = [lem.lemmatize(word, \"n\") for word in words] #preprocessing \n",
        "        cleaned_text = \" \".join(words)\n",
        "    return cleaned_text\n",
        "\n",
        "reviews = pd.DataFrame({ # data frame creation\n",
        "        \"titles\": titles_clean,\n",
        "        \"user name and dates\":dates_clean,\n",
        "        \"ratings\":rating_clean,\n",
        "        \"text\":text_clean\n",
        "})\n",
        "reviews['text'] = reviews['text'].apply(clean_text)\n",
        "reviews.head()\n",
        "\n"
      ],
      "execution_count": null,
      "outputs": [
        {
          "output_type": "execute_result",
          "data": {
            "text/html": [
              "<div>\n",
              "<style scoped>\n",
              "    .dataframe tbody tr th:only-of-type {\n",
              "        vertical-align: middle;\n",
              "    }\n",
              "\n",
              "    .dataframe tbody tr th {\n",
              "        vertical-align: top;\n",
              "    }\n",
              "\n",
              "    .dataframe thead th {\n",
              "        text-align: right;\n",
              "    }\n",
              "</style>\n",
              "<table border=\"1\" class=\"dataframe\">\n",
              "  <thead>\n",
              "    <tr style=\"text-align: right;\">\n",
              "      <th></th>\n",
              "      <th>titles</th>\n",
              "      <th>user name and dates</th>\n",
              "      <th>ratings</th>\n",
              "      <th>text</th>\n",
              "    </tr>\n",
              "  </thead>\n",
              "  <tbody>\n",
              "    <tr>\n",
              "      <th>0</th>\n",
              "      <td>Who knew a superhero film could be so beautiful?</td>\n",
              "      <td>dominicwood-145044 September 2021</td>\n",
              "      <td>9/10</td>\n",
              "      <td>ill start say youre look great story youll dis...</td>\n",
              "    </tr>\n",
              "    <tr>\n",
              "      <th>1</th>\n",
              "      <td>something unique and fresh</td>\n",
              "      <td>laviniadallam2 September 2021</td>\n",
              "      <td>10/10</td>\n",
              "      <td>year almost every movie beingarmed combat one ...</td>\n",
              "    </tr>\n",
              "    <tr>\n",
              "      <th>2</th>\n",
              "      <td>Crouching Tiger, Hidden MARVEL . . . And So MU...</td>\n",
              "      <td>Radio-1s_Mr-MovieMad-Ami_104-1FM8 September 2021</td>\n",
              "      <td>9/10</td>\n",
              "      <td>big screen mini review view sept05 2021katy th...</td>\n",
              "    </tr>\n",
              "    <tr>\n",
              "      <th>3</th>\n",
              "      <td>It's a Visual treat</td>\n",
              "      <td>mhatreritesh4 September 2021</td>\n",
              "      <td>9/10</td>\n",
              "      <td>perfect fantasy film watch full family cant mi...</td>\n",
              "    </tr>\n",
              "    <tr>\n",
              "      <th>4</th>\n",
              "      <td>Best non-avengers MCU movie</td>\n",
              "      <td>nishantsalhotrans6 September 2021</td>\n",
              "      <td>10/10</td>\n",
              "      <td>keep short movie great story write direction a...</td>\n",
              "    </tr>\n",
              "  </tbody>\n",
              "</table>\n",
              "</div>"
            ],
            "text/plain": [
              "                                              titles  ...                                               text\n",
              "0   Who knew a superhero film could be so beautiful?  ...  ill start say youre look great story youll dis...\n",
              "1                         something unique and fresh  ...  year almost every movie beingarmed combat one ...\n",
              "2  Crouching Tiger, Hidden MARVEL . . . And So MU...  ...  big screen mini review view sept05 2021katy th...\n",
              "3                                It's a Visual treat  ...  perfect fantasy film watch full family cant mi...\n",
              "4                        Best non-avengers MCU movie  ...  keep short movie great story write direction a...\n",
              "\n",
              "[5 rows x 4 columns]"
            ]
          },
          "metadata": {},
          "execution_count": 5
        }
      ]
    },
    {
      "cell_type": "markdown",
      "metadata": {
        "id": "JMAuQxrIvPQx"
      },
      "source": [
        "Question 3 (10 points): Use any of the feature selection methods mentioned in this paper \"Deng, X., Li, Y., Weng, J., & Zhang, J. (2019). Feature selection for text classification: A review. Multimedia Tools & Applications, 78(3).\" Select the most important features you extracted above, rank the features based on their importance in the descending order. "
      ]
    },
    {
      "cell_type": "code",
      "metadata": {
        "id": "k1LLrzwOvPQx"
      },
      "source": [
        "from sklearn.feature_extraction.text import TfidfVectorizer #importing vectorizer for feature selection and ranking  \n",
        "import numpy as np"
      ],
      "execution_count": null,
      "outputs": []
    },
    {
      "cell_type": "code",
      "metadata": {
        "colab": {
          "base_uri": "https://localhost:8080/"
        },
        "id": "te2ytl6NvPQx",
        "outputId": "7b2acfe8-7650-4d3d-f58b-b5ef291320f4"
      },
      "source": [
        "vectorizer = TfidfVectorizer()\n",
        "X = vectorizer.fit_transform(reviews['text']) #pulling text feature\n",
        "values_tf= np.argsort(np.asarray(X.sum(axis=0)).ravel())[::-1] #ranking using vectorizer\n",
        "fe_n = np.array(vectorizer.get_feature_names()) # pulling the data into an array\n",
        "fe_n[values_tf]"
      ],
      "execution_count": null,
      "outputs": [
        {
          "output_type": "execute_result",
          "data": {
            "text/plain": [
              "array(['helpful', 'movie', 'film', 'review', 'find', 'permalink', 'vote',\n",
              "       'sign', 'watch', 'marvel', 'best', 'story', 'good', 'one', 'great',\n",
              "       'see', 'fight', 'like', 'make', 'much', 'mcu', 'scene', 'shangchi',\n",
              "       'new', 'well', 'wait', 'full', 'character', 'family', 'cant',\n",
              "       'action', 'screen', 'far', 'everything', 'act', 'love', 'really',\n",
              "       'plot', 'go', 'overall', 'villain', 'perfect', 'super', 'park',\n",
              "       'start', 'way', 'lot', 'time', 'part', 'shang', 'better', 'hand',\n",
              "       'black', 'fan', 'amaze', 'chi', 'even', 'come', 'origin',\n",
              "       'definitely', 'think', 'solid', 'funny', 'hero', 'big', 'type',\n",
              "       'something', 'effect', 'cinema', 'father', 'decent', 'take',\n",
              "       'stream', 'special', 'choreography', 'get', 'widow', 'work',\n",
              "       'first', 'trailer', 'experience', 'bore', 'leave', 'ever', 'also',\n",
              "       'actor', 'biggest', 'theme', 'didnt', 'generally', 'mark', 'end',\n",
              "       'seem', 'cgi', 'miss', 'nothing', 'fantasy', 'keep', 'glad',\n",
              "       'look', 'every', 'year', 'there', 'absolutely', 'ten', 'would',\n",
              "       'kind', 'excite', 'summer', 'adventuremust', 'people', 'worth',\n",
              "       'idea', 'especially', 'mean', 'show', 'tony', 'art', 'martial',\n",
              "       'middle', 'couldnt', 'do', 'say', 'almost', 'visuals', 'treat',\n",
              "       'hide', 'move', 'huge', 'havent', 'spectacular', 'fact', 'liu',\n",
              "       'surprise', 'happy', 'pretty', 'phenomenal', 'disney', 'credit',\n",
              "       'expectation', 'leung', 'cinematic', 'quite', 'nice', 'creative',\n",
              "       'pretend', 'meh', 'give', 'direction', 'else', 'phase', 'try',\n",
              "       'isnt', 'core', 'little', 'second', 'know', 'ring', 'comedy',\n",
              "       'director', 'asian', 'completely', 'antagonist', 'day',\n",
              "       'storybest', 'expectedit', 'this', 'simu', 'otherworldly', 'turn',\n",
              "       'high', 'sequence', 'fu', 'sensation', 'span', 'sensory', 'sight',\n",
              "       'smash', 'entire', 'sound', 'single', 'old', 'fresh', 'feel',\n",
              "       'portray', 'youll', 'shes', 'many', 'combine', 'call', 'kung',\n",
              "       'may', 'audience', 'finale', 'event', 'enjoyable', 'point', 'long',\n",
              "       'standard', 'force', 'mandarin', 'american', 'awkwafina',\n",
              "       'different', 'bad', 'purpose', 'overshadow', 'conflict', 'cruelty',\n",
              "       'personal', 'id', 'prop', 'nonstop', 'guy', 'team', 'quick',\n",
              "       'background', 'hard', 'honest', 'youre', 'fun', 'recommend',\n",
              "       'highly', 'branch', 'sum', 'stay', 'enjoy', 'honestly', 'color',\n",
              "       'soundtrack', 'introduce', 'chinese', 'bite', 'short', 'superb',\n",
              "       'apart', 'ok', 'claim', 'connect', 'mediocre', 'twitter',\n",
              "       'service', 'eye', 'blast', 'disappoint', 'fly', 'either', 'help',\n",
              "       'main', 'whole', 'performance', 'interest', 'stigma', 'martin',\n",
              "       'separate', 'example', 'scorsese', 'generic', 'ive', 'within',\n",
              "       'approach', 'display', 'universe', 'could', 'weak', 'aesthetic',\n",
              "       'shine', 'wenwu', 'culture', 'sure', 'fine', 'absolute', 'feature',\n",
              "       'course', 'chan', 'jackie', '7those', 'continuity', 'number',\n",
              "       'mix', 'badtheres', 'seriousness', 'fansi', 'actiondisney', 'link',\n",
              "       'pitch', 'tinthe', 'avid', 'actually', 'higher', 'include',\n",
              "       'consider', 'yes', 'run', 'representation', 'formulaic', 'element',\n",
              "       'true', 'play', 'later', 'actual', 'superhero', 'explain',\n",
              "       'confuse', 'thing', 'yet', 'deserve', 'certain', 'least', 'star',\n",
              "       'kungfu', 'development', 'secondbest', 'nonavengers', 'night',\n",
              "       'last', 'rush', 'insanethe', 'today', 'sceptical', 'school',\n",
              "       'write', 'directionim', 'authentic', 'role', 'view', 'chill',\n",
              "       'astonish', 'attach', 'combat', 'dance', 'thecinematography',\n",
              "       'moment', 'wasbrilliantgo', 'relate', 'beingarmed', 'laugh',\n",
              "       'previous', 'leungs', 'avenger', 'let', 'shamethe', 'zero',\n",
              "       'candy', 'mandatory', 'sequencesby', 'score', 'perfectly', 'spot',\n",
              "       'portfolio', 'title', 'compete', 'put', 'cinematography', 'among',\n",
              "       'recent', 'muchand', 'alli', 'monster', 'deceive', 'politely',\n",
              "       'stupid', 'exactly', 'rest', 'demon', 'timesoh', 'blind',\n",
              "       'contain', 'megapowerful', 'joke', 'waste', 'hour',\n",
              "       'uninterestingwhy', 'underwhelming', 'cannot', 'care', 'release',\n",
              "       'cartoon', 'usually', 'uncanny', 'wasnt', 'money', 'live', 'spend',\n",
              "       'couple', 'lame', 'never', 'template', 'le', 'wonder',\n",
              "       'dimensional', 'plastic', 'chuckle', 'valley', 'alot', 'beforeif',\n",
              "       'thor', 'pace', 'model', 'serious', 'exact', 'familiar', 'rapid',\n",
              "       'widowwanna', 'min', 'comedic', 'wise', 'finish', 'oh', 'notable',\n",
              "       'difference', 'cool', 'flaw', 'watchable', 'probably', 'overdo',\n",
              "       'anythingthe', 'rebel', 'touch', 'complicate', 'theater', 'lord',\n",
              "       'ad', 'son', 'anything', 'return', 'men', 'leader', 'crime',\n",
              "       'send', 'hate', 'awful', 'spoil', 'seldom', 'preview', 'criminal',\n",
              "       'original', 'next', 'empire', 'away', 'verdict', 'round',\n",
              "       'somewhere', 'watchfinal', 'bigger', 'lacklustre', 'tellersfilm',\n",
              "       'predictable', 'entertainment', 'bring', 'perhaps', 'suppose',\n",
              "       'somewhat', 'though', 'provide', 'genre', 'mculike', 'truth',\n",
              "       'setup', 'group', 'wuxia', 'lack', 'pay', 'im', 'real', 'deliver',\n",
              "       'unexpected', 'distinct', 'visually', 'walk', 'felt', 'destin',\n",
              "       'respective', 'heart', 'thats', 'read', 'late', 'job', 'need',\n",
              "       'place', 'tribute', 'although', 'skill', 'inspire', 'future',\n",
              "       'incredibly', 'regard', 'ill', 'journey', 'hope', 'favourite',\n",
              "       'house', 'panther', 'allow', 'none', 'minute', 'excelsshangchi',\n",
              "       'delightful', 'offin', 'fall', 'others', 'early', 'dagger',\n",
              "       'marathonthe', 'titlesso', 'parallel', 'writer', 'rat', 'lesson',\n",
              "       'shame', 'top', 'disappointingthe', 'worry', 'summary', 'theyre',\n",
              "       'however', 'wrong', 'entertain', 'san', 'depth', 'world', 'half',\n",
              "       'francisco', 'gravitas', 'subtitle', 'western', 'guttsin', 'build',\n",
              "       'freakin', 'fit', 'detail', 'camera', 'fill', 'allthere', 'create',\n",
              "       'gap', 'simultaneously', 'history', 'bridge', 'east', 'song',\n",
              "       'west', 'chemistry', 'complex', 'emotional', 'crettonkiller',\n",
              "       'characterthe', 'cast', 'explore', 'goddamn', 'etc', 'wakanda',\n",
              "       'richthe', 'kick', 'bland', 'scenesthey', 'two',\n",
              "       'magnificentthere', 'thoso', 'underestimate', 'themabout',\n",
              "       'impact', 'pack', 'manjust', 'issickfor', 'kudos', 'shangchithe',\n",
              "       'promos', 'humor', 'shaun', 'lee', 'tiger', 'delight', 'war',\n",
              "       'picture', 'speak', 'crouch', 'yeoh', 'stark', 'immediately',\n",
              "       'official', 'michelle', 'militant', 'ttr', 'comic', 'begin',\n",
              "       'organization', 'furry', 'wong', 'tropey', 'kingpinhowever',\n",
              "       'nonsense', 'mythical', 'themthe', 'callback', 'allan',\n",
              "       'daredevil', 'actorsthe', 'moviesure', 'excellent', 'doesnt',\n",
              "       'filmlastly', 'add', 'whatever', 'weaponry', 'welloverall', 'hows',\n",
              "       'reason', 'relatable', 'small', 'since', 'sister', 'close',\n",
              "       'visit', 'annoy', 'buddy', 'creature', 'buttload', 'brad', 'joy',\n",
              "       'inclusion', 'heck', 'another', 'who', 'dragon', 'set', 'right',\n",
              "       'mention', 'impressive', 'reminiscent', 'receive', 'perform',\n",
              "       'albeit', 'realm', 'legend', 'someone', 'home', 'katy',\n",
              "       'throughout', 'apparent', 'achieve', 'charm', 'double',\n",
              "       'englishspeaking', 'door', 'drama', 'revisit', 'engage', 'paddy',\n",
              "       'stereotypical', 'cheer', 'aid', 'earn', 'remember', 'script',\n",
              "       'average', 'towards', 'step', 'elevate', 'zeitgeist', 'represent',\n",
              "       'dont', 'rumble', 'parkour', 'raise', 'phenomenon', 'sufferit',\n",
              "       'please', 'plunge', 'popcorn', 'portion', 'stronger', 'concern',\n",
              "       'present', 'anytime', 'promise', 'cut', 'r2d2', 'cultural',\n",
              "       'contrast', 'reception', 'personally', 'scenesi', 'constant',\n",
              "       'strikethe', 'person', 'diminish', 'strike', 'swiftly', 'straw',\n",
              "       'strange', 'partkung', 'china', 'still', 'athlete', 'partfamily',\n",
              "       'power', 'sell', 'nowthe', 'university', 'c3pothe', 'bigbudgeted',\n",
              "       'friend', 'large', 'latter', 'across', 'former', 'foreign',\n",
              "       'flashback', 'warm', 'cambodian', 'change', 'fisticuffs', 'age',\n",
              "       'unfortunate', 'locale', 'lose', 'soon', 'bus', 'share',\n",
              "       'filmgoer', 'inject', 'icon', 'hollywood', 'hit', 'immortal',\n",
              "       'village', 'villainous', 'rice', 'hat', 'halfshangchi', 'glance',\n",
              "       'account', 'intensely', 'grow', 'intensity', 'shift', 'bronx',\n",
              "       'introduction', 'want', 'filmsfirst', 'leveli', 'establish',\n",
              "       'fantastical', 'exhaust', '90', 'undercut', 'mvp', 'mythic',\n",
              "       'catch', 'wisdom', 'adventure', 'back', 'banter', 'westerner',\n",
              "       'third', 'version', 'typically', 'admit', 'fare', 'spectacle',\n",
              "       'cgiinfused', 'awardworthy', 'unconvincingshangchis',\n",
              "       'settingsimu', 'alwayscharismatic', 'section', 'classic', '5th',\n",
              "       'certainly', '2021katy', 'book', 'ang', 'already',\n",
              "       'aforementioned', 'bold', 'briefly', 'bloodcurdling', 'aspect',\n",
              "       'chen', 'aka', 'ala', 'bespeak', 'ben', 'believe', 'archetypal',\n",
              "       'arabic', 'afghanistan', 'arab', 'able', 'alien', 'case', 'become',\n",
              "       'accustom', 'atmospheric', 'analysis', 'beautifully',\n",
              "       'centerpiece', 'bruise', 'circa', 'basically', 'bloody', 'zhang',\n",
              "       'companion', 'religion', 'quasimystical', 'quick2', 'raccoon',\n",
              "       'rave', 'realize', 'reference', 'relatively', 'rock', 'principal',\n",
              "       'rookie', 'sadly', 'segment', 'sept05', 'several', 'shangchis',\n",
              "       'sheer', 'prominently', 'potter', 'convey', 'originsstory',\n",
              "       'nerdyseeming', 'newcomer', 'news', 'no50', 'obfuscatory',\n",
              "       'openingact', 'opensurprise', 'outwardly', 'portrayal', 'overlook',\n",
              "       'panache', 'particular', 'passion', 'pertain', 'phenomenally',\n",
              "       'plane', 'shoutout', 'simply', 'slightest', 'usa',\n",
              "       'trulylegendary', 'twist', 'undeniably', 'unequivocal', 'upon',\n",
              "       'upside', 'urdu', 'utter', 'sometime', 'video', 'visavis', 'weve',\n",
              "       'whats', 'whilst', 'whose', 'wonderfully', 'tragic', 'ton',\n",
              "       'throw', 'thoroughly', 'spoiler', 'stan', 'state', 'strongly',\n",
              "       'sudden', 'suddenly', 'suggestion', 'superbly', 'supremely',\n",
              "       'suspense', 'tad', 'tale', 'talk', 'teaser', 'tell', 'narnia',\n",
              "       'muddle', 'mostly', 'fala', 'err', 'ethnic', 'everfabulous',\n",
              "       'everjocular', 'explicit', 'extension', 'face', 'feat',\n",
              "       'fullblown', 'feb', 'fierce', 'fiery', 'figure', 'final', 'flag',\n",
              "       'four', 'era', 'enthral', 'enough', 'endgame', 'correspondingly',\n",
              "       'courage', 'cretton', 'daniel', 'darn', 'demolition', 'derby',\n",
              "       'directorialventure', 'disorient', 'distinctive', 'dollop',\n",
              "       'downside', 'eastern', 'effort', 'empower', 'frighten', 'fyi',\n",
              "       'mini', 'majority', 'islam', 'islamistfundamentalist', 'kingsley',\n",
              "       'legitimate', 'likeable', 'loyalty', 'magical', 'makluan',\n",
              "       'gallantly', 'malaysian', 'measure', 'mega', 'member', 'menger',\n",
              "       'message', 'mind', 'ironman', 'intend', 'initial', 'infinity',\n",
              "       'garner', 'glare', 'globally', 'gosh', 'harry', 'hear', 'hence',\n",
              "       'horribly', 'humble', 'iconic', 'immensely', 'imminentbeheading',\n",
              "       'impassioned', 'implicit', 'inconsistency', '2008s'], dtype='<U22')"
            ]
          },
          "metadata": {},
          "execution_count": 9
        }
      ]
    },
    {
      "cell_type": "code",
      "metadata": {
        "id": "MajJruOzvWuL"
      },
      "source": [
        ""
      ],
      "execution_count": null,
      "outputs": []
    }
  ]
}